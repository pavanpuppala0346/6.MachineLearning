{
 "cells": [
  {
   "cell_type": "markdown",
   "metadata": {},
   "source": [
    "### calculating the bias and variance"
   ]
  },
  {
   "cell_type": "markdown",
   "metadata": {},
   "source": [
    "https://towardsdatascience.com/end-your-bias-about-bias-and-variance-67b16f0eb1e6"
   ]
  },
  {
   "cell_type": "code",
   "execution_count": 1,
   "metadata": {},
   "outputs": [],
   "source": [
    "## Following steps helps in calculating bias and variance for linear and Decision tree model.\n",
    "import pandas as pd\n",
    "import numpy as np\n",
    "import random\n",
    "from sklearn.linear_model import LinearRegression\n",
    "from sklearn.tree import DecisionTreeRegressor"
   ]
  },
  {
   "cell_type": "code",
   "execution_count": 2,
   "metadata": {},
   "outputs": [],
   "source": [
    "## Defining Real population\n",
    "# 5 features and 5000 samples\n",
    "def real_population(x1, x2, x3, x4, x5, size=5000, random_state=1234):\n",
    "    #set.seed(99)\n",
    "    # intercept\n",
    "    b0= 1.1\n",
    "    # coefs\n",
    "    b1=2.2\n",
    "    b2 = 3.3\n",
    "    b3= 4.4\n",
    "    b4=5.5\n",
    "    b5= 6.6\n",
    "    y = b0 + b1*x1 + b2*(x2**2) + b3*(x3*x4) + b4*x4 + b5*x5\n",
    "    #print(y)\n",
    "    r = np.random.RandomState(random_state)\n",
    "    #print(r)\n",
    "    irr_noise = r.normal(-5,10,size)\n",
    "    #print(irr_noise)\n",
    "    y = y + irr_noise\n",
    "    #print(y)\n",
    "    df = pd.DataFrame({'target':y, 'X1':x1, 'X2':x2, 'X3':x3, 'X4':x4, 'X5':x5})\n",
    "    return df"
   ]
  },
  {
   "cell_type": "code",
   "execution_count": 3,
   "metadata": {},
   "outputs": [],
   "source": [
    "## Function to simulate the data as per the real population\n",
    "def simulation_data(size = 5000, random_seed= 101):\n",
    "    np.random.seed(random_seed)\n",
    "    x1 = np.random.rand(size)\n",
    "    x2 = np.random.rand(size)\n",
    "    x3 = np.random.rand(size)\n",
    "    x4 = np.random.rand(size)\n",
    "    x5 = np.random.rand(size)\n",
    "    df = real_population(x1,x2,x3,x4,x5,size)\n",
    "    return df"
   ]
  },
  {
   "cell_type": "markdown",
   "metadata": {},
   "source": [
    "### Test the function"
   ]
  },
  {
   "cell_type": "code",
   "execution_count": 4,
   "metadata": {
    "scrolled": true
   },
   "outputs": [
    {
     "data": {
      "text/html": [
       "<div>\n",
       "<style scoped>\n",
       "    .dataframe tbody tr th:only-of-type {\n",
       "        vertical-align: middle;\n",
       "    }\n",
       "\n",
       "    .dataframe tbody tr th {\n",
       "        vertical-align: top;\n",
       "    }\n",
       "\n",
       "    .dataframe thead th {\n",
       "        text-align: right;\n",
       "    }\n",
       "</style>\n",
       "<table border=\"1\" class=\"dataframe\">\n",
       "  <thead>\n",
       "    <tr style=\"text-align: right;\">\n",
       "      <th></th>\n",
       "      <th>target</th>\n",
       "      <th>X1</th>\n",
       "      <th>X2</th>\n",
       "      <th>X3</th>\n",
       "      <th>X4</th>\n",
       "      <th>X5</th>\n",
       "    </tr>\n",
       "  </thead>\n",
       "  <tbody>\n",
       "    <tr>\n",
       "      <th>0</th>\n",
       "      <td>12.292279</td>\n",
       "      <td>0.516399</td>\n",
       "      <td>0.253181</td>\n",
       "      <td>0.430758</td>\n",
       "      <td>0.716954</td>\n",
       "      <td>0.731545</td>\n",
       "    </tr>\n",
       "    <tr>\n",
       "      <th>1</th>\n",
       "      <td>-3.887578</td>\n",
       "      <td>0.570668</td>\n",
       "      <td>0.112091</td>\n",
       "      <td>0.697556</td>\n",
       "      <td>0.688819</td>\n",
       "      <td>0.715543</td>\n",
       "    </tr>\n",
       "    <tr>\n",
       "      <th>2</th>\n",
       "      <td>15.798936</td>\n",
       "      <td>0.028474</td>\n",
       "      <td>0.242840</td>\n",
       "      <td>0.171483</td>\n",
       "      <td>0.377985</td>\n",
       "      <td>0.416743</td>\n",
       "    </tr>\n",
       "    <tr>\n",
       "      <th>3</th>\n",
       "      <td>-1.354406</td>\n",
       "      <td>0.171522</td>\n",
       "      <td>0.006595</td>\n",
       "      <td>0.110987</td>\n",
       "      <td>0.641994</td>\n",
       "      <td>0.219718</td>\n",
       "    </tr>\n",
       "    <tr>\n",
       "      <th>4</th>\n",
       "      <td>-1.139959</td>\n",
       "      <td>0.685277</td>\n",
       "      <td>0.969489</td>\n",
       "      <td>0.616311</td>\n",
       "      <td>0.029448</td>\n",
       "      <td>0.774969</td>\n",
       "    </tr>\n",
       "  </tbody>\n",
       "</table>\n",
       "</div>"
      ],
      "text/plain": [
       "      target        X1        X2        X3        X4        X5\n",
       "0  12.292279  0.516399  0.253181  0.430758  0.716954  0.731545\n",
       "1  -3.887578  0.570668  0.112091  0.697556  0.688819  0.715543\n",
       "2  15.798936  0.028474  0.242840  0.171483  0.377985  0.416743\n",
       "3  -1.354406  0.171522  0.006595  0.110987  0.641994  0.219718\n",
       "4  -1.139959  0.685277  0.969489  0.616311  0.029448  0.774969"
      ]
     },
     "execution_count": 4,
     "metadata": {},
     "output_type": "execute_result"
    }
   ],
   "source": [
    "df1 = simulation_data()\n",
    "df1.head()"
   ]
  },
  {
   "cell_type": "code",
   "execution_count": 5,
   "metadata": {},
   "outputs": [],
   "source": [
    "df1.to_csv(\"E:/code/6.MachineLearning/6_Tree_Based_models/data/sample_gen.csv\")"
   ]
  },
  {
   "cell_type": "code",
   "execution_count": 6,
   "metadata": {},
   "outputs": [],
   "source": [
    "# if needed export the data into excel and observe it\n",
    "# first time users need to install\n",
    "# conda install -c anaconda openpyxl\n",
    "# df1.to_excel(\"E:/code/6.MachineLearning/6_Tree_Based_models/data/sample_gen.xlsx\")"
   ]
  },
  {
   "cell_type": "code",
   "execution_count": 7,
   "metadata": {},
   "outputs": [],
   "source": [
    "np.random.seed(22)\n",
    "X_test = np.random.rand(5)"
   ]
  },
  {
   "cell_type": "code",
   "execution_count": 8,
   "metadata": {},
   "outputs": [
    {
     "data": {
      "text/plain": [
       "array([0.20846054, 0.48168106, 0.42053804, 0.859182  , 0.17116155])"
      ]
     },
     "execution_count": 8,
     "metadata": {},
     "output_type": "execute_result"
    }
   ],
   "source": [
    "X_test"
   ]
  },
  {
   "cell_type": "code",
   "execution_count": 9,
   "metadata": {},
   "outputs": [
    {
     "data": {
      "text/html": [
       "<div>\n",
       "<style scoped>\n",
       "    .dataframe tbody tr th:only-of-type {\n",
       "        vertical-align: middle;\n",
       "    }\n",
       "\n",
       "    .dataframe tbody tr th {\n",
       "        vertical-align: top;\n",
       "    }\n",
       "\n",
       "    .dataframe thead th {\n",
       "        text-align: right;\n",
       "    }\n",
       "</style>\n",
       "<table border=\"1\" class=\"dataframe\">\n",
       "  <thead>\n",
       "    <tr style=\"text-align: right;\">\n",
       "      <th></th>\n",
       "      <th>target</th>\n",
       "      <th>X1</th>\n",
       "      <th>X2</th>\n",
       "      <th>X3</th>\n",
       "      <th>X4</th>\n",
       "      <th>X5</th>\n",
       "    </tr>\n",
       "  </thead>\n",
       "  <tbody>\n",
       "    <tr>\n",
       "      <th>0</th>\n",
       "      <td>9.483589</td>\n",
       "      <td>0.208461</td>\n",
       "      <td>0.481681</td>\n",
       "      <td>0.420538</td>\n",
       "      <td>0.859182</td>\n",
       "      <td>0.171162</td>\n",
       "    </tr>\n",
       "  </tbody>\n",
       "</table>\n",
       "</div>"
      ],
      "text/plain": [
       "     target        X1        X2        X3        X4        X5\n",
       "0  9.483589  0.208461  0.481681  0.420538  0.859182  0.171162"
      ]
     },
     "execution_count": 9,
     "metadata": {},
     "output_type": "execute_result"
    }
   ],
   "source": [
    "real_population(X_test[0], \n",
    "                            X_test[1],\n",
    "                            X_test[2],\n",
    "                            X_test[3],\n",
    "                            X_test[4], size=1)"
   ]
  },
  {
   "cell_type": "code",
   "execution_count": 10,
   "metadata": {},
   "outputs": [
    {
     "data": {
      "text/plain": [
       "9.483589316978552"
      ]
     },
     "execution_count": 10,
     "metadata": {},
     "output_type": "execute_result"
    }
   ],
   "source": [
    "real_population(X_test[0], \n",
    "                            X_test[1],\n",
    "                            X_test[2],\n",
    "                            X_test[3],\n",
    "                            X_test[4], size=1)['target'][0]"
   ]
  },
  {
   "cell_type": "code",
   "execution_count": 11,
   "metadata": {},
   "outputs": [],
   "source": [
    "## function to compute mean square error\n",
    "def get_mse(mydf, model='Lin'):\n",
    "    truth = real_population(X_test[0], \n",
    "                            X_test[1],\n",
    "                            X_test[2],\n",
    "                            X_test[3],\n",
    "                            X_test[4], size=1)['target'][0]\n",
    "    truth = [truth] * simulations\n",
    "    if(model== 'Lin'):\n",
    "        estimate = mydf[1]\n",
    "    else:\n",
    "        estimate = mydf[2]\n",
    "    m = np.mean((estimate-truth)**2)\n",
    "    return m"
   ]
  },
  {
   "cell_type": "code",
   "execution_count": 12,
   "metadata": {},
   "outputs": [
    {
     "data": {
      "text/plain": [
       "0.20846053735884262"
      ]
     },
     "execution_count": 12,
     "metadata": {},
     "output_type": "execute_result"
    }
   ],
   "source": [
    "X_test[0]"
   ]
  },
  {
   "cell_type": "code",
   "execution_count": 13,
   "metadata": {},
   "outputs": [
    {
     "data": {
      "text/plain": [
       "9.483589316978552"
      ]
     },
     "execution_count": 13,
     "metadata": {},
     "output_type": "execute_result"
    }
   ],
   "source": [
    "real_population(X_test[0], X_test[1],X_test[2],X_test[3],X_test[4], size=1)[\"target\"][0]"
   ]
  },
  {
   "cell_type": "code",
   "execution_count": 14,
   "metadata": {},
   "outputs": [],
   "source": [
    "## function to compute bias\n",
    "def get_bias(mydf, model='Lin'):\n",
    "    truth = real_population(X_test[0], X_test[1],X_test[2],X_test[3],X_test[4], size=1)['target'][0]\n",
    "    if(model== 'Lin'):\n",
    "        estimate = mydf[1]\n",
    "    else:\n",
    "        estimate = mydf[2]\n",
    "    # bias formula\n",
    "    bias = np.mean(estimate) - truth\n",
    "    return bias"
   ]
  },
  {
   "cell_type": "code",
   "execution_count": 15,
   "metadata": {},
   "outputs": [],
   "source": [
    "## fucntion to compute variance\n",
    "def get_var(mydf, model='Lin'):\n",
    "    if(model== 'Lin'):\n",
    "        estimate = mydf[1]\n",
    "    else:\n",
    "        estimate = mydf[2]\n",
    "    # var formula\n",
    "    var = np.mean((estimate - np.mean(estimate))**2)\n",
    "    return var"
   ]
  },
  {
   "cell_type": "code",
   "execution_count": 21,
   "metadata": {},
   "outputs": [],
   "source": [
    "## fucntion to run the simulation with 100 different datasets # 100 models\n",
    "def run_simulation(lin_model, tree_model, sims = 100):\n",
    "    simulations = sims\n",
    "    predicted = []\n",
    "    for i in range(0,simulations): # this loop will run 100 times\n",
    "        D = simulation_data(5000, i)        \n",
    "        X = D[['X1', 'X2', 'X3', 'X4', 'X5']]\n",
    "        #print(X.head())\n",
    "        Y = D['target']\n",
    "        lin_model.fit(X,Y)\n",
    "        tree_model.fit(X,Y)\n",
    "        # Converting X_test list, into dataframe and trnsposeing\n",
    "        tup = (i, reg.predict(pd.DataFrame(X_test).T), tree.predict(pd.DataFrame(X_test).T))        \n",
    "        predicted.append(tup)\n",
    "        predicted_df = pd.DataFrame(predicted)\n",
    "    return predicted_df"
   ]
  },
  {
   "cell_type": "code",
   "execution_count": 22,
   "metadata": {},
   "outputs": [],
   "source": [
    "## function to evaluate the different metrics of simulation\n",
    "def evaluate_simulation(prediction_df):\n",
    "    print(\"Bias for Lin model is: \", get_bias(prediction_df, 'Lin')**2)\n",
    "    print(\"Bias for Tree model is: \", get_bias(prediction_df, 'tree')**2)\n",
    "    print(\"Var for Lin model is:\", get_var(prediction_df, 'Lin'))\n",
    "    print(\"var for Tree model is:\", get_var(prediction_df, 'tree'))\n",
    "    print(\"MSE for Lin model is:\", get_mse(prediction_df, 'Lin'))\n",
    "    print(\"MSE for Tree model is:\", get_mse(prediction_df, 'tree'))\n",
    "    return()"
   ]
  },
  {
   "cell_type": "code",
   "execution_count": 23,
   "metadata": {},
   "outputs": [
    {
     "name": "stdout",
     "output_type": "stream",
     "text": [
      "Bias for Lin model is:  [16.54340396]\n",
      "Bias for Tree model is:  [12.9530333]\n",
      "Var for Lin model is: [0.07393302]\n",
      "var for Tree model is: [1.45579073]\n",
      "MSE for Lin model is: [16.61733698]\n",
      "MSE for Tree model is: [14.40882403]\n",
      "\n",
      " end of iter for depth 3\n",
      "\n",
      "\n",
      "Bias for Lin model is:  [16.54340396]\n",
      "Bias for Tree model is:  [15.77474218]\n",
      "Var for Lin model is: [0.07393302]\n",
      "var for Tree model is: [2.06940007]\n",
      "MSE for Lin model is: [16.61733698]\n",
      "MSE for Tree model is: [17.84414226]\n",
      "\n",
      " end of iter for depth 4\n",
      "\n",
      "\n",
      "Bias for Lin model is:  [16.54340396]\n",
      "Bias for Tree model is:  [17.46141236]\n",
      "Var for Lin model is: [0.07393302]\n",
      "var for Tree model is: [4.08511866]\n",
      "MSE for Lin model is: [16.61733698]\n",
      "MSE for Tree model is: [21.54653102]\n",
      "\n",
      " end of iter for depth 6\n",
      "\n",
      "\n",
      "Bias for Lin model is:  [16.54340396]\n",
      "Bias for Tree model is:  [21.3386738]\n",
      "Var for Lin model is: [0.07393302]\n",
      "var for Tree model is: [6.94711687]\n",
      "MSE for Lin model is: [16.61733698]\n",
      "MSE for Tree model is: [28.28579066]\n",
      "\n",
      " end of iter for depth 8\n",
      "\n",
      "\n",
      "Bias for Lin model is:  [16.54340396]\n",
      "Bias for Tree model is:  [19.77461728]\n",
      "Var for Lin model is: [0.07393302]\n",
      "var for Tree model is: [10.40560341]\n",
      "MSE for Lin model is: [16.61733698]\n",
      "MSE for Tree model is: [30.18022069]\n",
      "\n",
      " end of iter for depth 9\n",
      "\n",
      "\n",
      "Bias for Lin model is:  [16.54340396]\n",
      "Bias for Tree model is:  [20.18383532]\n",
      "Var for Lin model is: [0.07393302]\n",
      "var for Tree model is: [15.51380788]\n",
      "MSE for Lin model is: [16.61733698]\n",
      "MSE for Tree model is: [35.6976432]\n",
      "\n",
      " end of iter for depth 10\n",
      "\n",
      "\n"
     ]
    }
   ],
   "source": [
    "## Invoking the functions defined above\n",
    "reg = LinearRegression()\n",
    "simulations = 100\n",
    "np.random.seed(22)\n",
    "X_test = np.random.rand(5)\n",
    "for depth in [3,4,6,8,9,10]:\n",
    "    tree = DecisionTreeRegressor(max_depth=depth)\n",
    "    # how this is working let us understand\n",
    "    results = run_simulation(reg, tree)\n",
    "    #print(results)\n",
    "    evaluate_simulation(results)\n",
    "    print(\"\\n end of iter for depth\", depth)\n",
    "    print('\\n')"
   ]
  },
  {
   "cell_type": "code",
   "execution_count": 24,
   "metadata": {},
   "outputs": [
    {
     "data": {
      "text/html": [
       "<div>\n",
       "<style scoped>\n",
       "    .dataframe tbody tr th:only-of-type {\n",
       "        vertical-align: middle;\n",
       "    }\n",
       "\n",
       "    .dataframe tbody tr th {\n",
       "        vertical-align: top;\n",
       "    }\n",
       "\n",
       "    .dataframe thead th {\n",
       "        text-align: right;\n",
       "    }\n",
       "</style>\n",
       "<table border=\"1\" class=\"dataframe\">\n",
       "  <thead>\n",
       "    <tr style=\"text-align: right;\">\n",
       "      <th></th>\n",
       "      <th>0</th>\n",
       "      <th>1</th>\n",
       "      <th>2</th>\n",
       "    </tr>\n",
       "  </thead>\n",
       "  <tbody>\n",
       "    <tr>\n",
       "      <th>0</th>\n",
       "      <td>0</td>\n",
       "      <td>[5.145779181232388]</td>\n",
       "      <td>[5.06020335530296]</td>\n",
       "    </tr>\n",
       "    <tr>\n",
       "      <th>1</th>\n",
       "      <td>1</td>\n",
       "      <td>[5.743915831430977]</td>\n",
       "      <td>[4.202100228876505]</td>\n",
       "    </tr>\n",
       "    <tr>\n",
       "      <th>2</th>\n",
       "      <td>2</td>\n",
       "      <td>[5.484633212871911]</td>\n",
       "      <td>[6.793794774016674]</td>\n",
       "    </tr>\n",
       "    <tr>\n",
       "      <th>3</th>\n",
       "      <td>3</td>\n",
       "      <td>[5.5183281989162225]</td>\n",
       "      <td>[21.23435848922528]</td>\n",
       "    </tr>\n",
       "    <tr>\n",
       "      <th>4</th>\n",
       "      <td>4</td>\n",
       "      <td>[5.22370706908932]</td>\n",
       "      <td>[-11.49180056129655]</td>\n",
       "    </tr>\n",
       "    <tr>\n",
       "      <th>...</th>\n",
       "      <td>...</td>\n",
       "      <td>...</td>\n",
       "      <td>...</td>\n",
       "    </tr>\n",
       "    <tr>\n",
       "      <th>95</th>\n",
       "      <td>95</td>\n",
       "      <td>[5.225762320961223]</td>\n",
       "      <td>[2.4829600524844824]</td>\n",
       "    </tr>\n",
       "    <tr>\n",
       "      <th>96</th>\n",
       "      <td>96</td>\n",
       "      <td>[5.487054406108723]</td>\n",
       "      <td>[5.716239447419985]</td>\n",
       "    </tr>\n",
       "    <tr>\n",
       "      <th>97</th>\n",
       "      <td>97</td>\n",
       "      <td>[5.456536211833386]</td>\n",
       "      <td>[7.15576911755998]</td>\n",
       "    </tr>\n",
       "    <tr>\n",
       "      <th>98</th>\n",
       "      <td>98</td>\n",
       "      <td>[5.305700430276544]</td>\n",
       "      <td>[10.543773220016694]</td>\n",
       "    </tr>\n",
       "    <tr>\n",
       "      <th>99</th>\n",
       "      <td>99</td>\n",
       "      <td>[5.089127044962024]</td>\n",
       "      <td>[6.362495198339278]</td>\n",
       "    </tr>\n",
       "  </tbody>\n",
       "</table>\n",
       "<p>100 rows × 3 columns</p>\n",
       "</div>"
      ],
      "text/plain": [
       "     0                     1                     2\n",
       "0    0   [5.145779181232388]    [5.06020335530296]\n",
       "1    1   [5.743915831430977]   [4.202100228876505]\n",
       "2    2   [5.484633212871911]   [6.793794774016674]\n",
       "3    3  [5.5183281989162225]   [21.23435848922528]\n",
       "4    4    [5.22370706908932]  [-11.49180056129655]\n",
       "..  ..                   ...                   ...\n",
       "95  95   [5.225762320961223]  [2.4829600524844824]\n",
       "96  96   [5.487054406108723]   [5.716239447419985]\n",
       "97  97   [5.456536211833386]    [7.15576911755998]\n",
       "98  98   [5.305700430276544]  [10.543773220016694]\n",
       "99  99   [5.089127044962024]   [6.362495198339278]\n",
       "\n",
       "[100 rows x 3 columns]"
      ]
     },
     "execution_count": 24,
     "metadata": {},
     "output_type": "execute_result"
    }
   ],
   "source": [
    "results"
   ]
  },
  {
   "cell_type": "code",
   "execution_count": null,
   "metadata": {},
   "outputs": [],
   "source": []
  }
 ],
 "metadata": {
  "kernelspec": {
   "display_name": "Python 3",
   "language": "python",
   "name": "python3"
  },
  "language_info": {
   "codemirror_mode": {
    "name": "ipython",
    "version": 3
   },
   "file_extension": ".py",
   "mimetype": "text/x-python",
   "name": "python",
   "nbconvert_exporter": "python",
   "pygments_lexer": "ipython3",
   "version": "3.6.10"
  }
 },
 "nbformat": 4,
 "nbformat_minor": 4
}
