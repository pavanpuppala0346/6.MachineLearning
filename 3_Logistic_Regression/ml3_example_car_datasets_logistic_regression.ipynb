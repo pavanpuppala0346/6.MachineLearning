{
 "cells": [
  {
   "cell_type": "code",
   "execution_count": 3,
   "metadata": {},
   "outputs": [
    {
     "data": {
      "text/plain": [
       "'E:\\\\code\\\\6.MachineLearning\\\\3_Logistic_Regression'"
      ]
     },
     "execution_count": 3,
     "metadata": {},
     "output_type": "execute_result"
    }
   ],
   "source": [
    "import os\n",
    "os.chdir('E:/code/6.MachineLearning/3_Logistic_Regression')\n",
    "os.getcwd()"
   ]
  },
  {
   "cell_type": "code",
   "execution_count": 4,
   "metadata": {},
   "outputs": [
    {
     "data": {
      "text/html": [
       "<div>\n",
       "<style scoped>\n",
       "    .dataframe tbody tr th:only-of-type {\n",
       "        vertical-align: middle;\n",
       "    }\n",
       "\n",
       "    .dataframe tbody tr th {\n",
       "        vertical-align: top;\n",
       "    }\n",
       "\n",
       "    .dataframe thead th {\n",
       "        text-align: right;\n",
       "    }\n",
       "</style>\n",
       "<table border=\"1\" class=\"dataframe\">\n",
       "  <thead>\n",
       "    <tr style=\"text-align: right;\">\n",
       "      <th></th>\n",
       "      <th>car_ID</th>\n",
       "      <th>symboling</th>\n",
       "      <th>CarName</th>\n",
       "      <th>fueltype</th>\n",
       "      <th>aspiration</th>\n",
       "      <th>doornumber</th>\n",
       "      <th>carbody</th>\n",
       "      <th>drivewheel</th>\n",
       "      <th>enginelocation</th>\n",
       "      <th>wheelbase</th>\n",
       "      <th>...</th>\n",
       "      <th>enginesize</th>\n",
       "      <th>fuelsystem</th>\n",
       "      <th>boreratio</th>\n",
       "      <th>stroke</th>\n",
       "      <th>compressionratio</th>\n",
       "      <th>horsepower</th>\n",
       "      <th>peakrpm</th>\n",
       "      <th>citympg</th>\n",
       "      <th>highwaympg</th>\n",
       "      <th>price</th>\n",
       "    </tr>\n",
       "  </thead>\n",
       "  <tbody>\n",
       "    <tr>\n",
       "      <th>0</th>\n",
       "      <td>1</td>\n",
       "      <td>3</td>\n",
       "      <td>alfa-romero giulia</td>\n",
       "      <td>gas</td>\n",
       "      <td>std</td>\n",
       "      <td>two</td>\n",
       "      <td>convertible</td>\n",
       "      <td>rwd</td>\n",
       "      <td>front</td>\n",
       "      <td>88.6</td>\n",
       "      <td>...</td>\n",
       "      <td>130</td>\n",
       "      <td>mpfi</td>\n",
       "      <td>3.47</td>\n",
       "      <td>2.68</td>\n",
       "      <td>9.0</td>\n",
       "      <td>111</td>\n",
       "      <td>5000</td>\n",
       "      <td>21</td>\n",
       "      <td>27</td>\n",
       "      <td>13495.0</td>\n",
       "    </tr>\n",
       "    <tr>\n",
       "      <th>1</th>\n",
       "      <td>2</td>\n",
       "      <td>3</td>\n",
       "      <td>alfa-romero stelvio</td>\n",
       "      <td>gas</td>\n",
       "      <td>std</td>\n",
       "      <td>two</td>\n",
       "      <td>convertible</td>\n",
       "      <td>rwd</td>\n",
       "      <td>front</td>\n",
       "      <td>88.6</td>\n",
       "      <td>...</td>\n",
       "      <td>130</td>\n",
       "      <td>mpfi</td>\n",
       "      <td>3.47</td>\n",
       "      <td>2.68</td>\n",
       "      <td>9.0</td>\n",
       "      <td>111</td>\n",
       "      <td>5000</td>\n",
       "      <td>21</td>\n",
       "      <td>27</td>\n",
       "      <td>16500.0</td>\n",
       "    </tr>\n",
       "    <tr>\n",
       "      <th>2</th>\n",
       "      <td>3</td>\n",
       "      <td>1</td>\n",
       "      <td>alfa-romero Quadrifoglio</td>\n",
       "      <td>gas</td>\n",
       "      <td>std</td>\n",
       "      <td>two</td>\n",
       "      <td>hatchback</td>\n",
       "      <td>rwd</td>\n",
       "      <td>front</td>\n",
       "      <td>94.5</td>\n",
       "      <td>...</td>\n",
       "      <td>152</td>\n",
       "      <td>mpfi</td>\n",
       "      <td>2.68</td>\n",
       "      <td>3.47</td>\n",
       "      <td>9.0</td>\n",
       "      <td>154</td>\n",
       "      <td>5000</td>\n",
       "      <td>19</td>\n",
       "      <td>26</td>\n",
       "      <td>16500.0</td>\n",
       "    </tr>\n",
       "    <tr>\n",
       "      <th>3</th>\n",
       "      <td>4</td>\n",
       "      <td>2</td>\n",
       "      <td>audi 100 ls</td>\n",
       "      <td>gas</td>\n",
       "      <td>std</td>\n",
       "      <td>four</td>\n",
       "      <td>sedan</td>\n",
       "      <td>fwd</td>\n",
       "      <td>front</td>\n",
       "      <td>99.8</td>\n",
       "      <td>...</td>\n",
       "      <td>109</td>\n",
       "      <td>mpfi</td>\n",
       "      <td>3.19</td>\n",
       "      <td>3.40</td>\n",
       "      <td>10.0</td>\n",
       "      <td>102</td>\n",
       "      <td>5500</td>\n",
       "      <td>24</td>\n",
       "      <td>30</td>\n",
       "      <td>13950.0</td>\n",
       "    </tr>\n",
       "    <tr>\n",
       "      <th>4</th>\n",
       "      <td>5</td>\n",
       "      <td>2</td>\n",
       "      <td>audi 100ls</td>\n",
       "      <td>gas</td>\n",
       "      <td>std</td>\n",
       "      <td>four</td>\n",
       "      <td>sedan</td>\n",
       "      <td>4wd</td>\n",
       "      <td>front</td>\n",
       "      <td>99.4</td>\n",
       "      <td>...</td>\n",
       "      <td>136</td>\n",
       "      <td>mpfi</td>\n",
       "      <td>3.19</td>\n",
       "      <td>3.40</td>\n",
       "      <td>8.0</td>\n",
       "      <td>115</td>\n",
       "      <td>5500</td>\n",
       "      <td>18</td>\n",
       "      <td>22</td>\n",
       "      <td>17450.0</td>\n",
       "    </tr>\n",
       "  </tbody>\n",
       "</table>\n",
       "<p>5 rows × 26 columns</p>\n",
       "</div>"
      ],
      "text/plain": [
       "   car_ID  symboling                   CarName fueltype aspiration doornumber  \\\n",
       "0       1          3        alfa-romero giulia      gas        std        two   \n",
       "1       2          3       alfa-romero stelvio      gas        std        two   \n",
       "2       3          1  alfa-romero Quadrifoglio      gas        std        two   \n",
       "3       4          2               audi 100 ls      gas        std       four   \n",
       "4       5          2                audi 100ls      gas        std       four   \n",
       "\n",
       "       carbody drivewheel enginelocation  wheelbase  ...  enginesize  \\\n",
       "0  convertible        rwd          front       88.6  ...         130   \n",
       "1  convertible        rwd          front       88.6  ...         130   \n",
       "2    hatchback        rwd          front       94.5  ...         152   \n",
       "3        sedan        fwd          front       99.8  ...         109   \n",
       "4        sedan        4wd          front       99.4  ...         136   \n",
       "\n",
       "   fuelsystem  boreratio  stroke compressionratio horsepower  peakrpm citympg  \\\n",
       "0        mpfi       3.47    2.68              9.0        111     5000      21   \n",
       "1        mpfi       3.47    2.68              9.0        111     5000      21   \n",
       "2        mpfi       2.68    3.47              9.0        154     5000      19   \n",
       "3        mpfi       3.19    3.40             10.0        102     5500      24   \n",
       "4        mpfi       3.19    3.40              8.0        115     5500      18   \n",
       "\n",
       "   highwaympg    price  \n",
       "0          27  13495.0  \n",
       "1          27  16500.0  \n",
       "2          26  16500.0  \n",
       "3          30  13950.0  \n",
       "4          22  17450.0  \n",
       "\n",
       "[5 rows x 26 columns]"
      ]
     },
     "execution_count": 4,
     "metadata": {},
     "output_type": "execute_result"
    }
   ],
   "source": [
    "import pandas as pd\n",
    "df=pd.read_csv('carprice.csv')\n",
    "df.head()"
   ]
  },
  {
   "cell_type": "code",
   "execution_count": 14,
   "metadata": {},
   "outputs": [
    {
     "name": "stdout",
     "output_type": "stream",
     "text": [
      "<class 'pandas.core.frame.DataFrame'>\n",
      "RangeIndex: 205 entries, 0 to 204\n",
      "Data columns (total 26 columns):\n",
      " #   Column            Non-Null Count  Dtype  \n",
      "---  ------            --------------  -----  \n",
      " 0   car_ID            205 non-null    int64  \n",
      " 1   symboling         205 non-null    int64  \n",
      " 2   CarName           205 non-null    object \n",
      " 3   fueltype          205 non-null    object \n",
      " 4   aspiration        205 non-null    object \n",
      " 5   doornumber        205 non-null    object \n",
      " 6   carbody           205 non-null    object \n",
      " 7   drivewheel        205 non-null    object \n",
      " 8   enginelocation    205 non-null    object \n",
      " 9   wheelbase         205 non-null    float64\n",
      " 10  carlength         205 non-null    float64\n",
      " 11  carwidth          205 non-null    float64\n",
      " 12  carheight         205 non-null    float64\n",
      " 13  curbweight        205 non-null    int64  \n",
      " 14  enginetype        205 non-null    object \n",
      " 15  cylindernumber    205 non-null    object \n",
      " 16  enginesize        205 non-null    int64  \n",
      " 17  fuelsystem        205 non-null    object \n",
      " 18  boreratio         205 non-null    float64\n",
      " 19  stroke            205 non-null    float64\n",
      " 20  compressionratio  205 non-null    float64\n",
      " 21  horsepower        205 non-null    int64  \n",
      " 22  peakrpm           205 non-null    int64  \n",
      " 23  citympg           205 non-null    int64  \n",
      " 24  highwaympg        205 non-null    int64  \n",
      " 25  price             205 non-null    float64\n",
      "dtypes: float64(8), int64(8), object(10)\n",
      "memory usage: 41.8+ KB\n"
     ]
    }
   ],
   "source": [
    "df.info()"
   ]
  },
  {
   "cell_type": "code",
   "execution_count": 5,
   "metadata": {},
   "outputs": [
    {
     "data": {
      "text/plain": [
       "Index(['car_ID', 'symboling', 'CarName', 'fueltype', 'aspiration',\n",
       "       'doornumber', 'carbody', 'drivewheel', 'enginelocation', 'wheelbase',\n",
       "       'carlength', 'carwidth', 'carheight', 'curbweight', 'enginetype',\n",
       "       'cylindernumber', 'enginesize', 'fuelsystem', 'boreratio', 'stroke',\n",
       "       'compressionratio', 'horsepower', 'peakrpm', 'citympg', 'highwaympg',\n",
       "       'price'],\n",
       "      dtype='object')"
      ]
     },
     "execution_count": 5,
     "metadata": {},
     "output_type": "execute_result"
    }
   ],
   "source": [
    "df.columns"
   ]
  },
  {
   "cell_type": "code",
   "execution_count": 6,
   "metadata": {},
   "outputs": [],
   "source": [
    "#df.info"
   ]
  },
  {
   "cell_type": "code",
   "execution_count": 11,
   "metadata": {},
   "outputs": [
    {
     "data": {
      "text/plain": [
       "array([[1.0000e+00, 3.0000e+00, 8.8600e+01, 1.6880e+02, 6.4100e+01,\n",
       "        4.8800e+01, 2.5480e+03, 1.3000e+02, 3.4700e+00, 2.6800e+00,\n",
       "        9.0000e+00, 1.1100e+02, 5.0000e+03, 2.1000e+01, 2.7000e+01,\n",
       "        1.3495e+04],\n",
       "       [2.0000e+00, 3.0000e+00, 8.8600e+01, 1.6880e+02, 6.4100e+01,\n",
       "        4.8800e+01, 2.5480e+03, 1.3000e+02, 3.4700e+00, 2.6800e+00,\n",
       "        9.0000e+00, 1.1100e+02, 5.0000e+03, 2.1000e+01, 2.7000e+01,\n",
       "        1.6500e+04],\n",
       "       [3.0000e+00, 1.0000e+00, 9.4500e+01, 1.7120e+02, 6.5500e+01,\n",
       "        5.2400e+01, 2.8230e+03, 1.5200e+02, 2.6800e+00, 3.4700e+00,\n",
       "        9.0000e+00, 1.5400e+02, 5.0000e+03, 1.9000e+01, 2.6000e+01,\n",
       "        1.6500e+04],\n",
       "       [4.0000e+00, 2.0000e+00, 9.9800e+01, 1.7660e+02, 6.6200e+01,\n",
       "        5.4300e+01, 2.3370e+03, 1.0900e+02, 3.1900e+00, 3.4000e+00,\n",
       "        1.0000e+01, 1.0200e+02, 5.5000e+03, 2.4000e+01, 3.0000e+01,\n",
       "        1.3950e+04],\n",
       "       [5.0000e+00, 2.0000e+00, 9.9400e+01, 1.7660e+02, 6.6400e+01,\n",
       "        5.4300e+01, 2.8240e+03, 1.3600e+02, 3.1900e+00, 3.4000e+00,\n",
       "        8.0000e+00, 1.1500e+02, 5.5000e+03, 1.8000e+01, 2.2000e+01,\n",
       "        1.7450e+04]])"
      ]
     },
     "execution_count": 11,
     "metadata": {},
     "output_type": "execute_result"
    }
   ],
   "source": [
    "X=df.drop(['CarName','fueltype', 'aspiration',\n",
    "       'doornumber', 'carbody', 'drivewheel', 'enginelocation','enginetype','cylindernumber','fuelsystem'],axis=1).values\n",
    "X[:5]"
   ]
  },
  {
   "cell_type": "code",
   "execution_count": 12,
   "metadata": {},
   "outputs": [
    {
     "data": {
      "text/plain": [
       "pandas.core.series.Series"
      ]
     },
     "execution_count": 12,
     "metadata": {},
     "output_type": "execute_result"
    }
   ],
   "source": [
    "y=df['CarName']\n",
    "type(y)\n"
   ]
  },
  {
   "cell_type": "code",
   "execution_count": 13,
   "metadata": {},
   "outputs": [
    {
     "name": "stdout",
     "output_type": "stream",
     "text": [
      "['alfa-romero giulia' 'alfa-romero stelvio' 'alfa-romero Quadrifoglio'\n",
      " 'audi 100 ls' 'audi 100ls' 'audi fox' 'audi 5000' 'audi 4000'\n",
      " 'audi 5000s (diesel)' 'bmw 320i' 'bmw x1' 'bmw x3' 'bmw z4' 'bmw x4'\n",
      " 'bmw x5' 'chevrolet impala' 'chevrolet monte carlo' 'chevrolet vega 2300'\n",
      " 'dodge rampage' 'dodge challenger se' 'dodge d200' 'dodge monaco (sw)'\n",
      " 'dodge colt hardtop' 'dodge colt (sw)' 'dodge coronet custom'\n",
      " 'dodge dart custom' 'dodge coronet custom (sw)' 'honda civic'\n",
      " 'honda civic cvcc' 'honda accord cvcc' 'honda accord lx'\n",
      " 'honda civic 1500 gl' 'honda accord' 'honda civic 1300' 'honda prelude'\n",
      " 'honda civic (auto)' 'isuzu MU-X' 'isuzu D-Max ' 'isuzu D-Max V-Cross'\n",
      " 'jaguar xj' 'jaguar xf' 'jaguar xk' 'maxda rx3' 'maxda glc deluxe'\n",
      " 'mazda rx2 coupe' 'mazda rx-4' 'mazda glc deluxe' 'mazda 626' 'mazda glc'\n",
      " 'mazda rx-7 gs' 'mazda glc 4' 'mazda glc custom l' 'mazda glc custom'\n",
      " 'buick electra 225 custom' 'buick century luxus (sw)' 'buick century'\n",
      " 'buick skyhawk' 'buick opel isuzu deluxe' 'buick skylark'\n",
      " 'buick century special' 'buick regal sport coupe (turbo)'\n",
      " 'mercury cougar' 'mitsubishi mirage' 'mitsubishi lancer'\n",
      " 'mitsubishi outlander' 'mitsubishi g4' 'mitsubishi mirage g4'\n",
      " 'mitsubishi montero' 'mitsubishi pajero' 'Nissan versa' 'nissan gt-r'\n",
      " 'nissan rogue' 'nissan latio' 'nissan titan' 'nissan leaf' 'nissan juke'\n",
      " 'nissan note' 'nissan clipper' 'nissan nv200' 'nissan dayz' 'nissan fuga'\n",
      " 'nissan otti' 'nissan teana' 'nissan kicks' 'peugeot 504' 'peugeot 304'\n",
      " 'peugeot 504 (sw)' 'peugeot 604sl' 'peugeot 505s turbo diesel'\n",
      " 'plymouth fury iii' 'plymouth cricket' 'plymouth satellite custom (sw)'\n",
      " 'plymouth fury gran sedan' 'plymouth valiant' 'plymouth duster'\n",
      " 'porsche macan' 'porcshce panamera' 'porsche cayenne' 'porsche boxter'\n",
      " 'renault 12tl' 'renault 5 gtl' 'saab 99e' 'saab 99le' 'saab 99gle'\n",
      " 'subaru' 'subaru dl' 'subaru brz' 'subaru baja' 'subaru r1' 'subaru r2'\n",
      " 'subaru trezia' 'subaru tribeca' 'toyota corona mark ii' 'toyota corona'\n",
      " 'toyota corolla 1200' 'toyota corona hardtop' 'toyota corolla 1600 (sw)'\n",
      " 'toyota carina' 'toyota mark ii' 'toyota corolla'\n",
      " 'toyota corolla liftback' 'toyota celica gt liftback'\n",
      " 'toyota corolla tercel' 'toyota corona liftback' 'toyota starlet'\n",
      " 'toyota tercel' 'toyota cressida' 'toyota celica gt' 'toyouta tercel'\n",
      " 'vokswagen rabbit' 'volkswagen 1131 deluxe sedan' 'volkswagen model 111'\n",
      " 'volkswagen type 3' 'volkswagen 411 (sw)' 'volkswagen super beetle'\n",
      " 'volkswagen dasher' 'vw dasher' 'vw rabbit' 'volkswagen rabbit'\n",
      " 'volkswagen rabbit custom' 'volvo 145e (sw)' 'volvo 144ea' 'volvo 244dl'\n",
      " 'volvo 245' 'volvo 264gl' 'volvo diesel' 'volvo 246']\n",
      "147\n",
      "[0, 1, 2, 3, 4, 5, 6, 7, 8, 9, 10, 11, 12, 13, 14, 15, 16, 17, 18, 19, 20, 21, 22]\n"
     ]
    }
   ],
   "source": [
    "print(y.unique())\n",
    "print(len(y.unique()))\n",
    "print(list(range(0,23)))"
   ]
  },
  {
   "cell_type": "code",
   "execution_count": null,
   "metadata": {},
   "outputs": [],
   "source": []
  },
  {
   "cell_type": "code",
   "execution_count": 170,
   "metadata": {},
   "outputs": [],
   "source": [
    "y.replace(to_replace =['alfa-romero', 'audi', 'bmw', 'chevrolet', 'dodge', 'honda','isuzu', 'jaguar', 'mazda', 'mercedes-benz', 'mercury',\n",
    "       'mitsubishi', 'nissan', 'peugot', 'plymouth', 'porsche', 'renault','saab', 'subaru', 'toyota', 'volkswagen', 'volvo'],\n",
    "          value=[1, 2, 3, 4, 5, 6, 7, 8, 9, 10, 11, 12, 13, 14, 15, 16, 17, 18, 19, 20, 21, 22],inplace=True)\n",
    "\n"
   ]
  },
  {
   "cell_type": "code",
   "execution_count": 171,
   "metadata": {},
   "outputs": [
    {
     "data": {
      "text/plain": [
       "array([ 1,  2,  3,  4,  5,  6,  7,  8,  9, 10, 11, 12, 13, 14, 15, 16, 17,\n",
       "       18, 19, 20, 21, 22], dtype=int64)"
      ]
     },
     "execution_count": 171,
     "metadata": {},
     "output_type": "execute_result"
    }
   ],
   "source": [
    "y.unique()"
   ]
  },
  {
   "cell_type": "code",
   "execution_count": 172,
   "metadata": {},
   "outputs": [
    {
     "data": {
      "text/plain": [
       "numpy.ndarray"
      ]
     },
     "execution_count": 172,
     "metadata": {},
     "output_type": "execute_result"
    }
   ],
   "source": [
    "type(X)"
   ]
  },
  {
   "cell_type": "code",
   "execution_count": 173,
   "metadata": {},
   "outputs": [],
   "source": [
    "y=y.values"
   ]
  },
  {
   "cell_type": "code",
   "execution_count": 174,
   "metadata": {},
   "outputs": [
    {
     "data": {
      "text/plain": [
       "numpy.ndarray"
      ]
     },
     "execution_count": 174,
     "metadata": {},
     "output_type": "execute_result"
    }
   ],
   "source": [
    "type(y)"
   ]
  },
  {
   "cell_type": "code",
   "execution_count": 175,
   "metadata": {},
   "outputs": [],
   "source": [
    "from sklearn.model_selection import train_test_split"
   ]
  },
  {
   "cell_type": "code",
   "execution_count": 176,
   "metadata": {},
   "outputs": [],
   "source": [
    "X_train,X_test,y_train,y_test=train_test_split(X,y,test_size=0.3,random_state=42)"
   ]
  },
  {
   "cell_type": "code",
   "execution_count": 177,
   "metadata": {},
   "outputs": [
    {
     "data": {
      "text/plain": [
       "(array([ 1,  2,  3,  4,  5,  6,  7,  8,  9, 10, 11, 12, 13, 14, 15, 16, 17,\n",
       "        18, 19, 20, 21, 22], dtype=int64),\n",
       " array([ 3,  7,  8,  3,  9, 13,  4,  3, 17,  8,  1, 13, 18, 11,  7,  5,  2,\n",
       "         6, 12, 32, 12, 11], dtype=int64))"
      ]
     },
     "execution_count": 177,
     "metadata": {},
     "output_type": "execute_result"
    }
   ],
   "source": [
    "import numpy as np\n",
    "np.unique(y,return_counts=True)"
   ]
  },
  {
   "cell_type": "code",
   "execution_count": 178,
   "metadata": {},
   "outputs": [
    {
     "data": {
      "text/plain": [
       "(array([ 2,  3,  4,  5,  6,  7,  9, 10, 12, 13, 14, 15, 16, 18, 19, 20, 21,\n",
       "        22], dtype=int64),\n",
       " array([ 2,  2,  2,  3,  2,  1,  5,  4,  5,  9,  2,  1,  1,  1,  6, 11,  2,\n",
       "         3], dtype=int64))"
      ]
     },
     "execution_count": 178,
     "metadata": {},
     "output_type": "execute_result"
    }
   ],
   "source": [
    "np.unique(y_test,return_counts=True)"
   ]
  },
  {
   "cell_type": "code",
   "execution_count": 179,
   "metadata": {},
   "outputs": [],
   "source": [
    "from sklearn.linear_model import LinearRegression"
   ]
  },
  {
   "cell_type": "code",
   "execution_count": 180,
   "metadata": {},
   "outputs": [
    {
     "data": {
      "text/plain": [
       "LinearRegression()"
      ]
     },
     "execution_count": 180,
     "metadata": {},
     "output_type": "execute_result"
    }
   ],
   "source": [
    "model=LinearRegression()\n",
    "model"
   ]
  },
  {
   "cell_type": "code",
   "execution_count": 192,
   "metadata": {},
   "outputs": [
    {
     "data": {
      "text/plain": [
       "array([[ 1.6000e+01,  0.0000e+00,  1.0400e+02,  1.8900e+02,  6.7000e+01,\n",
       "         5.6000e+01,  3.2300e+03,  2.0900e+02,  4.0000e+00,  3.0000e+00,\n",
       "         8.0000e+00,  1.8200e+02,  5.4000e+03,  1.6000e+01,  2.2000e+01,\n",
       "         3.0760e+04],\n",
       "       [ 1.0000e+01,  0.0000e+00,  1.0000e+02,  1.7800e+02,  6.8000e+01,\n",
       "         5.2000e+01,  3.0530e+03,  1.3100e+02,  3.0000e+00,  3.0000e+00,\n",
       "         7.0000e+00,  1.6000e+02,  5.5000e+03,  1.6000e+01,  2.2000e+01,\n",
       "         1.7859e+04],\n",
       "       [ 1.0100e+02,  0.0000e+00,  9.7000e+01,  1.7300e+02,  6.5000e+01,\n",
       "         5.5000e+01,  2.3020e+03,  1.2000e+02,  3.0000e+00,  3.0000e+00,\n",
       "         8.0000e+00,  9.7000e+01,  5.2000e+03,  2.7000e+01,  3.4000e+01,\n",
       "         9.5490e+03],\n",
       "       [ 1.3300e+02,  3.0000e+00,  9.9000e+01,  1.8700e+02,  6.6000e+01,\n",
       "         5.6000e+01,  2.6580e+03,  1.2100e+02,  4.0000e+00,  3.0000e+00,\n",
       "         9.0000e+00,  1.1000e+02,  5.2500e+03,  2.1000e+01,  2.8000e+01,\n",
       "         1.1850e+04],\n",
       "       [ 6.9000e+01, -1.0000e+00,  1.1000e+02,  1.9100e+02,  7.0000e+01,\n",
       "         5.9000e+01,  3.7500e+03,  1.8300e+02,  4.0000e+00,  4.0000e+00,\n",
       "         2.2000e+01,  1.2300e+02,  4.3500e+03,  2.2000e+01,  2.5000e+01,\n",
       "         2.8248e+04],\n",
       "       [ 9.6000e+01,  1.0000e+00,  9.4000e+01,  1.6600e+02,  6.4000e+01,\n",
       "         5.3000e+01,  2.0280e+03,  9.7000e+01,  3.0000e+00,  3.0000e+00,\n",
       "         9.0000e+00,  6.9000e+01,  5.2000e+03,  3.1000e+01,  3.7000e+01,\n",
       "         7.7990e+03],\n",
       "       [ 1.6000e+02,  0.0000e+00,  9.6000e+01,  1.6600e+02,  6.4000e+01,\n",
       "         5.3000e+01,  2.2750e+03,  1.1000e+02,  3.0000e+00,  3.0000e+00,\n",
       "         2.2000e+01,  5.6000e+01,  4.5000e+03,  3.8000e+01,  4.7000e+01,\n",
       "         7.7880e+03],\n",
       "       [ 1.6300e+02,  0.0000e+00,  9.6000e+01,  1.6600e+02,  6.4000e+01,\n",
       "         5.3000e+01,  2.1400e+03,  9.8000e+01,  3.0000e+00,  3.0000e+00,\n",
       "         9.0000e+00,  7.0000e+01,  4.8000e+03,  2.8000e+01,  3.4000e+01,\n",
       "         9.2580e+03],\n",
       "       [ 1.4800e+02,  0.0000e+00,  9.7000e+01,  1.7400e+02,  6.5000e+01,\n",
       "         5.3000e+01,  2.4550e+03,  1.0800e+02,  4.0000e+00,  3.0000e+00,\n",
       "         9.0000e+00,  9.4000e+01,  5.2000e+03,  2.5000e+01,  3.1000e+01,\n",
       "         1.0198e+04],\n",
       "       [ 1.8300e+02,  2.0000e+00,  9.7000e+01,  1.7200e+02,  6.6000e+01,\n",
       "         5.6000e+01,  2.2610e+03,  9.7000e+01,  3.0000e+00,  3.0000e+00,\n",
       "         2.3000e+01,  5.2000e+01,  4.8000e+03,  3.7000e+01,  4.6000e+01,\n",
       "         7.7750e+03],\n",
       "       [ 1.9200e+02,  0.0000e+00,  1.0000e+02,  1.8000e+02,  6.7000e+01,\n",
       "         5.5000e+01,  2.6610e+03,  1.3600e+02,  3.0000e+00,  3.0000e+00,\n",
       "         8.0000e+00,  1.1000e+02,  5.5000e+03,  1.9000e+01,  2.4000e+01,\n",
       "         1.3295e+04],\n",
       "       [ 1.6500e+02,  1.0000e+00,  9.4000e+01,  1.6900e+02,  6.4000e+01,\n",
       "         5.3000e+01,  2.2040e+03,  9.8000e+01,  3.0000e+00,  3.0000e+00,\n",
       "         9.0000e+00,  7.0000e+01,  4.8000e+03,  2.9000e+01,  3.4000e+01,\n",
       "         8.2380e+03],\n",
       "       [ 6.6000e+01,  0.0000e+00,  1.0500e+02,  1.7500e+02,  6.6000e+01,\n",
       "         5.4000e+01,  2.6700e+03,  1.4000e+02,  4.0000e+00,  3.0000e+00,\n",
       "         8.0000e+00,  1.2000e+02,  5.0000e+03,  1.9000e+01,  2.7000e+01,\n",
       "         1.8280e+04],\n",
       "       [ 1.7600e+02, -1.0000e+00,  1.0200e+02,  1.7600e+02,  6.6000e+01,\n",
       "         5.4000e+01,  2.4140e+03,  1.2200e+02,  3.0000e+00,  4.0000e+00,\n",
       "         9.0000e+00,  9.2000e+01,  4.2000e+03,  2.7000e+01,  3.2000e+01,\n",
       "         9.9880e+03],\n",
       "       [ 7.4000e+01,  0.0000e+00,  1.2100e+02,  2.0800e+02,  7.2000e+01,\n",
       "         5.7000e+01,  3.9000e+03,  3.0800e+02,  4.0000e+00,  3.0000e+00,\n",
       "         8.0000e+00,  1.8400e+02,  4.5000e+03,  1.4000e+01,  1.6000e+01,\n",
       "         4.0960e+04],\n",
       "       [ 1.5300e+02,  1.0000e+00,  9.6000e+01,  1.5900e+02,  6.4000e+01,\n",
       "         5.4000e+01,  2.0150e+03,  9.2000e+01,  3.0000e+00,  3.0000e+00,\n",
       "         9.0000e+00,  6.2000e+01,  4.8000e+03,  3.1000e+01,  3.8000e+01,\n",
       "         6.4880e+03],\n",
       "       [ 1.9000e+01,  2.0000e+00,  8.8000e+01,  1.4100e+02,  6.0000e+01,\n",
       "         5.3000e+01,  1.4880e+03,  6.1000e+01,  3.0000e+00,  3.0000e+00,\n",
       "         1.0000e+01,  4.8000e+01,  5.1000e+03,  4.7000e+01,  5.3000e+01,\n",
       "         5.1510e+03],\n",
       "       [ 8.3000e+01,  3.0000e+00,  9.6000e+01,  1.7300e+02,  6.6000e+01,\n",
       "         5.0000e+01,  2.8330e+03,  1.5600e+02,  4.0000e+00,  4.0000e+00,\n",
       "         7.0000e+00,  1.4500e+02,  5.0000e+03,  1.9000e+01,  2.4000e+01,\n",
       "         1.2629e+04],\n",
       "       [ 8.7000e+01,  1.0000e+00,  9.6000e+01,  1.7200e+02,  6.5000e+01,\n",
       "         5.2000e+01,  2.4050e+03,  1.2200e+02,  3.0000e+00,  3.0000e+00,\n",
       "         8.0000e+00,  8.8000e+01,  5.0000e+03,  2.5000e+01,  3.2000e+01,\n",
       "         8.1890e+03],\n",
       "       [ 1.4400e+02,  0.0000e+00,  9.7000e+01,  1.7200e+02,  6.5000e+01,\n",
       "         5.2000e+01,  2.3400e+03,  1.0800e+02,  4.0000e+00,  3.0000e+00,\n",
       "         9.0000e+00,  9.4000e+01,  5.2000e+03,  2.6000e+01,  3.2000e+01,\n",
       "         9.9600e+03],\n",
       "       [ 6.1000e+01,  0.0000e+00,  9.9000e+01,  1.7800e+02,  6.6000e+01,\n",
       "         5.6000e+01,  2.4100e+03,  1.2200e+02,  3.0000e+00,  3.0000e+00,\n",
       "         9.0000e+00,  8.4000e+01,  4.8000e+03,  2.6000e+01,  3.2000e+01,\n",
       "         8.4950e+03],\n",
       "       [ 1.0200e+02,  0.0000e+00,  1.0000e+02,  1.8200e+02,  6.6000e+01,\n",
       "         5.5000e+01,  3.0950e+03,  1.8100e+02,  3.0000e+00,  3.0000e+00,\n",
       "         9.0000e+00,  1.5200e+02,  5.2000e+03,  1.7000e+01,  2.2000e+01,\n",
       "         1.3499e+04],\n",
       "       [ 9.9000e+01,  2.0000e+00,  9.5000e+01,  1.6200e+02,  6.4000e+01,\n",
       "         5.3000e+01,  2.0080e+03,  9.7000e+01,  3.0000e+00,  3.0000e+00,\n",
       "         9.0000e+00,  6.9000e+01,  5.2000e+03,  3.1000e+01,  3.7000e+01,\n",
       "         8.2490e+03],\n",
       "       [ 3.1000e+01,  2.0000e+00,  8.7000e+01,  1.4500e+02,  6.4000e+01,\n",
       "         5.1000e+01,  1.7130e+03,  9.2000e+01,  3.0000e+00,  3.0000e+00,\n",
       "         1.0000e+01,  5.8000e+01,  4.8000e+03,  4.9000e+01,  5.4000e+01,\n",
       "         6.4790e+03],\n",
       "       [ 2.6000e+01,  1.0000e+00,  9.4000e+01,  1.5700e+02,  6.4000e+01,\n",
       "         5.1000e+01,  1.9890e+03,  9.0000e+01,  3.0000e+00,  3.0000e+00,\n",
       "         9.0000e+00,  6.8000e+01,  5.5000e+03,  3.1000e+01,  3.8000e+01,\n",
       "         6.6920e+03],\n",
       "       [ 1.7000e+01,  0.0000e+00,  1.0400e+02,  1.9400e+02,  6.8000e+01,\n",
       "         5.4000e+01,  3.3800e+03,  2.0900e+02,  4.0000e+00,  3.0000e+00,\n",
       "         8.0000e+00,  1.8200e+02,  5.4000e+03,  1.6000e+01,  2.2000e+01,\n",
       "         4.1315e+04],\n",
       "       [ 1.6900e+02,  2.0000e+00,  9.8000e+01,  1.7600e+02,  6.6000e+01,\n",
       "         5.2000e+01,  2.5360e+03,  1.4600e+02,  4.0000e+00,  4.0000e+00,\n",
       "         9.0000e+00,  1.1600e+02,  4.8000e+03,  2.4000e+01,  3.0000e+01,\n",
       "         9.6390e+03],\n",
       "       [ 1.9600e+02, -1.0000e+00,  1.0400e+02,  1.8900e+02,  6.7000e+01,\n",
       "         5.8000e+01,  3.0340e+03,  1.4100e+02,  4.0000e+00,  3.0000e+00,\n",
       "         1.0000e+01,  1.1400e+02,  5.4000e+03,  2.3000e+01,  2.8000e+01,\n",
       "         1.3415e+04],\n",
       "       [ 9.8000e+01,  1.0000e+00,  9.4000e+01,  1.7000e+02,  6.4000e+01,\n",
       "         5.4000e+01,  2.0370e+03,  9.7000e+01,  3.0000e+00,  3.0000e+00,\n",
       "         9.0000e+00,  6.9000e+01,  5.2000e+03,  3.1000e+01,  3.7000e+01,\n",
       "         7.9990e+03],\n",
       "       [ 1.9500e+02, -2.0000e+00,  1.0400e+02,  1.8900e+02,  6.7000e+01,\n",
       "         5.6000e+01,  2.9120e+03,  1.4100e+02,  4.0000e+00,  3.0000e+00,\n",
       "         1.0000e+01,  1.1400e+02,  5.4000e+03,  2.3000e+01,  2.8000e+01,\n",
       "         1.2940e+04],\n",
       "       [ 6.8000e+01, -1.0000e+00,  1.1000e+02,  1.9100e+02,  7.0000e+01,\n",
       "         5.6000e+01,  3.5150e+03,  1.8300e+02,  4.0000e+00,  4.0000e+00,\n",
       "         2.2000e+01,  1.2300e+02,  4.3500e+03,  2.2000e+01,  2.5000e+01,\n",
       "         2.5552e+04],\n",
       "       [ 1.2100e+02,  1.0000e+00,  9.4000e+01,  1.5700e+02,  6.4000e+01,\n",
       "         5.1000e+01,  1.9670e+03,  9.0000e+01,  3.0000e+00,  3.0000e+00,\n",
       "         9.0000e+00,  6.8000e+01,  5.5000e+03,  3.1000e+01,  3.8000e+01,\n",
       "         6.2290e+03],\n",
       "       [ 1.5500e+02,  0.0000e+00,  9.6000e+01,  1.7000e+02,  6.4000e+01,\n",
       "         5.9000e+01,  2.2900e+03,  9.2000e+01,  3.0000e+00,  3.0000e+00,\n",
       "         9.0000e+00,  6.2000e+01,  4.8000e+03,  2.7000e+01,  3.2000e+01,\n",
       "         7.8980e+03],\n",
       "       [ 2.0300e+02, -1.0000e+00,  1.0900e+02,  1.8900e+02,  6.9000e+01,\n",
       "         5.6000e+01,  3.0120e+03,  1.7300e+02,  4.0000e+00,  3.0000e+00,\n",
       "         9.0000e+00,  1.3400e+02,  5.5000e+03,  1.8000e+01,  2.3000e+01,\n",
       "         2.1485e+04],\n",
       "       [ 8.0000e+01,  1.0000e+00,  9.3000e+01,  1.5700e+02,  6.4000e+01,\n",
       "         5.1000e+01,  2.1450e+03,  9.8000e+01,  3.0000e+00,  3.0000e+00,\n",
       "         8.0000e+00,  1.0200e+02,  5.5000e+03,  2.4000e+01,  3.0000e+01,\n",
       "         7.6890e+03],\n",
       "       [ 7.0000e+01,  0.0000e+00,  1.0700e+02,  1.8800e+02,  7.0000e+01,\n",
       "         5.5000e+01,  3.4950e+03,  1.8300e+02,  4.0000e+00,  4.0000e+00,\n",
       "         2.2000e+01,  1.2300e+02,  4.3500e+03,  2.2000e+01,  2.5000e+01,\n",
       "         2.8176e+04],\n",
       "       [ 1.4600e+02,  0.0000e+00,  9.7000e+01,  1.7200e+02,  6.5000e+01,\n",
       "         5.4000e+01,  2.5100e+03,  1.0800e+02,  4.0000e+00,  3.0000e+00,\n",
       "         8.0000e+00,  1.1100e+02,  4.8000e+03,  2.4000e+01,  2.9000e+01,\n",
       "         1.1259e+04],\n",
       "       [ 5.6000e+01,  3.0000e+00,  9.5000e+01,  1.6900e+02,  6.6000e+01,\n",
       "         5.0000e+01,  2.3800e+03,  7.0000e+01,  3.0000e+00,  3.0000e+00,\n",
       "         9.0000e+00,  1.0100e+02,  6.0000e+03,  1.7000e+01,  2.3000e+01,\n",
       "         1.0945e+04],\n",
       "       [ 4.6000e+01,  0.0000e+00,  9.4000e+01,  1.5600e+02,  6.4000e+01,\n",
       "         5.2000e+01,  1.9090e+03,  9.0000e+01,  3.0000e+00,  3.0000e+00,\n",
       "         1.0000e+01,  7.0000e+01,  5.4000e+03,  3.8000e+01,  4.3000e+01,\n",
       "         8.9160e+03],\n",
       "       [ 8.5000e+01,  3.0000e+00,  9.6000e+01,  1.7300e+02,  6.6000e+01,\n",
       "         5.0000e+01,  2.9260e+03,  1.5600e+02,  4.0000e+00,  4.0000e+00,\n",
       "         7.0000e+00,  1.4500e+02,  5.0000e+03,  1.9000e+01,  2.4000e+01,\n",
       "         1.4489e+04],\n",
       "       [ 1.4700e+02,  0.0000e+00,  9.7000e+01,  1.7400e+02,  6.5000e+01,\n",
       "         5.3000e+01,  2.2900e+03,  1.0800e+02,  4.0000e+00,  3.0000e+00,\n",
       "         9.0000e+00,  8.2000e+01,  4.8000e+03,  2.8000e+01,  3.2000e+01,\n",
       "         7.4630e+03],\n",
       "       [ 6.7000e+01,  0.0000e+00,  1.0500e+02,  1.7500e+02,  6.6000e+01,\n",
       "         5.4000e+01,  2.7000e+03,  1.3400e+02,  3.0000e+00,  4.0000e+00,\n",
       "         2.2000e+01,  7.2000e+01,  4.2000e+03,  3.1000e+01,  3.9000e+01,\n",
       "         1.8344e+04],\n",
       "       [ 1.1200e+02,  0.0000e+00,  1.0800e+02,  1.8700e+02,  6.8000e+01,\n",
       "         5.7000e+01,  3.0750e+03,  1.2000e+02,  3.0000e+00,  2.0000e+00,\n",
       "         8.0000e+00,  9.5000e+01,  5.0000e+03,  1.9000e+01,  2.4000e+01,\n",
       "         1.5580e+04],\n",
       "       [ 1.5400e+02,  0.0000e+00,  9.6000e+01,  1.7000e+02,  6.4000e+01,\n",
       "         5.9000e+01,  2.2800e+03,  9.2000e+01,  3.0000e+00,  3.0000e+00,\n",
       "         9.0000e+00,  6.2000e+01,  4.8000e+03,  3.1000e+01,  3.7000e+01,\n",
       "         6.9180e+03],\n",
       "       [ 9.7000e+01,  1.0000e+00,  9.4000e+01,  1.6500e+02,  6.4000e+01,\n",
       "         5.4000e+01,  1.9710e+03,  9.7000e+01,  3.0000e+00,  3.0000e+00,\n",
       "         9.0000e+00,  6.9000e+01,  5.2000e+03,  3.1000e+01,  3.7000e+01,\n",
       "         7.4990e+03],\n",
       "       [ 3.9000e+01,  0.0000e+00,  9.6000e+01,  1.6800e+02,  6.5000e+01,\n",
       "         5.3000e+01,  2.2890e+03,  1.1000e+02,  3.0000e+00,  4.0000e+00,\n",
       "         9.0000e+00,  8.6000e+01,  5.8000e+03,  2.7000e+01,  3.3000e+01,\n",
       "         9.0950e+03],\n",
       "       [ 2.5000e+01,  1.0000e+00,  9.4000e+01,  1.5700e+02,  6.4000e+01,\n",
       "         5.1000e+01,  1.9670e+03,  9.0000e+01,  3.0000e+00,  3.0000e+00,\n",
       "         9.0000e+00,  6.8000e+01,  5.5000e+03,  3.1000e+01,  3.8000e+01,\n",
       "         6.2290e+03],\n",
       "       [ 1.4000e+02,  2.0000e+00,  9.4000e+01,  1.5800e+02,  6.4000e+01,\n",
       "         5.4000e+01,  2.1200e+03,  1.0800e+02,  4.0000e+00,  3.0000e+00,\n",
       "         9.0000e+00,  7.3000e+01,  4.4000e+03,  2.6000e+01,  3.1000e+01,\n",
       "         7.0530e+03],\n",
       "       [ 1.1300e+02,  0.0000e+00,  1.0800e+02,  1.8700e+02,  6.8000e+01,\n",
       "         5.7000e+01,  3.2520e+03,  1.5200e+02,  4.0000e+00,  4.0000e+00,\n",
       "         2.1000e+01,  9.5000e+01,  4.1500e+03,  2.8000e+01,  3.3000e+01,\n",
       "         1.6900e+04],\n",
       "       [ 3.0000e+01,  3.0000e+00,  9.6000e+01,  1.7300e+02,  6.6000e+01,\n",
       "         5.0000e+01,  2.8110e+03,  1.5600e+02,  4.0000e+00,  4.0000e+00,\n",
       "         7.0000e+00,  1.4500e+02,  5.0000e+03,  1.9000e+01,  2.4000e+01,\n",
       "         1.2964e+04],\n",
       "       [ 2.0000e+01,  1.0000e+00,  9.4000e+01,  1.5600e+02,  6.4000e+01,\n",
       "         5.2000e+01,  1.8740e+03,  9.0000e+01,  3.0000e+00,  3.0000e+00,\n",
       "         1.0000e+01,  7.0000e+01,  5.4000e+03,  3.8000e+01,  4.3000e+01,\n",
       "         6.2950e+03],\n",
       "       [ 1.7900e+02,  3.0000e+00,  1.0300e+02,  1.8400e+02,  6.8000e+01,\n",
       "         5.2000e+01,  2.9760e+03,  1.7100e+02,  3.0000e+00,  3.0000e+00,\n",
       "         9.0000e+00,  1.6100e+02,  5.2000e+03,  2.0000e+01,  2.4000e+01,\n",
       "         1.6558e+04],\n",
       "       [ 9.1000e+01,  1.0000e+00,  9.4000e+01,  1.6500e+02,  6.4000e+01,\n",
       "         5.4000e+01,  2.0170e+03,  1.0300e+02,  3.0000e+00,  3.0000e+00,\n",
       "         2.2000e+01,  5.5000e+01,  4.8000e+03,  4.5000e+01,  5.0000e+01,\n",
       "         7.0990e+03],\n",
       "       [ 1.7400e+02, -1.0000e+00,  1.0200e+02,  1.7600e+02,  6.6000e+01,\n",
       "         5.5000e+01,  2.3260e+03,  1.2200e+02,  3.0000e+00,  4.0000e+00,\n",
       "         9.0000e+00,  9.2000e+01,  4.2000e+03,  2.9000e+01,  3.4000e+01,\n",
       "         8.9480e+03],\n",
       "       [ 9.4000e+01,  1.0000e+00,  9.4000e+01,  1.7000e+02,  6.4000e+01,\n",
       "         5.4000e+01,  2.0240e+03,  9.7000e+01,  3.0000e+00,  3.0000e+00,\n",
       "         9.0000e+00,  6.9000e+01,  5.2000e+03,  3.1000e+01,  3.7000e+01,\n",
       "         7.3490e+03],\n",
       "       [ 6.0000e+00,  2.0000e+00,  1.0000e+02,  1.7700e+02,  6.6000e+01,\n",
       "         5.3000e+01,  2.5070e+03,  1.3600e+02,  3.0000e+00,  3.0000e+00,\n",
       "         8.0000e+00,  1.1000e+02,  5.5000e+03,  1.9000e+01,  2.5000e+01,\n",
       "         1.5250e+04],\n",
       "       [ 1.6800e+02,  2.0000e+00,  9.8000e+01,  1.7600e+02,  6.6000e+01,\n",
       "         5.2000e+01,  2.5400e+03,  1.4600e+02,  4.0000e+00,  4.0000e+00,\n",
       "         9.0000e+00,  1.1600e+02,  4.8000e+03,  2.4000e+01,  3.0000e+01,\n",
       "         8.4490e+03],\n",
       "       [ 5.7000e+01,  3.0000e+00,  9.5000e+01,  1.6900e+02,  6.6000e+01,\n",
       "         5.0000e+01,  2.3800e+03,  7.0000e+01,  3.0000e+00,  3.0000e+00,\n",
       "         9.0000e+00,  1.0100e+02,  6.0000e+03,  1.7000e+01,  2.3000e+01,\n",
       "         1.1845e+04],\n",
       "       [ 1.2900e+02,  3.0000e+00,  9.0000e+01,  1.6900e+02,  6.5000e+01,\n",
       "         5.2000e+01,  2.8000e+03,  1.9400e+02,  4.0000e+00,  3.0000e+00,\n",
       "         1.0000e+01,  2.0700e+02,  5.9000e+03,  1.7000e+01,  2.5000e+01,\n",
       "         3.7028e+04],\n",
       "       [ 7.7000e+01,  2.0000e+00,  9.4000e+01,  1.5700e+02,  6.4000e+01,\n",
       "         5.1000e+01,  1.9180e+03,  9.2000e+01,  3.0000e+00,  3.0000e+00,\n",
       "         9.0000e+00,  6.8000e+01,  5.5000e+03,  3.7000e+01,  4.1000e+01,\n",
       "         5.3890e+03],\n",
       "       [ 1.4500e+02,  0.0000e+00,  9.7000e+01,  1.7200e+02,  6.5000e+01,\n",
       "         5.4000e+01,  2.3850e+03,  1.0800e+02,  4.0000e+00,  3.0000e+00,\n",
       "         9.0000e+00,  8.2000e+01,  4.8000e+03,  2.4000e+01,  2.5000e+01,\n",
       "         9.2330e+03],\n",
       "       [ 1.0500e+02,  3.0000e+00,  9.1000e+01,  1.7100e+02,  6.8000e+01,\n",
       "         5.0000e+01,  3.0710e+03,  1.8100e+02,  3.0000e+00,  3.0000e+00,\n",
       "         9.0000e+00,  1.6000e+02,  5.2000e+03,  1.9000e+01,  2.5000e+01,\n",
       "         1.7199e+04]])"
      ]
     },
     "execution_count": 192,
     "metadata": {},
     "output_type": "execute_result"
    }
   ],
   "source": [
    "model.fit(X_train,y_train)\n"
   ]
  },
  {
   "cell_type": "code",
   "execution_count": 194,
   "metadata": {},
   "outputs": [
    {
     "data": {
      "text/plain": [
       "array([ 3.,  3., 13., 17.,  9., 13., 19., 20., 18., 21., 22., 20.,  9.,\n",
       "       21., 10., 19.,  6., 11., 12., 18.,  9., 13., 13.,  7.,  5.,  3.,\n",
       "       20., 23., 13., 22.,  8., 15., 19., 23., 11.,  9., 18.,  8.,  8.,\n",
       "       11., 19.,  9., 15., 19., 13.,  6.,  5., 18., 14.,  6.,  5., 21.,\n",
       "       12., 21., 12.,  3., 20.,  8., 16., 11., 18., 14.])"
      ]
     },
     "execution_count": 194,
     "metadata": {},
     "output_type": "execute_result"
    }
   ],
   "source": [
    "y_test_pred=model.predict(X_test)\n",
    "y_test_pred.round()"
   ]
  },
  {
   "cell_type": "code",
   "execution_count": 195,
   "metadata": {},
   "outputs": [
    {
     "data": {
      "text/plain": [
       "array([ 3,  2, 13, 18, 10, 13, 20, 20, 19, 21, 21, 20,  9, 20, 10, 20,  4,\n",
       "       12, 12, 19,  9, 13, 13,  6,  5,  3, 20, 22, 13, 22, 10, 15, 20, 22,\n",
       "       12, 10, 19,  9,  7, 12, 19,  9, 14, 20, 13,  6,  5, 19, 14,  5,  4,\n",
       "       20, 13, 20, 13,  2, 20,  9, 16, 12, 19, 13], dtype=int64)"
      ]
     },
     "execution_count": 195,
     "metadata": {},
     "output_type": "execute_result"
    }
   ],
   "source": [
    "y_test"
   ]
  },
  {
   "cell_type": "code",
   "execution_count": 189,
   "metadata": {},
   "outputs": [
    {
     "data": {
      "text/plain": [
       "26"
      ]
     },
     "execution_count": 189,
     "metadata": {},
     "output_type": "execute_result"
    }
   ],
   "source": [
    "from sklearn.metrics import accuracy_score,confusion_matrix,classification_report\n",
    "accuracy_score(y_test,y_test_pred.round(), normalize=False)"
   ]
  },
  {
   "cell_type": "code",
   "execution_count": 186,
   "metadata": {},
   "outputs": [
    {
     "data": {
      "text/plain": [
       "0.9829515859868385"
      ]
     },
     "execution_count": 186,
     "metadata": {},
     "output_type": "execute_result"
    }
   ],
   "source": [
    "model.score(X_test,y_test)"
   ]
  },
  {
   "cell_type": "code",
   "execution_count": 196,
   "metadata": {},
   "outputs": [
    {
     "data": {
      "text/plain": [
       "array([[0, 2, 0, 0, 0, 0, 0, 0, 0, 0, 0, 0, 0, 0, 0, 0, 0, 0, 0, 0, 0, 0],\n",
       "       [0, 2, 0, 0, 0, 0, 0, 0, 0, 0, 0, 0, 0, 0, 0, 0, 0, 0, 0, 0, 0, 0],\n",
       "       [0, 0, 0, 1, 1, 0, 0, 0, 0, 0, 0, 0, 0, 0, 0, 0, 0, 0, 0, 0, 0, 0],\n",
       "       [0, 0, 0, 2, 1, 0, 0, 0, 0, 0, 0, 0, 0, 0, 0, 0, 0, 0, 0, 0, 0, 0],\n",
       "       [0, 0, 0, 0, 1, 1, 0, 0, 0, 0, 0, 0, 0, 0, 0, 0, 0, 0, 0, 0, 0, 0],\n",
       "       [0, 0, 0, 0, 0, 0, 1, 0, 0, 0, 0, 0, 0, 0, 0, 0, 0, 0, 0, 0, 0, 0],\n",
       "       [0, 0, 0, 0, 0, 0, 0, 0, 0, 0, 0, 0, 0, 0, 0, 0, 0, 0, 0, 0, 0, 0],\n",
       "       [0, 0, 0, 0, 0, 0, 2, 3, 0, 0, 0, 0, 0, 0, 0, 0, 0, 0, 0, 0, 0, 0],\n",
       "       [0, 0, 0, 0, 0, 0, 1, 2, 1, 0, 0, 0, 0, 0, 0, 0, 0, 0, 0, 0, 0, 0],\n",
       "       [0, 0, 0, 0, 0, 0, 0, 0, 0, 0, 0, 0, 0, 0, 0, 0, 0, 0, 0, 0, 0, 0],\n",
       "       [0, 0, 0, 0, 0, 0, 0, 0, 0, 4, 1, 0, 0, 0, 0, 0, 0, 0, 0, 0, 0, 0],\n",
       "       [0, 0, 0, 0, 0, 0, 0, 0, 0, 0, 2, 6, 1, 0, 0, 0, 0, 0, 0, 0, 0, 0],\n",
       "       [0, 0, 0, 0, 0, 0, 0, 0, 0, 0, 0, 0, 1, 1, 0, 0, 0, 0, 0, 0, 0, 0],\n",
       "       [0, 0, 0, 0, 0, 0, 0, 0, 0, 0, 0, 0, 0, 1, 0, 0, 0, 0, 0, 0, 0, 0],\n",
       "       [0, 0, 0, 0, 0, 0, 0, 0, 0, 0, 0, 0, 0, 0, 1, 0, 0, 0, 0, 0, 0, 0],\n",
       "       [0, 0, 0, 0, 0, 0, 0, 0, 0, 0, 0, 0, 0, 0, 0, 0, 0, 0, 0, 0, 0, 0],\n",
       "       [0, 0, 0, 0, 0, 0, 0, 0, 0, 0, 0, 0, 0, 0, 0, 1, 0, 0, 0, 0, 0, 0],\n",
       "       [0, 0, 0, 0, 0, 0, 0, 0, 0, 0, 0, 0, 0, 0, 0, 0, 5, 1, 0, 0, 0, 0],\n",
       "       [0, 0, 0, 0, 0, 0, 0, 0, 0, 0, 0, 0, 0, 0, 0, 0, 0, 4, 4, 3, 0, 0],\n",
       "       [0, 0, 0, 0, 0, 0, 0, 0, 0, 0, 0, 0, 0, 0, 0, 0, 0, 0, 0, 1, 1, 0],\n",
       "       [0, 0, 0, 0, 0, 0, 0, 0, 0, 0, 0, 0, 0, 0, 0, 0, 0, 0, 0, 0, 1, 2],\n",
       "       [0, 0, 0, 0, 0, 0, 0, 0, 0, 0, 0, 0, 0, 0, 0, 0, 0, 0, 0, 0, 0, 0]],\n",
       "      dtype=int64)"
      ]
     },
     "execution_count": 196,
     "metadata": {},
     "output_type": "execute_result"
    }
   ],
   "source": [
    "confusion_matrix(y_test,y_test_pred.round())"
   ]
  },
  {
   "cell_type": "code",
   "execution_count": null,
   "metadata": {},
   "outputs": [],
   "source": []
  },
  {
   "cell_type": "code",
   "execution_count": null,
   "metadata": {},
   "outputs": [],
   "source": []
  }
 ],
 "metadata": {
  "kernelspec": {
   "display_name": "Python 3",
   "language": "python",
   "name": "python3"
  },
  "language_info": {
   "codemirror_mode": {
    "name": "ipython",
    "version": 3
   },
   "file_extension": ".py",
   "mimetype": "text/x-python",
   "name": "python",
   "nbconvert_exporter": "python",
   "pygments_lexer": "ipython3",
   "version": "3.6.5"
  }
 },
 "nbformat": 4,
 "nbformat_minor": 4
}
