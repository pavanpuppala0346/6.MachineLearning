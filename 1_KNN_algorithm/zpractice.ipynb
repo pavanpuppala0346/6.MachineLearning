{
 "cells": [
  {
   "cell_type": "code",
   "execution_count": 86,
   "metadata": {},
   "outputs": [
    {
     "data": {
      "text/plain": [
       "'E:\\\\code\\\\6.MachineLearning\\\\1_KNN_algorithm\\\\data'"
      ]
     },
     "execution_count": 86,
     "metadata": {},
     "output_type": "execute_result"
    }
   ],
   "source": [
    "import os\n",
    "\n",
    "os.getcwd()\n",
    "os.chdir(\"E:\\\\code\\\\6.MachineLearning\\\\1_KNN_algorithm\\\\data\")\n",
    "os.getcwd()"
   ]
  },
  {
   "cell_type": "code",
   "execution_count": 87,
   "metadata": {},
   "outputs": [
    {
     "data": {
      "text/html": [
       "<div>\n",
       "<style scoped>\n",
       "    .dataframe tbody tr th:only-of-type {\n",
       "        vertical-align: middle;\n",
       "    }\n",
       "\n",
       "    .dataframe tbody tr th {\n",
       "        vertical-align: top;\n",
       "    }\n",
       "\n",
       "    .dataframe thead th {\n",
       "        text-align: right;\n",
       "    }\n",
       "</style>\n",
       "<table border=\"1\" class=\"dataframe\">\n",
       "  <thead>\n",
       "    <tr style=\"text-align: right;\">\n",
       "      <th></th>\n",
       "      <th>sepal_length</th>\n",
       "      <th>sepal_width</th>\n",
       "      <th>petal_length</th>\n",
       "      <th>petal_width</th>\n",
       "      <th>species</th>\n",
       "    </tr>\n",
       "  </thead>\n",
       "  <tbody>\n",
       "    <tr>\n",
       "      <th>0</th>\n",
       "      <td>5.1</td>\n",
       "      <td>3.5</td>\n",
       "      <td>1.4</td>\n",
       "      <td>0.2</td>\n",
       "      <td>setosa</td>\n",
       "    </tr>\n",
       "    <tr>\n",
       "      <th>1</th>\n",
       "      <td>4.9</td>\n",
       "      <td>3.0</td>\n",
       "      <td>1.4</td>\n",
       "      <td>0.2</td>\n",
       "      <td>setosa</td>\n",
       "    </tr>\n",
       "    <tr>\n",
       "      <th>2</th>\n",
       "      <td>4.7</td>\n",
       "      <td>3.2</td>\n",
       "      <td>1.3</td>\n",
       "      <td>0.2</td>\n",
       "      <td>setosa</td>\n",
       "    </tr>\n",
       "    <tr>\n",
       "      <th>3</th>\n",
       "      <td>4.6</td>\n",
       "      <td>3.1</td>\n",
       "      <td>1.5</td>\n",
       "      <td>0.2</td>\n",
       "      <td>setosa</td>\n",
       "    </tr>\n",
       "    <tr>\n",
       "      <th>4</th>\n",
       "      <td>5.0</td>\n",
       "      <td>3.6</td>\n",
       "      <td>1.4</td>\n",
       "      <td>0.2</td>\n",
       "      <td>setosa</td>\n",
       "    </tr>\n",
       "  </tbody>\n",
       "</table>\n",
       "</div>"
      ],
      "text/plain": [
       "   sepal_length  sepal_width  petal_length  petal_width species\n",
       "0           5.1          3.5           1.4          0.2  setosa\n",
       "1           4.9          3.0           1.4          0.2  setosa\n",
       "2           4.7          3.2           1.3          0.2  setosa\n",
       "3           4.6          3.1           1.5          0.2  setosa\n",
       "4           5.0          3.6           1.4          0.2  setosa"
      ]
     },
     "execution_count": 87,
     "metadata": {},
     "output_type": "execute_result"
    }
   ],
   "source": [
    "import pandas as pd\n",
    "\n",
    "df = pd.read_csv(\"iris.csv\")\n",
    "df.head()"
   ]
  },
  {
   "cell_type": "code",
   "execution_count": 88,
   "metadata": {},
   "outputs": [
    {
     "name": "stdout",
     "output_type": "stream",
     "text": [
      "<class 'pandas.core.frame.DataFrame'>\n",
      "RangeIndex: 150 entries, 0 to 149\n",
      "Data columns (total 5 columns):\n",
      " #   Column        Non-Null Count  Dtype  \n",
      "---  ------        --------------  -----  \n",
      " 0   sepal_length  150 non-null    float64\n",
      " 1   sepal_width   150 non-null    float64\n",
      " 2   petal_length  150 non-null    float64\n",
      " 3   petal_width   150 non-null    float64\n",
      " 4   species       150 non-null    object \n",
      "dtypes: float64(4), object(1)\n",
      "memory usage: 6.0+ KB\n"
     ]
    }
   ],
   "source": [
    "df.info()"
   ]
  },
  {
   "cell_type": "code",
   "execution_count": 89,
   "metadata": {},
   "outputs": [],
   "source": [
    "X = df.iloc[:,:-1].values"
   ]
  },
  {
   "cell_type": "code",
   "execution_count": 90,
   "metadata": {},
   "outputs": [
    {
     "data": {
      "text/plain": [
       "array(['setosa', 'versicolor', 'virginica'], dtype=object)"
      ]
     },
     "execution_count": 90,
     "metadata": {},
     "output_type": "execute_result"
    }
   ],
   "source": [
    "y  = df.iloc[:,-1]\n",
    "y.unique()"
   ]
  },
  {
   "cell_type": "code",
   "execution_count": 91,
   "metadata": {},
   "outputs": [],
   "source": [
    "y.replace(['setosa', 'versicolor', 'virginica'],[0,1,2],inplace=True)"
   ]
  },
  {
   "cell_type": "code",
   "execution_count": 92,
   "metadata": {},
   "outputs": [],
   "source": [
    "y = y.values"
   ]
  },
  {
   "cell_type": "code",
   "execution_count": 93,
   "metadata": {},
   "outputs": [
    {
     "data": {
      "text/plain": [
       "array([0, 0, 0, 0, 0, 0, 0, 0, 0, 0, 0, 0, 0, 0, 0, 0, 0, 0, 0, 0, 0, 0,\n",
       "       0, 0, 0, 0, 0, 0, 0, 0, 0, 0, 0, 0, 0, 0, 0, 0, 0, 0, 0, 0, 0, 0,\n",
       "       0, 0, 0, 0, 0, 0, 1, 1, 1, 1, 1, 1, 1, 1, 1, 1, 1, 1, 1, 1, 1, 1,\n",
       "       1, 1, 1, 1, 1, 1, 1, 1, 1, 1, 1, 1, 1, 1, 1, 1, 1, 1, 1, 1, 1, 1,\n",
       "       1, 1, 1, 1, 1, 1, 1, 1, 1, 1, 1, 1, 2, 2, 2, 2, 2, 2, 2, 2, 2, 2,\n",
       "       2, 2, 2, 2, 2, 2, 2, 2, 2, 2, 2, 2, 2, 2, 2, 2, 2, 2, 2, 2, 2, 2,\n",
       "       2, 2, 2, 2, 2, 2, 2, 2, 2, 2, 2, 2, 2, 2, 2, 2, 2, 2], dtype=int64)"
      ]
     },
     "execution_count": 93,
     "metadata": {},
     "output_type": "execute_result"
    }
   ],
   "source": [
    "y"
   ]
  },
  {
   "cell_type": "code",
   "execution_count": 94,
   "metadata": {},
   "outputs": [],
   "source": [
    "from sklearn.model_selection import train_test_split\n",
    "\n",
    "X_train,X_test,y_train,y_test = train_test_split(X, y, test_size=0.3, random_state=42, stratify=y)"
   ]
  },
  {
   "cell_type": "code",
   "execution_count": 95,
   "metadata": {},
   "outputs": [
    {
     "data": {
      "text/plain": [
       "105"
      ]
     },
     "execution_count": 95,
     "metadata": {},
     "output_type": "execute_result"
    }
   ],
   "source": [
    "len(X_train)"
   ]
  },
  {
   "cell_type": "code",
   "execution_count": 96,
   "metadata": {},
   "outputs": [
    {
     "data": {
      "text/plain": [
       "45"
      ]
     },
     "execution_count": 96,
     "metadata": {},
     "output_type": "execute_result"
    }
   ],
   "source": [
    "len(X_test)"
   ]
  },
  {
   "cell_type": "code",
   "execution_count": 97,
   "metadata": {},
   "outputs": [
    {
     "data": {
      "text/plain": [
       "(array([0, 1, 2], dtype=int64), array([35, 35, 35], dtype=int64))"
      ]
     },
     "execution_count": 97,
     "metadata": {},
     "output_type": "execute_result"
    }
   ],
   "source": [
    "import numpy as np\n",
    "\n",
    "np.unique(y_train, return_counts=True)"
   ]
  },
  {
   "cell_type": "code",
   "execution_count": 98,
   "metadata": {},
   "outputs": [
    {
     "data": {
      "text/plain": [
       "KNeighborsClassifier()"
      ]
     },
     "execution_count": 98,
     "metadata": {},
     "output_type": "execute_result"
    }
   ],
   "source": [
    "from sklearn.neighbors import KNeighborsClassifier\n",
    "\n",
    "model = KNeighborsClassifier(n_neighbors=5)\n",
    "model.fit(X_train,y_train)"
   ]
  },
  {
   "cell_type": "code",
   "execution_count": 99,
   "metadata": {},
   "outputs": [],
   "source": [
    "#KNeighborsClassifier?"
   ]
  },
  {
   "cell_type": "code",
   "execution_count": 100,
   "metadata": {},
   "outputs": [
    {
     "data": {
      "text/plain": [
       "array([2, 1, 2, 1, 2, 2, 1, 1, 0, 2, 0, 0, 2, 2, 0, 2, 1, 0, 0, 0, 1, 0,\n",
       "       1, 2, 2, 1, 1, 1, 1, 0, 2, 2, 1, 0, 2, 0, 0, 0, 0, 1, 1, 0, 1, 2,\n",
       "       1], dtype=int64)"
      ]
     },
     "execution_count": 100,
     "metadata": {},
     "output_type": "execute_result"
    }
   ],
   "source": [
    "y_pred_test = model.predict(X_test)\n",
    "y_pred_test"
   ]
  },
  {
   "cell_type": "code",
   "execution_count": 101,
   "metadata": {},
   "outputs": [
    {
     "data": {
      "text/plain": [
       "array([2, 1, 2, 1, 2, 2, 1, 1, 0, 2, 0, 0, 2, 2, 0, 2, 1, 0, 0, 0, 1, 0,\n",
       "       1, 2, 2, 1, 1, 1, 1, 0, 2, 2, 1, 0, 2, 0, 0, 0, 0, 1, 1, 0, 2, 2,\n",
       "       1], dtype=int64)"
      ]
     },
     "execution_count": 101,
     "metadata": {},
     "output_type": "execute_result"
    }
   ],
   "source": [
    "y_test"
   ]
  },
  {
   "cell_type": "code",
   "execution_count": 102,
   "metadata": {},
   "outputs": [
    {
     "data": {
      "text/plain": [
       "44"
      ]
     },
     "execution_count": 102,
     "metadata": {},
     "output_type": "execute_result"
    }
   ],
   "source": [
    "sum(y_test == y_pred_test)"
   ]
  },
  {
   "cell_type": "code",
   "execution_count": 103,
   "metadata": {},
   "outputs": [
    {
     "data": {
      "text/plain": [
       "97.77777777777777"
      ]
     },
     "execution_count": 103,
     "metadata": {},
     "output_type": "execute_result"
    }
   ],
   "source": [
    "44/45*100"
   ]
  },
  {
   "cell_type": "code",
   "execution_count": 104,
   "metadata": {},
   "outputs": [
    {
     "data": {
      "text/plain": [
       "0.9777777777777777"
      ]
     },
     "execution_count": 104,
     "metadata": {},
     "output_type": "execute_result"
    }
   ],
   "source": [
    "from sklearn.metrics import accuracy_score, confusion_matrix\n",
    "\n",
    "accuracy_score(y_test, y_pred_test)"
   ]
  },
  {
   "cell_type": "code",
   "execution_count": 105,
   "metadata": {},
   "outputs": [
    {
     "data": {
      "text/plain": [
       "array([[15,  0,  0],\n",
       "       [ 0, 15,  0],\n",
       "       [ 0,  1, 14]], dtype=int64)"
      ]
     },
     "execution_count": 105,
     "metadata": {},
     "output_type": "execute_result"
    }
   ],
   "source": [
    "confusion_matrix(y_test, y_pred_test)"
   ]
  },
  {
   "cell_type": "code",
   "execution_count": 106,
   "metadata": {},
   "outputs": [
    {
     "data": {
      "text/plain": [
       "[(2, 'uniform', 0.9111111111111111, 'ball_tree'),\n",
       " (2, 'uniform', 0.9111111111111111, 'kd_tree'),\n",
       " (2, 'uniform', 0.9111111111111111, 'brute'),\n",
       " (2, 'distance', 0.9333333333333333, 'ball_tree'),\n",
       " (2, 'distance', 0.9333333333333333, 'kd_tree'),\n",
       " (2, 'distance', 0.9333333333333333, 'brute'),\n",
       " (3, 'uniform', 0.9555555555555556, 'ball_tree'),\n",
       " (3, 'uniform', 0.9555555555555556, 'kd_tree'),\n",
       " (3, 'uniform', 0.9555555555555556, 'brute'),\n",
       " (3, 'distance', 0.9555555555555556, 'ball_tree'),\n",
       " (3, 'distance', 0.9555555555555556, 'kd_tree'),\n",
       " (3, 'distance', 0.9555555555555556, 'brute'),\n",
       " (4, 'uniform', 0.9555555555555556, 'ball_tree'),\n",
       " (4, 'uniform', 0.9555555555555556, 'kd_tree'),\n",
       " (4, 'uniform', 0.9333333333333333, 'brute'),\n",
       " (4, 'distance', 0.9555555555555556, 'ball_tree'),\n",
       " (4, 'distance', 0.9555555555555556, 'kd_tree'),\n",
       " (4, 'distance', 0.9333333333333333, 'brute'),\n",
       " (5, 'uniform', 0.9777777777777777, 'ball_tree'),\n",
       " (5, 'uniform', 0.9777777777777777, 'kd_tree'),\n",
       " (5, 'uniform', 0.9777777777777777, 'brute'),\n",
       " (5, 'distance', 0.9777777777777777, 'ball_tree'),\n",
       " (5, 'distance', 0.9777777777777777, 'kd_tree'),\n",
       " (5, 'distance', 0.9777777777777777, 'brute'),\n",
       " (6, 'uniform', 0.9555555555555556, 'ball_tree'),\n",
       " (6, 'uniform', 0.9555555555555556, 'kd_tree'),\n",
       " (6, 'uniform', 0.9555555555555556, 'brute'),\n",
       " (6, 'distance', 0.9777777777777777, 'ball_tree'),\n",
       " (6, 'distance', 0.9777777777777777, 'kd_tree'),\n",
       " (6, 'distance', 0.9777777777777777, 'brute'),\n",
       " (7, 'uniform', 0.9555555555555556, 'ball_tree'),\n",
       " (7, 'uniform', 0.9555555555555556, 'kd_tree'),\n",
       " (7, 'uniform', 0.9555555555555556, 'brute'),\n",
       " (7, 'distance', 0.9555555555555556, 'ball_tree'),\n",
       " (7, 'distance', 0.9555555555555556, 'kd_tree'),\n",
       " (7, 'distance', 0.9555555555555556, 'brute'),\n",
       " (8, 'uniform', 0.9333333333333333, 'ball_tree'),\n",
       " (8, 'uniform', 0.9333333333333333, 'kd_tree'),\n",
       " (8, 'uniform', 0.9333333333333333, 'brute'),\n",
       " (8, 'distance', 0.9333333333333333, 'ball_tree'),\n",
       " (8, 'distance', 0.9333333333333333, 'kd_tree'),\n",
       " (8, 'distance', 0.9333333333333333, 'brute'),\n",
       " (9, 'uniform', 0.9555555555555556, 'ball_tree'),\n",
       " (9, 'uniform', 0.9555555555555556, 'kd_tree'),\n",
       " (9, 'uniform', 0.9555555555555556, 'brute'),\n",
       " (9, 'distance', 0.9555555555555556, 'ball_tree'),\n",
       " (9, 'distance', 0.9555555555555556, 'kd_tree'),\n",
       " (9, 'distance', 0.9555555555555556, 'brute'),\n",
       " (10, 'uniform', 0.9555555555555556, 'ball_tree'),\n",
       " (10, 'uniform', 0.9555555555555556, 'kd_tree'),\n",
       " (10, 'uniform', 0.9555555555555556, 'brute'),\n",
       " (10, 'distance', 0.9555555555555556, 'ball_tree'),\n",
       " (10, 'distance', 0.9555555555555556, 'kd_tree'),\n",
       " (10, 'distance', 0.9555555555555556, 'brute'),\n",
       " (11, 'uniform', 0.9333333333333333, 'ball_tree'),\n",
       " (11, 'uniform', 0.9333333333333333, 'kd_tree'),\n",
       " (11, 'uniform', 0.9333333333333333, 'brute'),\n",
       " (11, 'distance', 0.9555555555555556, 'ball_tree'),\n",
       " (11, 'distance', 0.9555555555555556, 'kd_tree'),\n",
       " (11, 'distance', 0.9555555555555556, 'brute'),\n",
       " (12, 'uniform', 0.9333333333333333, 'ball_tree'),\n",
       " (12, 'uniform', 0.9333333333333333, 'kd_tree'),\n",
       " (12, 'uniform', 0.9333333333333333, 'brute'),\n",
       " (12, 'distance', 0.9333333333333333, 'ball_tree'),\n",
       " (12, 'distance', 0.9333333333333333, 'kd_tree'),\n",
       " (12, 'distance', 0.9333333333333333, 'brute'),\n",
       " (13, 'uniform', 0.9333333333333333, 'ball_tree'),\n",
       " (13, 'uniform', 0.9333333333333333, 'kd_tree'),\n",
       " (13, 'uniform', 0.9333333333333333, 'brute'),\n",
       " (13, 'distance', 0.9333333333333333, 'ball_tree'),\n",
       " (13, 'distance', 0.9333333333333333, 'kd_tree'),\n",
       " (13, 'distance', 0.9333333333333333, 'brute'),\n",
       " (14, 'uniform', 0.9333333333333333, 'ball_tree'),\n",
       " (14, 'uniform', 0.9333333333333333, 'kd_tree'),\n",
       " (14, 'uniform', 0.9333333333333333, 'brute'),\n",
       " (14, 'distance', 0.9333333333333333, 'ball_tree'),\n",
       " (14, 'distance', 0.9333333333333333, 'kd_tree'),\n",
       " (14, 'distance', 0.9333333333333333, 'brute'),\n",
       " (15, 'uniform', 0.9555555555555556, 'ball_tree'),\n",
       " (15, 'uniform', 0.9555555555555556, 'kd_tree'),\n",
       " (15, 'uniform', 0.9555555555555556, 'brute'),\n",
       " (15, 'distance', 0.9777777777777777, 'ball_tree'),\n",
       " (15, 'distance', 0.9777777777777777, 'kd_tree'),\n",
       " (15, 'distance', 0.9777777777777777, 'brute'),\n",
       " (16, 'uniform', 0.9555555555555556, 'ball_tree'),\n",
       " (16, 'uniform', 0.9555555555555556, 'kd_tree'),\n",
       " (16, 'uniform', 0.9555555555555556, 'brute'),\n",
       " (16, 'distance', 0.9555555555555556, 'ball_tree'),\n",
       " (16, 'distance', 0.9555555555555556, 'kd_tree'),\n",
       " (16, 'distance', 0.9555555555555556, 'brute'),\n",
       " (17, 'uniform', 0.9555555555555556, 'ball_tree'),\n",
       " (17, 'uniform', 0.9555555555555556, 'kd_tree'),\n",
       " (17, 'uniform', 0.9555555555555556, 'brute'),\n",
       " (17, 'distance', 0.9555555555555556, 'ball_tree'),\n",
       " (17, 'distance', 0.9555555555555556, 'kd_tree'),\n",
       " (17, 'distance', 0.9555555555555556, 'brute'),\n",
       " (18, 'uniform', 0.9555555555555556, 'ball_tree'),\n",
       " (18, 'uniform', 0.9555555555555556, 'kd_tree'),\n",
       " (18, 'uniform', 0.9555555555555556, 'brute'),\n",
       " (18, 'distance', 0.9555555555555556, 'ball_tree'),\n",
       " (18, 'distance', 0.9555555555555556, 'kd_tree'),\n",
       " (18, 'distance', 0.9555555555555556, 'brute'),\n",
       " (19, 'uniform', 0.9555555555555556, 'ball_tree'),\n",
       " (19, 'uniform', 0.9555555555555556, 'kd_tree'),\n",
       " (19, 'uniform', 0.9555555555555556, 'brute'),\n",
       " (19, 'distance', 0.9777777777777777, 'ball_tree'),\n",
       " (19, 'distance', 0.9777777777777777, 'kd_tree'),\n",
       " (19, 'distance', 0.9777777777777777, 'brute'),\n",
       " (20, 'uniform', 0.9333333333333333, 'ball_tree'),\n",
       " (20, 'uniform', 0.9333333333333333, 'kd_tree'),\n",
       " (20, 'uniform', 0.9333333333333333, 'brute'),\n",
       " (20, 'distance', 0.9333333333333333, 'ball_tree'),\n",
       " (20, 'distance', 0.9333333333333333, 'kd_tree'),\n",
       " (20, 'distance', 0.9333333333333333, 'brute')]"
      ]
     },
     "execution_count": 106,
     "metadata": {},
     "output_type": "execute_result"
    }
   ],
   "source": [
    "rs=[]\n",
    "for i in list(range(2,21)):\n",
    "    #print(i)\n",
    "    for w in ['uniform','distance']:\n",
    "        for alg in ['ball_tree', 'kd_tree', 'brute']:\n",
    "            \n",
    "            model = KNeighborsClassifier(n_neighbors=i, weights=w,algorithm=alg)\n",
    "            model.fit(X_train,y_train)\n",
    "            y_pred = model.predict(X_test)\n",
    "            acc = accuracy_score(y_test,y_pred)\n",
    "            rs.append((i,w,acc,alg))\n",
    "    #print(\"n_neighbors:\",i,\"respective accuracy is:\",acc)\n",
    "rs"
   ]
  },
  {
   "cell_type": "code",
   "execution_count": 107,
   "metadata": {},
   "outputs": [],
   "source": [
    "from sklearn.model_selection import GridSearchCV\n",
    "\n",
    "GridSearchCV?"
   ]
  },
  {
   "cell_type": "code",
   "execution_count": 109,
   "metadata": {},
   "outputs": [],
   "source": [
    "model = KNeighborsClassifier(n_neighbors=8)\n",
    "param_grid =  {\"n_neighbors\":list(range(2,21)),\n",
    "                \"weights\":['uniform','distance'],\n",
    "                \"algorithm\":['ball_tree', 'kd_tree', 'brute']}\n"
   ]
  },
  {
   "cell_type": "code",
   "execution_count": 119,
   "metadata": {},
   "outputs": [],
   "source": [
    "clf = GridSearchCV(model, param_grid,cv=3)"
   ]
  },
  {
   "cell_type": "code",
   "execution_count": 125,
   "metadata": {},
   "outputs": [
    {
     "data": {
      "text/plain": [
       "GridSearchCV(cv=3, estimator=KNeighborsClassifier(n_neighbors=8),\n",
       "             param_grid={'algorithm': ['ball_tree', 'kd_tree', 'brute'],\n",
       "                         'n_neighbors': [2, 3, 4, 5, 6, 7, 8, 9, 10, 11, 12, 13,\n",
       "                                         14, 15, 16, 17, 18, 19, 20],\n",
       "                         'weights': ['uniform', 'distance']})"
      ]
     },
     "execution_count": 125,
     "metadata": {},
     "output_type": "execute_result"
    }
   ],
   "source": [
    "clf.fit(X,y)"
   ]
  },
  {
   "cell_type": "code",
   "execution_count": 126,
   "metadata": {},
   "outputs": [
    {
     "data": {
      "text/plain": [
       "{'mean_fit_time': array([0.00200152, 0.00316834, 0.00166821, 0.00100064, 0.0018367 ,\n",
       "        0.00133435, 0.00200033, 0.00133403, 0.00183447, 0.00100072,\n",
       "        0.00133467, 0.00133411, 0.00132998, 0.00134118, 0.00200137,\n",
       "        0.00150148, 0.00150108, 0.00150116, 0.001501  , 0.00150975,\n",
       "        0.00165971, 0.00167171, 0.0014952 , 0.00150069, 0.00150188,\n",
       "        0.00165876, 0.00165923, 0.00150092, 0.00150132, 0.00150077,\n",
       "        0.00150863, 0.00150967, 0.00150943, 0.00150053, 0.00150124,\n",
       "        0.00150124, 0.00149258, 0.00149298, 0.001676  , 0.00183447,\n",
       "        0.00233714, 0.00200176, 0.00199302, 0.00183463, 0.00165979,\n",
       "        0.0015014 , 0.00183495, 0.00166798, 0.00200327, 0.0016679 ,\n",
       "        0.00165931, 0.00166726, 0.00150911, 0.00200192, 0.00134071,\n",
       "        0.00166925, 0.001827  , 0.00184345, 0.00183535, 0.00150188,\n",
       "        0.00166829, 0.00216921, 0.00184345, 0.00150164, 0.00182676,\n",
       "        0.00166837, 0.00217231, 0.00183185, 0.00166821, 0.00183479,\n",
       "        0.00183511, 0.00182605, 0.00166758, 0.00166829, 0.00184067,\n",
       "        0.00200208, 0.00116793, 0.00133506, 0.0010012 , 0.00133427,\n",
       "        0.00100112, 0.00116817, 0.00166806, 0.00166806, 0.00149941,\n",
       "        0.00133268, 0.00116714, 0.00133491, 0.00116682, 0.00100684,\n",
       "        0.00116754, 0.00116785, 0.00100923, 0.00115911, 0.00131853,\n",
       "        0.00100923, 0.00133467, 0.00100032, 0.00133491, 0.00116285,\n",
       "        0.00133451, 0.00133427, 0.00133435, 0.00116777, 0.00101026,\n",
       "        0.00100104, 0.00115617, 0.00116142, 0.00100072, 0.00116118,\n",
       "        0.00116777, 0.00117397, 0.00116698, 0.00116722]),\n",
       " 'std_fit_time': array([8.14983687e-04, 6.23819771e-04, 4.72382239e-04, 3.89335909e-07,\n",
       "        2.36811973e-04, 4.71932472e-04, 8.92080638e-07, 2.35411462e-04,\n",
       "        2.36079049e-04, 1.12391596e-07, 4.72044703e-04, 2.35291826e-04,\n",
       "        4.65750774e-04, 4.65996308e-04, 4.05233662e-07, 5.61957980e-07,\n",
       "        0.00000000e+00, 2.97360213e-07, 1.12391596e-07, 1.17453251e-05,\n",
       "        2.42932998e-04, 2.51668124e-04, 8.65634206e-06, 2.24783192e-07,\n",
       "        5.61957980e-07, 2.23996535e-04, 2.42259271e-04, 1.12391596e-07,\n",
       "        2.11221459e-05, 2.97360213e-07, 1.06772016e-05, 1.18075382e-05,\n",
       "        1.23103434e-05, 8.10467325e-07, 2.97360213e-07, 8.10467325e-07,\n",
       "        1.21979837e-05, 1.21398533e-05, 2.46362455e-04, 2.36921484e-04,\n",
       "        2.33437345e-04, 7.78671819e-07, 1.21979837e-05, 2.36359526e-04,\n",
       "        2.24446102e-04, 7.86741172e-07, 2.35572785e-04, 2.36022352e-04,\n",
       "        2.64299538e-06, 4.72157135e-04, 4.65716722e-04, 4.71370716e-04,\n",
       "        3.98129537e-04, 8.77806426e-07, 4.80923639e-04, 4.73114676e-04,\n",
       "        2.48667949e-04, 2.23210049e-04, 2.36191440e-04, 2.97360213e-07,\n",
       "        2.36473200e-04, 2.35966176e-04, 2.24052668e-04, 4.89903609e-07,\n",
       "        2.30184547e-04, 2.36078568e-04, 6.16102805e-04, 2.40968290e-04,\n",
       "        2.36022352e-04, 2.35291826e-04, 2.35685257e-04, 2.29393120e-04,\n",
       "        2.35966176e-04, 2.36472239e-04, 2.27480674e-04, 2.97360213e-07,\n",
       "        2.35909960e-04, 2.36134823e-04, 1.12391596e-07, 2.35572785e-04,\n",
       "        1.94667955e-07, 2.36078568e-04, 6.23543135e-04, 2.35460474e-04,\n",
       "        7.05201076e-04, 2.35145057e-04, 2.36304313e-04, 2.36359847e-04,\n",
       "        2.51204118e-04, 8.76654449e-06, 2.35685257e-04, 2.36135465e-04,\n",
       "        1.21382924e-05, 2.23940276e-04, 2.24790020e-04, 1.28126419e-05,\n",
       "        2.36022352e-04, 2.24783192e-07, 2.36361531e-04, 2.48192812e-04,\n",
       "        2.35910683e-04, 2.26867135e-04, 2.35629001e-04, 2.35853784e-04,\n",
       "        1.34339696e-05, 2.97360213e-07, 2.24513375e-04, 2.26862625e-04,\n",
       "        7.86741172e-07, 2.27368282e-04, 2.35685177e-04, 2.43946445e-04,\n",
       "        2.35404218e-04, 2.36247135e-04]),\n",
       " 'mean_score_time': array([0.01017443, 0.00533851, 0.0093387 , 0.00384076, 0.01050528,\n",
       "        0.0030028 , 0.00800641, 0.00334422, 0.00784826, 0.00300209,\n",
       "        0.01101891, 0.00300185, 0.00800975, 0.00300217, 0.00801651,\n",
       "        0.00350213, 0.00833869, 0.00383584, 0.0080057 , 0.00316024,\n",
       "        0.00851385, 0.00333397, 0.00834552, 0.00316866, 0.0081559 ,\n",
       "        0.00351103, 0.00833217, 0.00351119, 0.00884787, 0.00350261,\n",
       "        0.00867256, 0.00350261, 0.00833917, 0.00383608, 0.00817299,\n",
       "        0.00350245, 0.00834719, 0.00351095, 0.00815558, 0.00316954,\n",
       "        0.01568143, 0.00350173, 0.00818054, 0.00333556, 0.00834076,\n",
       "        0.00332936, 0.00817211, 0.00432698, 0.00935515, 0.00366926,\n",
       "        0.0080138 , 0.00384704, 0.00800514, 0.00366211, 0.00832192,\n",
       "        0.0033385 , 0.00818022, 0.00350197, 0.00816369, 0.00350173,\n",
       "        0.00849835, 0.00399311, 0.00817211, 0.00350205, 0.00867256,\n",
       "        0.00350221, 0.01033934, 0.00367196, 0.00867319, 0.00366163,\n",
       "        0.00817204, 0.00383615, 0.00867383, 0.00433763, 0.00833869,\n",
       "        0.00366076, 0.00783888, 0.00283511, 0.00750534, 0.00300233,\n",
       "        0.00833925, 0.00300185, 0.00783849, 0.00366934, 0.00817251,\n",
       "        0.00350277, 0.00783912, 0.00316858, 0.00783412, 0.00332959,\n",
       "        0.00799886, 0.00348886, 0.00800578, 0.00301075, 0.00818062,\n",
       "        0.00349355, 0.0079968 , 0.00350253, 0.00833019, 0.00349506,\n",
       "        0.00851035, 0.00317446, 0.0081768 , 0.00333563, 0.00849017,\n",
       "        0.0033354 , 0.00852338, 0.00317534, 0.00800586, 0.00350865,\n",
       "        0.00800546, 0.0033319 , 0.00816647, 0.00333667]),\n",
       " 'std_score_time': array([1.43540003e-03, 9.45157252e-04, 1.24831860e-03, 8.50037643e-04,\n",
       "        1.22553279e-03, 5.94720425e-07, 1.32507737e-06, 4.65829081e-04,\n",
       "        8.46963135e-04, 1.12391596e-07, 2.15268843e-03, 2.97360213e-07,\n",
       "        6.18460225e-06, 5.15042996e-07, 1.50617319e-05, 5.15042996e-07,\n",
       "        4.71707529e-04, 8.50741332e-04, 4.05233662e-07, 2.24052668e-04,\n",
       "        4.19070886e-04, 4.70077860e-04, 2.40129241e-04, 2.35966337e-04,\n",
       "        2.29888046e-04, 1.24196528e-05, 2.48612116e-04, 1.18027231e-05,\n",
       "        4.84070761e-04, 3.37174788e-07, 2.36134743e-04, 6.74349576e-07,\n",
       "        2.36190959e-04, 2.35966337e-04, 2.35517092e-04, 2.97360213e-07,\n",
       "        2.24165059e-04, 1.23164986e-05, 2.32041507e-04, 2.35517575e-04,\n",
       "        3.40712422e-03, 7.07673745e-04, 2.29917140e-04, 2.36651255e-04,\n",
       "        4.73955360e-04, 2.31988125e-04, 2.35797649e-04, 8.54425359e-04,\n",
       "        1.02944078e-03, 4.71707689e-04, 1.29484679e-05, 2.20456653e-04,\n",
       "        6.74349576e-07, 4.68066659e-04, 4.65806709e-04, 4.75641234e-04,\n",
       "        2.48610896e-04, 2.24783192e-07, 2.42829137e-04, 4.05233662e-07,\n",
       "        4.09125232e-04, 7.13824598e-04, 2.36134743e-04, 4.49566384e-07,\n",
       "        4.72100909e-04, 2.97360213e-07, 1.17078793e-03, 2.41193072e-04,\n",
       "        2.35516610e-04, 2.25402376e-04, 2.36191440e-04, 2.35855391e-04,\n",
       "        6.24031663e-04, 8.53016859e-04, 2.35853784e-04, 2.24502741e-04,\n",
       "        2.35797568e-04, 2.36247135e-04, 1.12391596e-07, 2.24783192e-07,\n",
       "        4.71819920e-04, 4.05233662e-07, 4.71707689e-04, 9.43696041e-04,\n",
       "        2.36529736e-04, 4.07732686e-04, 2.35966176e-04, 2.36190959e-04,\n",
       "        4.92164185e-04, 2.31320608e-04, 9.38520301e-06, 1.02387449e-05,\n",
       "        2.24783192e-07, 1.18155591e-05, 2.32478532e-04, 1.24769859e-05,\n",
       "        4.19069198e-04, 1.12391596e-07, 4.60019173e-04, 7.12783949e-04,\n",
       "        7.13293271e-04, 2.34278765e-04, 2.32377364e-04, 2.35966176e-04,\n",
       "        4.01754871e-04, 2.35629162e-04, 1.21012924e-05, 2.31400704e-04,\n",
       "        3.37174788e-07, 8.87893609e-06, 2.97360213e-07, 2.33521312e-04,\n",
       "        2.40064134e-04, 2.36191440e-04]),\n",
       " 'param_algorithm': masked_array(data=['ball_tree', 'ball_tree', 'ball_tree', 'ball_tree',\n",
       "                    'ball_tree', 'ball_tree', 'ball_tree', 'ball_tree',\n",
       "                    'ball_tree', 'ball_tree', 'ball_tree', 'ball_tree',\n",
       "                    'ball_tree', 'ball_tree', 'ball_tree', 'ball_tree',\n",
       "                    'ball_tree', 'ball_tree', 'ball_tree', 'ball_tree',\n",
       "                    'ball_tree', 'ball_tree', 'ball_tree', 'ball_tree',\n",
       "                    'ball_tree', 'ball_tree', 'ball_tree', 'ball_tree',\n",
       "                    'ball_tree', 'ball_tree', 'ball_tree', 'ball_tree',\n",
       "                    'ball_tree', 'ball_tree', 'ball_tree', 'ball_tree',\n",
       "                    'ball_tree', 'ball_tree', 'kd_tree', 'kd_tree',\n",
       "                    'kd_tree', 'kd_tree', 'kd_tree', 'kd_tree', 'kd_tree',\n",
       "                    'kd_tree', 'kd_tree', 'kd_tree', 'kd_tree', 'kd_tree',\n",
       "                    'kd_tree', 'kd_tree', 'kd_tree', 'kd_tree', 'kd_tree',\n",
       "                    'kd_tree', 'kd_tree', 'kd_tree', 'kd_tree', 'kd_tree',\n",
       "                    'kd_tree', 'kd_tree', 'kd_tree', 'kd_tree', 'kd_tree',\n",
       "                    'kd_tree', 'kd_tree', 'kd_tree', 'kd_tree', 'kd_tree',\n",
       "                    'kd_tree', 'kd_tree', 'kd_tree', 'kd_tree', 'kd_tree',\n",
       "                    'kd_tree', 'brute', 'brute', 'brute', 'brute', 'brute',\n",
       "                    'brute', 'brute', 'brute', 'brute', 'brute', 'brute',\n",
       "                    'brute', 'brute', 'brute', 'brute', 'brute', 'brute',\n",
       "                    'brute', 'brute', 'brute', 'brute', 'brute', 'brute',\n",
       "                    'brute', 'brute', 'brute', 'brute', 'brute', 'brute',\n",
       "                    'brute', 'brute', 'brute', 'brute', 'brute', 'brute',\n",
       "                    'brute', 'brute', 'brute'],\n",
       "              mask=[False, False, False, False, False, False, False, False,\n",
       "                    False, False, False, False, False, False, False, False,\n",
       "                    False, False, False, False, False, False, False, False,\n",
       "                    False, False, False, False, False, False, False, False,\n",
       "                    False, False, False, False, False, False, False, False,\n",
       "                    False, False, False, False, False, False, False, False,\n",
       "                    False, False, False, False, False, False, False, False,\n",
       "                    False, False, False, False, False, False, False, False,\n",
       "                    False, False, False, False, False, False, False, False,\n",
       "                    False, False, False, False, False, False, False, False,\n",
       "                    False, False, False, False, False, False, False, False,\n",
       "                    False, False, False, False, False, False, False, False,\n",
       "                    False, False, False, False, False, False, False, False,\n",
       "                    False, False, False, False, False, False, False, False,\n",
       "                    False, False],\n",
       "        fill_value='?',\n",
       "             dtype=object),\n",
       " 'param_n_neighbors': masked_array(data=[2, 2, 3, 3, 4, 4, 5, 5, 6, 6, 7, 7, 8, 8, 9, 9, 10, 10,\n",
       "                    11, 11, 12, 12, 13, 13, 14, 14, 15, 15, 16, 16, 17, 17,\n",
       "                    18, 18, 19, 19, 20, 20, 2, 2, 3, 3, 4, 4, 5, 5, 6, 6,\n",
       "                    7, 7, 8, 8, 9, 9, 10, 10, 11, 11, 12, 12, 13, 13, 14,\n",
       "                    14, 15, 15, 16, 16, 17, 17, 18, 18, 19, 19, 20, 20, 2,\n",
       "                    2, 3, 3, 4, 4, 5, 5, 6, 6, 7, 7, 8, 8, 9, 9, 10, 10,\n",
       "                    11, 11, 12, 12, 13, 13, 14, 14, 15, 15, 16, 16, 17, 17,\n",
       "                    18, 18, 19, 19, 20, 20],\n",
       "              mask=[False, False, False, False, False, False, False, False,\n",
       "                    False, False, False, False, False, False, False, False,\n",
       "                    False, False, False, False, False, False, False, False,\n",
       "                    False, False, False, False, False, False, False, False,\n",
       "                    False, False, False, False, False, False, False, False,\n",
       "                    False, False, False, False, False, False, False, False,\n",
       "                    False, False, False, False, False, False, False, False,\n",
       "                    False, False, False, False, False, False, False, False,\n",
       "                    False, False, False, False, False, False, False, False,\n",
       "                    False, False, False, False, False, False, False, False,\n",
       "                    False, False, False, False, False, False, False, False,\n",
       "                    False, False, False, False, False, False, False, False,\n",
       "                    False, False, False, False, False, False, False, False,\n",
       "                    False, False, False, False, False, False, False, False,\n",
       "                    False, False],\n",
       "        fill_value='?',\n",
       "             dtype=object),\n",
       " 'param_weights': masked_array(data=['uniform', 'distance', 'uniform', 'distance',\n",
       "                    'uniform', 'distance', 'uniform', 'distance',\n",
       "                    'uniform', 'distance', 'uniform', 'distance',\n",
       "                    'uniform', 'distance', 'uniform', 'distance',\n",
       "                    'uniform', 'distance', 'uniform', 'distance',\n",
       "                    'uniform', 'distance', 'uniform', 'distance',\n",
       "                    'uniform', 'distance', 'uniform', 'distance',\n",
       "                    'uniform', 'distance', 'uniform', 'distance',\n",
       "                    'uniform', 'distance', 'uniform', 'distance',\n",
       "                    'uniform', 'distance', 'uniform', 'distance',\n",
       "                    'uniform', 'distance', 'uniform', 'distance',\n",
       "                    'uniform', 'distance', 'uniform', 'distance',\n",
       "                    'uniform', 'distance', 'uniform', 'distance',\n",
       "                    'uniform', 'distance', 'uniform', 'distance',\n",
       "                    'uniform', 'distance', 'uniform', 'distance',\n",
       "                    'uniform', 'distance', 'uniform', 'distance',\n",
       "                    'uniform', 'distance', 'uniform', 'distance',\n",
       "                    'uniform', 'distance', 'uniform', 'distance',\n",
       "                    'uniform', 'distance', 'uniform', 'distance',\n",
       "                    'uniform', 'distance', 'uniform', 'distance',\n",
       "                    'uniform', 'distance', 'uniform', 'distance',\n",
       "                    'uniform', 'distance', 'uniform', 'distance',\n",
       "                    'uniform', 'distance', 'uniform', 'distance',\n",
       "                    'uniform', 'distance', 'uniform', 'distance',\n",
       "                    'uniform', 'distance', 'uniform', 'distance',\n",
       "                    'uniform', 'distance', 'uniform', 'distance',\n",
       "                    'uniform', 'distance', 'uniform', 'distance',\n",
       "                    'uniform', 'distance', 'uniform', 'distance',\n",
       "                    'uniform', 'distance'],\n",
       "              mask=[False, False, False, False, False, False, False, False,\n",
       "                    False, False, False, False, False, False, False, False,\n",
       "                    False, False, False, False, False, False, False, False,\n",
       "                    False, False, False, False, False, False, False, False,\n",
       "                    False, False, False, False, False, False, False, False,\n",
       "                    False, False, False, False, False, False, False, False,\n",
       "                    False, False, False, False, False, False, False, False,\n",
       "                    False, False, False, False, False, False, False, False,\n",
       "                    False, False, False, False, False, False, False, False,\n",
       "                    False, False, False, False, False, False, False, False,\n",
       "                    False, False, False, False, False, False, False, False,\n",
       "                    False, False, False, False, False, False, False, False,\n",
       "                    False, False, False, False, False, False, False, False,\n",
       "                    False, False, False, False, False, False, False, False,\n",
       "                    False, False],\n",
       "        fill_value='?',\n",
       "             dtype=object),\n",
       " 'params': [{'algorithm': 'ball_tree', 'n_neighbors': 2, 'weights': 'uniform'},\n",
       "  {'algorithm': 'ball_tree', 'n_neighbors': 2, 'weights': 'distance'},\n",
       "  {'algorithm': 'ball_tree', 'n_neighbors': 3, 'weights': 'uniform'},\n",
       "  {'algorithm': 'ball_tree', 'n_neighbors': 3, 'weights': 'distance'},\n",
       "  {'algorithm': 'ball_tree', 'n_neighbors': 4, 'weights': 'uniform'},\n",
       "  {'algorithm': 'ball_tree', 'n_neighbors': 4, 'weights': 'distance'},\n",
       "  {'algorithm': 'ball_tree', 'n_neighbors': 5, 'weights': 'uniform'},\n",
       "  {'algorithm': 'ball_tree', 'n_neighbors': 5, 'weights': 'distance'},\n",
       "  {'algorithm': 'ball_tree', 'n_neighbors': 6, 'weights': 'uniform'},\n",
       "  {'algorithm': 'ball_tree', 'n_neighbors': 6, 'weights': 'distance'},\n",
       "  {'algorithm': 'ball_tree', 'n_neighbors': 7, 'weights': 'uniform'},\n",
       "  {'algorithm': 'ball_tree', 'n_neighbors': 7, 'weights': 'distance'},\n",
       "  {'algorithm': 'ball_tree', 'n_neighbors': 8, 'weights': 'uniform'},\n",
       "  {'algorithm': 'ball_tree', 'n_neighbors': 8, 'weights': 'distance'},\n",
       "  {'algorithm': 'ball_tree', 'n_neighbors': 9, 'weights': 'uniform'},\n",
       "  {'algorithm': 'ball_tree', 'n_neighbors': 9, 'weights': 'distance'},\n",
       "  {'algorithm': 'ball_tree', 'n_neighbors': 10, 'weights': 'uniform'},\n",
       "  {'algorithm': 'ball_tree', 'n_neighbors': 10, 'weights': 'distance'},\n",
       "  {'algorithm': 'ball_tree', 'n_neighbors': 11, 'weights': 'uniform'},\n",
       "  {'algorithm': 'ball_tree', 'n_neighbors': 11, 'weights': 'distance'},\n",
       "  {'algorithm': 'ball_tree', 'n_neighbors': 12, 'weights': 'uniform'},\n",
       "  {'algorithm': 'ball_tree', 'n_neighbors': 12, 'weights': 'distance'},\n",
       "  {'algorithm': 'ball_tree', 'n_neighbors': 13, 'weights': 'uniform'},\n",
       "  {'algorithm': 'ball_tree', 'n_neighbors': 13, 'weights': 'distance'},\n",
       "  {'algorithm': 'ball_tree', 'n_neighbors': 14, 'weights': 'uniform'},\n",
       "  {'algorithm': 'ball_tree', 'n_neighbors': 14, 'weights': 'distance'},\n",
       "  {'algorithm': 'ball_tree', 'n_neighbors': 15, 'weights': 'uniform'},\n",
       "  {'algorithm': 'ball_tree', 'n_neighbors': 15, 'weights': 'distance'},\n",
       "  {'algorithm': 'ball_tree', 'n_neighbors': 16, 'weights': 'uniform'},\n",
       "  {'algorithm': 'ball_tree', 'n_neighbors': 16, 'weights': 'distance'},\n",
       "  {'algorithm': 'ball_tree', 'n_neighbors': 17, 'weights': 'uniform'},\n",
       "  {'algorithm': 'ball_tree', 'n_neighbors': 17, 'weights': 'distance'},\n",
       "  {'algorithm': 'ball_tree', 'n_neighbors': 18, 'weights': 'uniform'},\n",
       "  {'algorithm': 'ball_tree', 'n_neighbors': 18, 'weights': 'distance'},\n",
       "  {'algorithm': 'ball_tree', 'n_neighbors': 19, 'weights': 'uniform'},\n",
       "  {'algorithm': 'ball_tree', 'n_neighbors': 19, 'weights': 'distance'},\n",
       "  {'algorithm': 'ball_tree', 'n_neighbors': 20, 'weights': 'uniform'},\n",
       "  {'algorithm': 'ball_tree', 'n_neighbors': 20, 'weights': 'distance'},\n",
       "  {'algorithm': 'kd_tree', 'n_neighbors': 2, 'weights': 'uniform'},\n",
       "  {'algorithm': 'kd_tree', 'n_neighbors': 2, 'weights': 'distance'},\n",
       "  {'algorithm': 'kd_tree', 'n_neighbors': 3, 'weights': 'uniform'},\n",
       "  {'algorithm': 'kd_tree', 'n_neighbors': 3, 'weights': 'distance'},\n",
       "  {'algorithm': 'kd_tree', 'n_neighbors': 4, 'weights': 'uniform'},\n",
       "  {'algorithm': 'kd_tree', 'n_neighbors': 4, 'weights': 'distance'},\n",
       "  {'algorithm': 'kd_tree', 'n_neighbors': 5, 'weights': 'uniform'},\n",
       "  {'algorithm': 'kd_tree', 'n_neighbors': 5, 'weights': 'distance'},\n",
       "  {'algorithm': 'kd_tree', 'n_neighbors': 6, 'weights': 'uniform'},\n",
       "  {'algorithm': 'kd_tree', 'n_neighbors': 6, 'weights': 'distance'},\n",
       "  {'algorithm': 'kd_tree', 'n_neighbors': 7, 'weights': 'uniform'},\n",
       "  {'algorithm': 'kd_tree', 'n_neighbors': 7, 'weights': 'distance'},\n",
       "  {'algorithm': 'kd_tree', 'n_neighbors': 8, 'weights': 'uniform'},\n",
       "  {'algorithm': 'kd_tree', 'n_neighbors': 8, 'weights': 'distance'},\n",
       "  {'algorithm': 'kd_tree', 'n_neighbors': 9, 'weights': 'uniform'},\n",
       "  {'algorithm': 'kd_tree', 'n_neighbors': 9, 'weights': 'distance'},\n",
       "  {'algorithm': 'kd_tree', 'n_neighbors': 10, 'weights': 'uniform'},\n",
       "  {'algorithm': 'kd_tree', 'n_neighbors': 10, 'weights': 'distance'},\n",
       "  {'algorithm': 'kd_tree', 'n_neighbors': 11, 'weights': 'uniform'},\n",
       "  {'algorithm': 'kd_tree', 'n_neighbors': 11, 'weights': 'distance'},\n",
       "  {'algorithm': 'kd_tree', 'n_neighbors': 12, 'weights': 'uniform'},\n",
       "  {'algorithm': 'kd_tree', 'n_neighbors': 12, 'weights': 'distance'},\n",
       "  {'algorithm': 'kd_tree', 'n_neighbors': 13, 'weights': 'uniform'},\n",
       "  {'algorithm': 'kd_tree', 'n_neighbors': 13, 'weights': 'distance'},\n",
       "  {'algorithm': 'kd_tree', 'n_neighbors': 14, 'weights': 'uniform'},\n",
       "  {'algorithm': 'kd_tree', 'n_neighbors': 14, 'weights': 'distance'},\n",
       "  {'algorithm': 'kd_tree', 'n_neighbors': 15, 'weights': 'uniform'},\n",
       "  {'algorithm': 'kd_tree', 'n_neighbors': 15, 'weights': 'distance'},\n",
       "  {'algorithm': 'kd_tree', 'n_neighbors': 16, 'weights': 'uniform'},\n",
       "  {'algorithm': 'kd_tree', 'n_neighbors': 16, 'weights': 'distance'},\n",
       "  {'algorithm': 'kd_tree', 'n_neighbors': 17, 'weights': 'uniform'},\n",
       "  {'algorithm': 'kd_tree', 'n_neighbors': 17, 'weights': 'distance'},\n",
       "  {'algorithm': 'kd_tree', 'n_neighbors': 18, 'weights': 'uniform'},\n",
       "  {'algorithm': 'kd_tree', 'n_neighbors': 18, 'weights': 'distance'},\n",
       "  {'algorithm': 'kd_tree', 'n_neighbors': 19, 'weights': 'uniform'},\n",
       "  {'algorithm': 'kd_tree', 'n_neighbors': 19, 'weights': 'distance'},\n",
       "  {'algorithm': 'kd_tree', 'n_neighbors': 20, 'weights': 'uniform'},\n",
       "  {'algorithm': 'kd_tree', 'n_neighbors': 20, 'weights': 'distance'},\n",
       "  {'algorithm': 'brute', 'n_neighbors': 2, 'weights': 'uniform'},\n",
       "  {'algorithm': 'brute', 'n_neighbors': 2, 'weights': 'distance'},\n",
       "  {'algorithm': 'brute', 'n_neighbors': 3, 'weights': 'uniform'},\n",
       "  {'algorithm': 'brute', 'n_neighbors': 3, 'weights': 'distance'},\n",
       "  {'algorithm': 'brute', 'n_neighbors': 4, 'weights': 'uniform'},\n",
       "  {'algorithm': 'brute', 'n_neighbors': 4, 'weights': 'distance'},\n",
       "  {'algorithm': 'brute', 'n_neighbors': 5, 'weights': 'uniform'},\n",
       "  {'algorithm': 'brute', 'n_neighbors': 5, 'weights': 'distance'},\n",
       "  {'algorithm': 'brute', 'n_neighbors': 6, 'weights': 'uniform'},\n",
       "  {'algorithm': 'brute', 'n_neighbors': 6, 'weights': 'distance'},\n",
       "  {'algorithm': 'brute', 'n_neighbors': 7, 'weights': 'uniform'},\n",
       "  {'algorithm': 'brute', 'n_neighbors': 7, 'weights': 'distance'},\n",
       "  {'algorithm': 'brute', 'n_neighbors': 8, 'weights': 'uniform'},\n",
       "  {'algorithm': 'brute', 'n_neighbors': 8, 'weights': 'distance'},\n",
       "  {'algorithm': 'brute', 'n_neighbors': 9, 'weights': 'uniform'},\n",
       "  {'algorithm': 'brute', 'n_neighbors': 9, 'weights': 'distance'},\n",
       "  {'algorithm': 'brute', 'n_neighbors': 10, 'weights': 'uniform'},\n",
       "  {'algorithm': 'brute', 'n_neighbors': 10, 'weights': 'distance'},\n",
       "  {'algorithm': 'brute', 'n_neighbors': 11, 'weights': 'uniform'},\n",
       "  {'algorithm': 'brute', 'n_neighbors': 11, 'weights': 'distance'},\n",
       "  {'algorithm': 'brute', 'n_neighbors': 12, 'weights': 'uniform'},\n",
       "  {'algorithm': 'brute', 'n_neighbors': 12, 'weights': 'distance'},\n",
       "  {'algorithm': 'brute', 'n_neighbors': 13, 'weights': 'uniform'},\n",
       "  {'algorithm': 'brute', 'n_neighbors': 13, 'weights': 'distance'},\n",
       "  {'algorithm': 'brute', 'n_neighbors': 14, 'weights': 'uniform'},\n",
       "  {'algorithm': 'brute', 'n_neighbors': 14, 'weights': 'distance'},\n",
       "  {'algorithm': 'brute', 'n_neighbors': 15, 'weights': 'uniform'},\n",
       "  {'algorithm': 'brute', 'n_neighbors': 15, 'weights': 'distance'},\n",
       "  {'algorithm': 'brute', 'n_neighbors': 16, 'weights': 'uniform'},\n",
       "  {'algorithm': 'brute', 'n_neighbors': 16, 'weights': 'distance'},\n",
       "  {'algorithm': 'brute', 'n_neighbors': 17, 'weights': 'uniform'},\n",
       "  {'algorithm': 'brute', 'n_neighbors': 17, 'weights': 'distance'},\n",
       "  {'algorithm': 'brute', 'n_neighbors': 18, 'weights': 'uniform'},\n",
       "  {'algorithm': 'brute', 'n_neighbors': 18, 'weights': 'distance'},\n",
       "  {'algorithm': 'brute', 'n_neighbors': 19, 'weights': 'uniform'},\n",
       "  {'algorithm': 'brute', 'n_neighbors': 19, 'weights': 'distance'},\n",
       "  {'algorithm': 'brute', 'n_neighbors': 20, 'weights': 'uniform'},\n",
       "  {'algorithm': 'brute', 'n_neighbors': 20, 'weights': 'distance'}],\n",
       " 'split0_test_score': array([0.96, 0.98, 0.98, 0.98, 0.98, 0.98, 0.98, 0.98, 0.98, 0.98, 0.98,\n",
       "        0.98, 0.98, 0.98, 0.96, 0.98, 0.96, 0.98, 0.96, 0.98, 0.96, 0.98,\n",
       "        0.96, 0.98, 0.96, 0.98, 0.96, 0.98, 0.96, 0.98, 0.96, 0.98, 0.96,\n",
       "        0.98, 0.96, 0.98, 0.96, 0.98, 0.96, 0.98, 0.98, 0.98, 0.98, 0.98,\n",
       "        0.98, 0.98, 0.98, 0.98, 0.98, 0.98, 0.98, 0.98, 0.96, 0.98, 0.96,\n",
       "        0.98, 0.96, 0.98, 0.96, 0.98, 0.96, 0.98, 0.96, 0.98, 0.96, 0.98,\n",
       "        0.96, 0.98, 0.96, 0.98, 0.96, 0.98, 0.96, 0.98, 0.96, 0.98, 0.96,\n",
       "        0.98, 0.98, 0.98, 0.98, 0.98, 0.98, 0.98, 0.98, 0.98, 0.98, 0.98,\n",
       "        0.98, 0.98, 0.96, 0.98, 0.96, 0.98, 0.96, 0.98, 0.96, 0.98, 0.96,\n",
       "        0.98, 0.96, 0.98, 0.96, 0.98, 0.96, 0.98, 0.96, 0.98, 0.96, 0.98,\n",
       "        0.96, 0.98, 0.96, 0.98]),\n",
       " 'split1_test_score': array([0.94, 0.94, 0.96, 0.96, 1.  , 0.96, 0.98, 0.96, 0.98, 1.  , 0.98,\n",
       "        0.98, 0.98, 1.  , 1.  , 0.98, 1.  , 1.  , 1.  , 1.  , 1.  , 1.  ,\n",
       "        0.96, 0.96, 0.96, 0.96, 0.96, 0.96, 0.98, 0.98, 0.96, 0.96, 0.96,\n",
       "        0.96, 0.96, 0.96, 0.92, 0.98, 0.94, 0.94, 0.96, 0.96, 1.  , 0.96,\n",
       "        0.98, 0.96, 0.98, 1.  , 0.98, 0.98, 0.98, 1.  , 1.  , 0.98, 1.  ,\n",
       "        1.  , 1.  , 1.  , 1.  , 1.  , 0.96, 0.96, 0.96, 0.96, 0.96, 0.96,\n",
       "        0.98, 0.98, 0.96, 0.96, 0.96, 0.96, 0.96, 0.96, 0.92, 0.98, 0.94,\n",
       "        0.94, 0.96, 0.96, 1.  , 0.96, 0.98, 0.96, 0.98, 1.  , 0.98, 0.98,\n",
       "        0.98, 1.  , 1.  , 0.98, 1.  , 1.  , 1.  , 1.  , 1.  , 1.  , 0.96,\n",
       "        0.96, 0.96, 0.96, 0.96, 0.96, 0.98, 0.98, 0.96, 0.96, 0.96, 0.96,\n",
       "        0.96, 0.96, 0.92, 0.98]),\n",
       " 'split2_test_score': array([0.94, 0.96, 0.98, 0.98, 0.98, 0.98, 0.98, 0.98, 0.96, 0.98, 0.96,\n",
       "        0.98, 0.94, 0.98, 0.96, 0.96, 0.94, 0.98, 0.94, 0.96, 0.94, 0.98,\n",
       "        0.96, 0.96, 0.94, 0.96, 0.94, 0.96, 0.94, 0.98, 0.96, 0.96, 0.94,\n",
       "        0.96, 0.94, 0.94, 0.96, 0.96, 0.94, 0.96, 0.98, 0.98, 0.98, 0.98,\n",
       "        0.98, 0.98, 0.96, 0.98, 0.96, 0.98, 0.94, 0.98, 0.96, 0.96, 0.94,\n",
       "        0.98, 0.94, 0.96, 0.94, 0.98, 0.96, 0.96, 0.94, 0.96, 0.94, 0.96,\n",
       "        0.94, 0.98, 0.96, 0.96, 0.94, 0.96, 0.94, 0.94, 0.96, 0.96, 0.94,\n",
       "        0.96, 0.98, 0.98, 0.96, 0.98, 0.96, 0.98, 0.96, 0.98, 0.98, 0.98,\n",
       "        0.94, 0.98, 0.96, 0.96, 0.94, 0.98, 0.94, 0.96, 0.94, 0.98, 0.94,\n",
       "        0.96, 0.94, 0.96, 0.94, 0.96, 0.94, 0.98, 0.96, 0.96, 0.94, 0.96,\n",
       "        0.94, 0.94, 0.96, 0.96]),\n",
       " 'mean_test_score': array([0.94666667, 0.96      , 0.97333333, 0.97333333, 0.98666667,\n",
       "        0.97333333, 0.98      , 0.97333333, 0.97333333, 0.98666667,\n",
       "        0.97333333, 0.98      , 0.96666667, 0.98666667, 0.97333333,\n",
       "        0.97333333, 0.96666667, 0.98666667, 0.96666667, 0.98      ,\n",
       "        0.96666667, 0.98666667, 0.96      , 0.96666667, 0.95333333,\n",
       "        0.96666667, 0.95333333, 0.96666667, 0.96      , 0.98      ,\n",
       "        0.96      , 0.96666667, 0.95333333, 0.96666667, 0.95333333,\n",
       "        0.96      , 0.94666667, 0.97333333, 0.94666667, 0.96      ,\n",
       "        0.97333333, 0.97333333, 0.98666667, 0.97333333, 0.98      ,\n",
       "        0.97333333, 0.97333333, 0.98666667, 0.97333333, 0.98      ,\n",
       "        0.96666667, 0.98666667, 0.97333333, 0.97333333, 0.96666667,\n",
       "        0.98666667, 0.96666667, 0.98      , 0.96666667, 0.98666667,\n",
       "        0.96      , 0.96666667, 0.95333333, 0.96666667, 0.95333333,\n",
       "        0.96666667, 0.96      , 0.98      , 0.96      , 0.96666667,\n",
       "        0.95333333, 0.96666667, 0.95333333, 0.96      , 0.94666667,\n",
       "        0.97333333, 0.94666667, 0.96      , 0.97333333, 0.97333333,\n",
       "        0.98      , 0.97333333, 0.97333333, 0.97333333, 0.97333333,\n",
       "        0.98666667, 0.98      , 0.98      , 0.96666667, 0.98666667,\n",
       "        0.97333333, 0.97333333, 0.96666667, 0.98666667, 0.96666667,\n",
       "        0.98      , 0.96666667, 0.98666667, 0.95333333, 0.96666667,\n",
       "        0.95333333, 0.96666667, 0.95333333, 0.96666667, 0.96      ,\n",
       "        0.98      , 0.96      , 0.96666667, 0.95333333, 0.96666667,\n",
       "        0.95333333, 0.96      , 0.94666667, 0.97333333]),\n",
       " 'std_test_score': array([0.00942809, 0.01632993, 0.00942809, 0.00942809, 0.00942809,\n",
       "        0.00942809, 0.        , 0.00942809, 0.00942809, 0.00942809,\n",
       "        0.00942809, 0.        , 0.01885618, 0.00942809, 0.01885618,\n",
       "        0.00942809, 0.02494438, 0.00942809, 0.02494438, 0.01632993,\n",
       "        0.02494438, 0.00942809, 0.        , 0.00942809, 0.00942809,\n",
       "        0.00942809, 0.00942809, 0.00942809, 0.01632993, 0.        ,\n",
       "        0.        , 0.00942809, 0.00942809, 0.00942809, 0.00942809,\n",
       "        0.01632993, 0.01885618, 0.00942809, 0.00942809, 0.01632993,\n",
       "        0.00942809, 0.00942809, 0.00942809, 0.00942809, 0.        ,\n",
       "        0.00942809, 0.00942809, 0.00942809, 0.00942809, 0.        ,\n",
       "        0.01885618, 0.00942809, 0.01885618, 0.00942809, 0.02494438,\n",
       "        0.00942809, 0.02494438, 0.01632993, 0.02494438, 0.00942809,\n",
       "        0.        , 0.00942809, 0.00942809, 0.00942809, 0.00942809,\n",
       "        0.00942809, 0.01632993, 0.        , 0.        , 0.00942809,\n",
       "        0.00942809, 0.00942809, 0.00942809, 0.01632993, 0.01885618,\n",
       "        0.00942809, 0.00942809, 0.01632993, 0.00942809, 0.00942809,\n",
       "        0.01632993, 0.00942809, 0.00942809, 0.00942809, 0.00942809,\n",
       "        0.00942809, 0.        , 0.        , 0.01885618, 0.00942809,\n",
       "        0.01885618, 0.00942809, 0.02494438, 0.00942809, 0.02494438,\n",
       "        0.01632993, 0.02494438, 0.00942809, 0.00942809, 0.00942809,\n",
       "        0.00942809, 0.00942809, 0.00942809, 0.00942809, 0.01632993,\n",
       "        0.        , 0.        , 0.00942809, 0.00942809, 0.00942809,\n",
       "        0.00942809, 0.01632993, 0.01885618, 0.00942809]),\n",
       " 'rank_test_score': array([109,  82,  28,  28,   1,  28,  15,  28,  28,   1,  28,  15,  55,\n",
       "          1,  28,  28,  55,   1,  55,  15,  55,   1,  82,  55,  96,  55,\n",
       "         96,  55,  82,  15,  82,  55,  96,  55,  96,  82, 109,  28, 109,\n",
       "         82,  28,  28,   1,  28,  15,  28,  28,   1,  28,  15,  55,   1,\n",
       "         28,  28,  55,   1,  55,  15,  55,   1,  82,  55,  96,  55,  96,\n",
       "         55,  82,  15,  82,  55,  96,  55,  96,  82, 109,  28, 109,  82,\n",
       "         28,  28,  15,  28,  28,  28,  28,   1,  15,  15,  55,   1,  28,\n",
       "         28,  55,   1,  55,  15,  55,   1,  96,  55,  96,  55,  96,  55,\n",
       "         82,  15,  82,  55,  96,  55,  96,  82, 109,  28])}"
      ]
     },
     "execution_count": 126,
     "metadata": {},
     "output_type": "execute_result"
    }
   ],
   "source": [
    "clf.cv_results_"
   ]
  },
  {
   "cell_type": "code",
   "execution_count": 127,
   "metadata": {},
   "outputs": [
    {
     "data": {
      "text/plain": [
       "KNeighborsClassifier(algorithm='ball_tree', n_neighbors=4)"
      ]
     },
     "execution_count": 127,
     "metadata": {},
     "output_type": "execute_result"
    }
   ],
   "source": [
    "clf.best_estimator_"
   ]
  },
  {
   "cell_type": "code",
   "execution_count": 128,
   "metadata": {},
   "outputs": [
    {
     "data": {
      "text/plain": [
       "0.9866666666666667"
      ]
     },
     "execution_count": 128,
     "metadata": {},
     "output_type": "execute_result"
    }
   ],
   "source": [
    "clf.best_score_"
   ]
  },
  {
   "cell_type": "code",
   "execution_count": 129,
   "metadata": {},
   "outputs": [
    {
     "data": {
      "text/plain": [
       "{'algorithm': 'ball_tree', 'n_neighbors': 4, 'weights': 'uniform'}"
      ]
     },
     "execution_count": 129,
     "metadata": {},
     "output_type": "execute_result"
    }
   ],
   "source": [
    "clf.best_params_"
   ]
  },
  {
   "cell_type": "code",
   "execution_count": 132,
   "metadata": {},
   "outputs": [
    {
     "data": {
      "text/plain": [
       "KNeighborsClassifier(algorithm='ball_tree', n_neighbors=4)"
      ]
     },
     "execution_count": 132,
     "metadata": {},
     "output_type": "execute_result"
    }
   ],
   "source": [
    "kn_model = KNeighborsClassifier(algorithm= 'ball_tree', n_neighbors= 4, weights= 'uniform')\n",
    "kn_model"
   ]
  },
  {
   "cell_type": "code",
   "execution_count": 133,
   "metadata": {},
   "outputs": [
    {
     "data": {
      "text/plain": [
       "KNeighborsClassifier(algorithm='ball_tree', n_neighbors=4)"
      ]
     },
     "execution_count": 133,
     "metadata": {},
     "output_type": "execute_result"
    }
   ],
   "source": [
    "kn_model.fit(X_train, y_train)"
   ]
  },
  {
   "cell_type": "code",
   "execution_count": 135,
   "metadata": {},
   "outputs": [],
   "source": [
    "y_pred_test = kn_model.predict(X_test)"
   ]
  },
  {
   "cell_type": "code",
   "execution_count": 136,
   "metadata": {},
   "outputs": [
    {
     "data": {
      "text/plain": [
       "0.9555555555555556"
      ]
     },
     "execution_count": 136,
     "metadata": {},
     "output_type": "execute_result"
    }
   ],
   "source": [
    "accuracy_score(y_test, y_pred_test)"
   ]
  },
  {
   "cell_type": "code",
   "execution_count": 137,
   "metadata": {},
   "outputs": [],
   "source": [
    "import pickle\n",
    "\n",
    "pickle.dump(kn_model,open(\"k_model.pkl\",'wb'))"
   ]
  },
  {
   "cell_type": "code",
   "execution_count": 142,
   "metadata": {},
   "outputs": [],
   "source": [
    "loaded = pickle.load(open('k_model.pkl','rb'))"
   ]
  },
  {
   "cell_type": "code",
   "execution_count": 143,
   "metadata": {},
   "outputs": [
    {
     "data": {
      "text/plain": [
       "array([0], dtype=int64)"
      ]
     },
     "execution_count": 143,
     "metadata": {},
     "output_type": "execute_result"
    }
   ],
   "source": [
    "loaded.predict([[5.0,3.4,1.5,0.2]])"
   ]
  },
  {
   "cell_type": "code",
   "execution_count": null,
   "metadata": {},
   "outputs": [],
   "source": []
  }
 ],
 "metadata": {
  "kernelspec": {
   "display_name": "Python 3",
   "language": "python",
   "name": "python3"
  },
  "language_info": {
   "codemirror_mode": {
    "name": "ipython",
    "version": 3
   },
   "file_extension": ".py",
   "mimetype": "text/x-python",
   "name": "python",
   "nbconvert_exporter": "python",
   "pygments_lexer": "ipython3",
   "version": "3.6.5"
  }
 },
 "nbformat": 4,
 "nbformat_minor": 2
}
