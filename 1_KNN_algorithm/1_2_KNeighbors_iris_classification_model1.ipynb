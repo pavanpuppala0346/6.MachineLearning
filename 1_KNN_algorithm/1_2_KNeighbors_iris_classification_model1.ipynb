{
 "cells": [
  {
   "cell_type": "markdown",
   "metadata": {},
   "source": [
    "### HighLevel End to End ML project \n",
    "- 1. Get data(Files, RDBMS, NoSql, DataBases)\n",
    "- 2. Preprocessing of data\n",
    "    - missing values(ex: female age not ready to reveal)\n",
    "    - Outliers(ex: age is 300)\n",
    "    - Standardization, normalization/unit variance(bringing all values between 0 and 1)\n",
    "    - features identification(dimensions reduction)\n",
    "    - converting unbalanced data to balanced data(in this case iris is a balanced data(50,50,50))\n",
    "- 3. Identify X(independent variables), y(dependent variables)\n",
    "    - X (2D numpy array)\n",
    "    - y (1D numpy array)\n",
    "- 4. Split the data into Train and Test\n",
    "- 5. Fit / Train the model using train data\n",
    "- 6. predict on test data\n",
    "- 7. Metrics(Accuracy)\n",
    "- 8. if we are not happy with accuracy then do hyper parameter tunning and rebuild the model\n",
    "- 9. save model\n",
    "- 10. using this model create the RestAPI(for each model one api)\n",
    "- 11. Test Rest API using Postman\n",
    "- 12. UI people usse this API and design the web application"
   ]
  },
  {
   "cell_type": "markdown",
   "metadata": {},
   "source": [
    "#### ML model always takes\n",
    "- input : 2d array\n",
    "- ouput : 1d array"
   ]
  },
  {
   "cell_type": "code",
   "execution_count": 1,
   "metadata": {},
   "outputs": [
    {
     "data": {
      "image/png": "[encoded data removed]",
      "text/plain": [
       "<PIL.PngImagePlugin.PngImageFile image mode=RGBA size=341x446 at 0x19F19D61550>"
      ]
     },
     "execution_count": 1,
     "metadata": {},
     "output_type": "execute_result"
    }
   ],
   "source": [
    "from PIL import Image\n",
    "Image.open(\"E:/code/6.MachineLearning/1_KNN_algorithm/knn6.PNG\")"
   ]
  },
  {
   "cell_type": "code",
   "execution_count": 2,
   "metadata": {},
   "outputs": [],
   "source": [
    "# import os\n",
    "# import pandas as pd\n",
    "# import numpy as np\n",
    "# from sklearn.model_selection import train_test_split\n",
    "# from sklearn.neighbors import KNeighborsClassifier\n",
    "# from sklearn.metrics import accuracy_score\n",
    "# from sklearn.model_selection import GridSearchCV, RandomizedSearchCV"
   ]
  },
  {
   "cell_type": "markdown",
   "metadata": {},
   "source": [
    "### step1 : import data"
   ]
  },
  {
   "cell_type": "code",
   "execution_count": 5,
   "metadata": {},
   "outputs": [
    {
     "name": "stdout",
     "output_type": "stream",
     "text": [
      "E:\\code\\6.MachineLearning\\1_KNN_algorithm\n"
     ]
    }
   ],
   "source": [
    "import os\n",
    "\n",
    "os.chdir(\"E:/code/6.MachineLearning/1_KNN_algorithm\")\n",
    "print(os.getcwd())"
   ]
  },
  {
   "cell_type": "code",
   "execution_count": 6,
   "metadata": {},
   "outputs": [
    {
     "data": {
      "text/html": [
       "<div>\n",
       "<style scoped>\n",
       "    .dataframe tbody tr th:only-of-type {\n",
       "        vertical-align: middle;\n",
       "    }\n",
       "\n",
       "    .dataframe tbody tr th {\n",
       "        vertical-align: top;\n",
       "    }\n",
       "\n",
       "    .dataframe thead th {\n",
       "        text-align: right;\n",
       "    }\n",
       "</style>\n",
       "<table border=\"1\" class=\"dataframe\">\n",
       "  <thead>\n",
       "    <tr style=\"text-align: right;\">\n",
       "      <th></th>\n",
       "      <th>sepal_length</th>\n",
       "      <th>sepal_width</th>\n",
       "      <th>petal_length</th>\n",
       "      <th>petal_width</th>\n",
       "      <th>species</th>\n",
       "    </tr>\n",
       "  </thead>\n",
       "  <tbody>\n",
       "    <tr>\n",
       "      <th>0</th>\n",
       "      <td>5.1</td>\n",
       "      <td>3.5</td>\n",
       "      <td>1.4</td>\n",
       "      <td>0.2</td>\n",
       "      <td>setosa</td>\n",
       "    </tr>\n",
       "    <tr>\n",
       "      <th>1</th>\n",
       "      <td>4.9</td>\n",
       "      <td>3.0</td>\n",
       "      <td>1.4</td>\n",
       "      <td>0.2</td>\n",
       "      <td>setosa</td>\n",
       "    </tr>\n",
       "    <tr>\n",
       "      <th>2</th>\n",
       "      <td>4.7</td>\n",
       "      <td>3.2</td>\n",
       "      <td>1.3</td>\n",
       "      <td>0.2</td>\n",
       "      <td>setosa</td>\n",
       "    </tr>\n",
       "    <tr>\n",
       "      <th>3</th>\n",
       "      <td>4.6</td>\n",
       "      <td>3.1</td>\n",
       "      <td>1.5</td>\n",
       "      <td>0.2</td>\n",
       "      <td>setosa</td>\n",
       "    </tr>\n",
       "    <tr>\n",
       "      <th>4</th>\n",
       "      <td>5.0</td>\n",
       "      <td>3.6</td>\n",
       "      <td>1.4</td>\n",
       "      <td>0.2</td>\n",
       "      <td>setosa</td>\n",
       "    </tr>\n",
       "  </tbody>\n",
       "</table>\n",
       "</div>"
      ],
      "text/plain": [
       "   sepal_length  sepal_width  petal_length  petal_width species\n",
       "0           5.1          3.5           1.4          0.2  setosa\n",
       "1           4.9          3.0           1.4          0.2  setosa\n",
       "2           4.7          3.2           1.3          0.2  setosa\n",
       "3           4.6          3.1           1.5          0.2  setosa\n",
       "4           5.0          3.6           1.4          0.2  setosa"
      ]
     },
     "execution_count": 6,
     "metadata": {},
     "output_type": "execute_result"
    }
   ],
   "source": [
    "import pandas as pd\n",
    "\n",
    "df = pd.read_csv('iris.csv')\n",
    "df.head()"
   ]
  },
  {
   "cell_type": "code",
   "execution_count": 7,
   "metadata": {},
   "outputs": [
    {
     "name": "stdout",
     "output_type": "stream",
     "text": [
      "<class 'pandas.core.frame.DataFrame'>\n",
      "RangeIndex: 150 entries, 0 to 149\n",
      "Data columns (total 5 columns):\n",
      " #   Column        Non-Null Count  Dtype  \n",
      "---  ------        --------------  -----  \n",
      " 0   sepal_length  150 non-null    float64\n",
      " 1   sepal_width   150 non-null    float64\n",
      " 2   petal_length  150 non-null    float64\n",
      " 3   petal_width   150 non-null    float64\n",
      " 4   species       150 non-null    object \n",
      "dtypes: float64(4), object(1)\n",
      "memory usage: 6.0+ KB\n"
     ]
    }
   ],
   "source": [
    "df.info()"
   ]
  },
  {
   "cell_type": "markdown",
   "metadata": {},
   "source": [
    "### Step2: Preprocessing\n",
    "- Hence it is balanced dataset no need of preprocessing"
   ]
  },
  {
   "cell_type": "markdown",
   "metadata": {},
   "source": [
    "### Step3: Identify the Independent X and dependent y variables"
   ]
  },
  {
   "cell_type": "code",
   "execution_count": 8,
   "metadata": {},
   "outputs": [
    {
     "data": {
      "text/plain": [
       "array([[5.1, 3.5, 1.4, 0.2],\n",
       "       [4.9, 3. , 1.4, 0.2],\n",
       "       [4.7, 3.2, 1.3, 0.2],\n",
       "       [4.6, 3.1, 1.5, 0.2],\n",
       "       [5. , 3.6, 1.4, 0.2],\n",
       "       [5.4, 3.9, 1.7, 0.4],\n",
       "       [4.6, 3.4, 1.4, 0.3],\n",
       "       [5. , 3.4, 1.5, 0.2],\n",
       "       [4.4, 2.9, 1.4, 0.2],\n",
       "       [4.9, 3.1, 1.5, 0.1]])"
      ]
     },
     "execution_count": 8,
     "metadata": {},
     "output_type": "execute_result"
    }
   ],
   "source": [
    "# create a DF X with required input columns and converting DF to 2d numpy array\n",
    "X = df.iloc[:,:-1].values             # DF: pandas.core.frame.DataFrame\n",
    "X[:10]"
   ]
  },
  {
   "cell_type": "code",
   "execution_count": 9,
   "metadata": {},
   "outputs": [],
   "source": [
    "# create a Series y with required target column \n",
    "y = df.iloc[:,-1]            # series: pandas.core.series.Series     # np.unique(y, return_inverse=True)[1]                     "
   ]
  },
  {
   "cell_type": "code",
   "execution_count": 10,
   "metadata": {},
   "outputs": [
    {
     "data": {
      "text/plain": [
       "array(['setosa', 'versicolor', 'virginica'], dtype=object)"
      ]
     },
     "execution_count": 10,
     "metadata": {},
     "output_type": "execute_result"
    }
   ],
   "source": [
    "y.unique()                  # return unique values of Series object"
   ]
  },
  {
   "cell_type": "code",
   "execution_count": 11,
   "metadata": {},
   "outputs": [],
   "source": [
    "# converting string values into numeric values\n",
    "y.replace(['setosa', 'versicolor', 'virginica'],[0,1,2], inplace=True)"
   ]
  },
  {
   "cell_type": "code",
   "execution_count": 12,
   "metadata": {},
   "outputs": [],
   "source": [
    "#convert the Series to 1d array\n",
    "y = y.values"
   ]
  },
  {
   "cell_type": "code",
   "execution_count": 13,
   "metadata": {},
   "outputs": [
    {
     "data": {
      "text/plain": [
       "array([0, 0, 0, 0, 0, 0, 0, 0, 0, 0, 0, 0, 0, 0, 0, 0, 0, 0, 0, 0, 0, 0,\n",
       "       0, 0, 0, 0, 0, 0, 0, 0, 0, 0, 0, 0, 0, 0, 0, 0, 0, 0, 0, 0, 0, 0,\n",
       "       0, 0, 0, 0, 0, 0, 1, 1, 1, 1, 1, 1, 1, 1, 1, 1, 1, 1, 1, 1, 1, 1,\n",
       "       1, 1, 1, 1, 1, 1, 1, 1, 1, 1, 1, 1, 1, 1, 1, 1, 1, 1, 1, 1, 1, 1,\n",
       "       1, 1, 1, 1, 1, 1, 1, 1, 1, 1, 1, 1, 2, 2, 2, 2, 2, 2, 2, 2, 2, 2,\n",
       "       2, 2, 2, 2, 2, 2, 2, 2, 2, 2, 2, 2, 2, 2, 2, 2, 2, 2, 2, 2, 2, 2,\n",
       "       2, 2, 2, 2, 2, 2, 2, 2, 2, 2, 2, 2, 2, 2, 2, 2, 2, 2], dtype=int64)"
      ]
     },
     "execution_count": 13,
     "metadata": {},
     "output_type": "execute_result"
    }
   ],
   "source": [
    "y"
   ]
  },
  {
   "cell_type": "markdown",
   "metadata": {},
   "source": [
    "### Step4: Split the data into train and test(more % for train, min % for test)\n",
    "- Here 70% for training and 30% for testing\n",
    "- out of 150 samples \n",
    "- 105(35,35,35) samples for training and 45(15,15,15) samples for testing"
   ]
  },
  {
   "cell_type": "markdown",
   "metadata": {},
   "source": [
    "#### train_test_split?\n",
    "- *arrays : sequence of indexables with same length / shape[0] Allowed inputs are lists, numpy arrays, scipy-sparse matrices or pandas dataframes.\n",
    "- test_size : float or int, default=None\n",
    "- train_size : float or int, default=None\n",
    "- random_state : int or RandomState instance, default=None\n",
    "    - Controls the shuffling applied to the data before applying the split. Pass an int for reproducible output across multiple function calls.\n",
    "    - values available from 2**32-1\n",
    "- shuffle : bool, default=True\n",
    "    Whether or not to shuffle the data before splitting. If shuffle=False\n",
    "    then stratify must be None.\n",
    "\n",
    "- stratify : array-like, default=None\n",
    "    If not None, data is split in a stratified fashion, using this as\n",
    "    the class labels.    "
   ]
  },
  {
   "cell_type": "code",
   "execution_count": 14,
   "metadata": {},
   "outputs": [],
   "source": [
    "from sklearn.model_selection import train_test_split\n",
    "\n",
    "seed = 42                                                        \n",
    "X_train, X_test, y_train, y_test = train_test_split(X, y, test_size=0.3, random_state=seed,shuffle=True, stratify=y)"
   ]
  },
  {
   "cell_type": "markdown",
   "metadata": {},
   "source": [
    "#### understand about stratify\n",
    "- Must Read:https://en.wikipedia.org/wiki/Stratified_sampling\n",
    "\n",
    "- understand about random_state?\n",
    "- What is Balanced Data ?"
   ]
  },
  {
   "cell_type": "code",
   "execution_count": 15,
   "metadata": {},
   "outputs": [
    {
     "data": {
      "text/plain": [
       "{0: 50, 1: 50, 2: 50}"
      ]
     },
     "execution_count": 15,
     "metadata": {},
     "output_type": "execute_result"
    }
   ],
   "source": [
    "import numpy as np\n",
    "\n",
    "# Count of each class in orginal data\n",
    "unique, counts = np.unique(y, return_counts=True)\n",
    "dict(zip(unique, counts))"
   ]
  },
  {
   "cell_type": "code",
   "execution_count": 16,
   "metadata": {},
   "outputs": [
    {
     "data": {
      "text/plain": [
       "{0: 35, 1: 35, 2: 35}"
      ]
     },
     "execution_count": 16,
     "metadata": {},
     "output_type": "execute_result"
    }
   ],
   "source": [
    "# Count of each class in train sample data\n",
    "unique, counts = np.unique(y_train, return_counts=True)\n",
    "dict(zip(unique, counts))"
   ]
  },
  {
   "cell_type": "code",
   "execution_count": 17,
   "metadata": {},
   "outputs": [
    {
     "data": {
      "text/plain": [
       "{0: 15, 1: 15, 2: 15}"
      ]
     },
     "execution_count": 17,
     "metadata": {},
     "output_type": "execute_result"
    }
   ],
   "source": [
    "# Count of each class in test sample data\n",
    "unique, counts = np.unique(y_test, return_counts=True)\n",
    "dict(zip(unique, counts))"
   ]
  },
  {
   "cell_type": "markdown",
   "metadata": {},
   "source": [
    "### Step5: Fit \\ Train the model using Training data"
   ]
  },
  {
   "cell_type": "markdown",
   "metadata": {},
   "source": [
    "#### KNeighborsClassifier?\n",
    "- KNeighborsClassifier(n_neighbors=5, *, \n",
    "                       weights='uniform', \n",
    "                       algorithm='auto', \n",
    "                       leaf_size=30,\n",
    "                       p=2, \n",
    "                       metric='minkowski', \n",
    "                       metric_params=None,\n",
    "                       n_jobs=None, **kwargs)"
   ]
  },
  {
   "cell_type": "code",
   "execution_count": 18,
   "metadata": {},
   "outputs": [
    {
     "data": {
      "text/plain": [
       "KNeighborsClassifier(n_neighbors=8)"
      ]
     },
     "execution_count": 18,
     "metadata": {},
     "output_type": "execute_result"
    }
   ],
   "source": [
    "from sklearn.neighbors import KNeighborsClassifier\n",
    "                                                                # type(KNeighborsClassifier) = abc.ABCMeta\n",
    "knn_model = KNeighborsClassifier(n_neighbors=8)                 # initialization or creating an object\n",
    "knn_model.fit(X_train,y_train)                                  # observe how these 105 rows are alligned"
   ]
  },
  {
   "cell_type": "code",
   "execution_count": 21,
   "metadata": {},
   "outputs": [
    {
     "data": {
      "image/png": "[encoded data removed]",
      "text/plain": [
       "<PIL.PngImagePlugin.PngImageFile image mode=RGBA size=499x112 at 0x19F23552128>"
      ]
     },
     "execution_count": 21,
     "metadata": {},
     "output_type": "execute_result"
    }
   ],
   "source": [
    "from PIL import Image\n",
    "Image.open(\"E:/code/6.MachineLearning/1_KNN_algorithm/knn7.PNG\")"
   ]
  },
  {
   "cell_type": "code",
   "execution_count": 22,
   "metadata": {},
   "outputs": [],
   "source": [
    "#knn_model.kneighbors()"
   ]
  },
  {
   "cell_type": "markdown",
   "metadata": {},
   "source": [
    "### Step6: predict labels on test data"
   ]
  },
  {
   "cell_type": "code",
   "execution_count": 23,
   "metadata": {},
   "outputs": [
    {
     "data": {
      "text/plain": [
       "array([2, 1, 1, 1, 2, 2, 1, 1, 0, 2, 0, 0, 2, 2, 0, 2, 1, 0, 0, 0, 1, 0,\n",
       "       1, 2, 1, 1, 1, 1, 1, 0, 2, 2, 1, 0, 2, 0, 0, 0, 0, 1, 1, 0, 1, 2,\n",
       "       1], dtype=int64)"
      ]
     },
     "execution_count": 23,
     "metadata": {},
     "output_type": "execute_result"
    }
   ],
   "source": [
    "y_test_pred = knn_model.predict(X_test)\n",
    "y_test_pred              # machine predicted values"
   ]
  },
  {
   "cell_type": "code",
   "execution_count": 24,
   "metadata": {},
   "outputs": [
    {
     "data": {
      "text/plain": [
       "array([2, 1, 2, 1, 2, 2, 1, 1, 0, 2, 0, 0, 2, 2, 0, 2, 1, 0, 0, 0, 1, 0,\n",
       "       1, 2, 2, 1, 1, 1, 1, 0, 2, 2, 1, 0, 2, 0, 0, 0, 0, 1, 1, 0, 2, 2,\n",
       "       1], dtype=int64)"
      ]
     },
     "execution_count": 24,
     "metadata": {},
     "output_type": "execute_result"
    }
   ],
   "source": [
    "y_test                 # truth values"
   ]
  },
  {
   "cell_type": "code",
   "execution_count": 25,
   "metadata": {},
   "outputs": [],
   "source": [
    "#knn_model.predict_proba(X_test)"
   ]
  },
  {
   "cell_type": "code",
   "execution_count": 26,
   "metadata": {},
   "outputs": [
    {
     "data": {
      "text/plain": [
       "array([15, 18, 12], dtype=int64)"
      ]
     },
     "execution_count": 26,
     "metadata": {},
     "output_type": "execute_result"
    }
   ],
   "source": [
    "np.bincount(y_test_pred)"
   ]
  },
  {
   "cell_type": "markdown",
   "metadata": {},
   "source": [
    "### Step7: Metrics(Accuracy)"
   ]
  },
  {
   "cell_type": "code",
   "execution_count": 27,
   "metadata": {},
   "outputs": [
    {
     "data": {
      "text/plain": [
       "array([ True,  True, False,  True,  True,  True,  True,  True,  True,\n",
       "        True,  True,  True,  True,  True,  True,  True,  True,  True,\n",
       "        True,  True,  True,  True,  True,  True, False,  True,  True,\n",
       "        True,  True,  True,  True,  True,  True,  True,  True,  True,\n",
       "        True,  True,  True,  True,  True,  True, False,  True,  True])"
      ]
     },
     "execution_count": 27,
     "metadata": {},
     "output_type": "execute_result"
    }
   ],
   "source": [
    "y_test == y_test_pred"
   ]
  },
  {
   "cell_type": "code",
   "execution_count": 28,
   "metadata": {},
   "outputs": [
    {
     "data": {
      "text/plain": [
       "42"
      ]
     },
     "execution_count": 28,
     "metadata": {},
     "output_type": "execute_result"
    }
   ],
   "source": [
    "sum(y_test == y_test_pred)"
   ]
  },
  {
   "cell_type": "code",
   "execution_count": 29,
   "metadata": {},
   "outputs": [
    {
     "data": {
      "text/plain": [
       "93.33333333333333"
      ]
     },
     "execution_count": 29,
     "metadata": {},
     "output_type": "execute_result"
    }
   ],
   "source": [
    "42/45*100"
   ]
  },
  {
   "cell_type": "code",
   "execution_count": 30,
   "metadata": {},
   "outputs": [
    {
     "data": {
      "text/plain": [
       "0.9333333333333333"
      ]
     },
     "execution_count": 30,
     "metadata": {},
     "output_type": "execute_result"
    }
   ],
   "source": [
    "from sklearn.metrics import accuracy_score\n",
    "\n",
    "accuracy_score(y_test, y_test_pred)                              # accuracy_score(y_true, y_pred)"
   ]
  },
  {
   "cell_type": "markdown",
   "metadata": {},
   "source": [
    "#### or"
   ]
  },
  {
   "cell_type": "code",
   "execution_count": 31,
   "metadata": {},
   "outputs": [
    {
     "data": {
      "text/plain": [
       "0.9333333333333333"
      ]
     },
     "execution_count": 31,
     "metadata": {},
     "output_type": "execute_result"
    }
   ],
   "source": [
    "knn_model.score(X_test, y_test)"
   ]
  },
  {
   "cell_type": "code",
   "execution_count": 32,
   "metadata": {},
   "outputs": [],
   "source": [
    "# clients are not happy with our model accuracy so we need to do improvements for that"
   ]
  },
  {
   "cell_type": "markdown",
   "metadata": {},
   "source": [
    "### Step8: Hyper parameter tunning"
   ]
  },
  {
   "cell_type": "markdown",
   "metadata": {},
   "source": [
    "### Method1: own code"
   ]
  },
  {
   "cell_type": "markdown",
   "metadata": {},
   "source": [
    "#### Case1: first parameter(n_neighbors)"
   ]
  },
  {
   "cell_type": "code",
   "execution_count": 33,
   "metadata": {},
   "outputs": [
    {
     "name": "stdout",
     "output_type": "stream",
     "text": [
      "n_neighbors is:2, respective accuracy is: 0.9111111111111111\n",
      "n_neighbors is:3, respective accuracy is: 0.9555555555555556\n",
      "n_neighbors is:4, respective accuracy is: 0.9555555555555556\n",
      "n_neighbors is:5, respective accuracy is: 0.9777777777777777\n",
      "n_neighbors is:6, respective accuracy is: 0.9555555555555556\n",
      "n_neighbors is:7, respective accuracy is: 0.9555555555555556\n",
      "n_neighbors is:8, respective accuracy is: 0.9333333333333333\n",
      "n_neighbors is:9, respective accuracy is: 0.9555555555555556\n",
      "n_neighbors is:10, respective accuracy is: 0.9555555555555556\n",
      "n_neighbors is:11, respective accuracy is: 0.9333333333333333\n",
      "n_neighbors is:12, respective accuracy is: 0.9333333333333333\n",
      "n_neighbors is:13, respective accuracy is: 0.9333333333333333\n",
      "n_neighbors is:14, respective accuracy is: 0.9333333333333333\n",
      "n_neighbors is:15, respective accuracy is: 0.9555555555555556\n",
      "n_neighbors is:16, respective accuracy is: 0.9555555555555556\n",
      "n_neighbors is:17, respective accuracy is: 0.9555555555555556\n",
      "n_neighbors is:18, respective accuracy is: 0.9555555555555556\n",
      "n_neighbors is:19, respective accuracy is: 0.9555555555555556\n",
      "n_neighbors is:20, respective accuracy is: 0.9333333333333333\n"
     ]
    }
   ],
   "source": [
    "for i in list(range(2,21)):\n",
    "    model = KNeighborsClassifier(n_neighbors=i)\n",
    "    model.fit(X_train, y_train)\n",
    "    y_test_pred = model.predict(X_test)\n",
    "    print(f\"n_neighbors is:{i}, respective accuracy is: {accuracy_score(y_test, y_test_pred)}\")"
   ]
  },
  {
   "cell_type": "markdown",
   "metadata": {},
   "source": [
    "#### Case2 : another parameter weights = ['uniform','distance']"
   ]
  },
  {
   "cell_type": "code",
   "execution_count": 34,
   "metadata": {},
   "outputs": [
    {
     "data": {
      "text/plain": [
       "[(2, 'uniform', 0.9111111111111111),\n",
       " (2, 'distance', 0.9333333333333333),\n",
       " (3, 'uniform', 0.9555555555555556),\n",
       " (3, 'distance', 0.9555555555555556),\n",
       " (4, 'uniform', 0.9555555555555556),\n",
       " (4, 'distance', 0.9555555555555556),\n",
       " (5, 'uniform', 0.9777777777777777),\n",
       " (5, 'distance', 0.9777777777777777),\n",
       " (6, 'uniform', 0.9555555555555556),\n",
       " (6, 'distance', 0.9777777777777777),\n",
       " (7, 'uniform', 0.9555555555555556),\n",
       " (7, 'distance', 0.9555555555555556),\n",
       " (8, 'uniform', 0.9333333333333333),\n",
       " (8, 'distance', 0.9333333333333333),\n",
       " (9, 'uniform', 0.9555555555555556),\n",
       " (9, 'distance', 0.9555555555555556),\n",
       " (10, 'uniform', 0.9555555555555556),\n",
       " (10, 'distance', 0.9555555555555556),\n",
       " (11, 'uniform', 0.9333333333333333),\n",
       " (11, 'distance', 0.9555555555555556),\n",
       " (12, 'uniform', 0.9333333333333333),\n",
       " (12, 'distance', 0.9333333333333333),\n",
       " (13, 'uniform', 0.9333333333333333),\n",
       " (13, 'distance', 0.9333333333333333),\n",
       " (14, 'uniform', 0.9333333333333333),\n",
       " (14, 'distance', 0.9333333333333333),\n",
       " (15, 'uniform', 0.9555555555555556),\n",
       " (15, 'distance', 0.9777777777777777),\n",
       " (16, 'uniform', 0.9555555555555556),\n",
       " (16, 'distance', 0.9555555555555556),\n",
       " (17, 'uniform', 0.9555555555555556),\n",
       " (17, 'distance', 0.9555555555555556),\n",
       " (18, 'uniform', 0.9555555555555556),\n",
       " (18, 'distance', 0.9555555555555556),\n",
       " (19, 'uniform', 0.9555555555555556),\n",
       " (19, 'distance', 0.9777777777777777),\n",
       " (20, 'uniform', 0.9333333333333333),\n",
       " (20, 'distance', 0.9333333333333333)]"
      ]
     },
     "execution_count": 34,
     "metadata": {},
     "output_type": "execute_result"
    }
   ],
   "source": [
    "rs = []\n",
    "for i in list(range(2,21)):\n",
    "    for w in ['uniform', 'distance']:\n",
    "        model = KNeighborsClassifier(n_neighbors=i, weights=w)\n",
    "        model.fit(X_train, y_train)\n",
    "        y_test_pred = model.predict(X_test)\n",
    "        acc = accuracy_score(y_test, y_test_pred)\n",
    "        rs.append((i,w,acc))\n",
    "rs                                # length of results = 19*2 = 38"
   ]
  },
  {
   "cell_type": "markdown",
   "metadata": {},
   "source": [
    "#### Case3: another parameter algorithm=['ball_tree', 'kd_tree', 'brute']"
   ]
  },
  {
   "cell_type": "markdown",
   "metadata": {},
   "source": [
    "##### for more: https://scikit-learn.org/stable/modules/neighbors.html#nearest-neighbor-algorithms"
   ]
  },
  {
   "cell_type": "code",
   "execution_count": 35,
   "metadata": {},
   "outputs": [
    {
     "data": {
      "text/plain": [
       "[(2, 'uniform', 0.9111111111111111),\n",
       " (2, 'uniform', 0.9111111111111111),\n",
       " (2, 'uniform', 0.9111111111111111),\n",
       " (2, 'distance', 0.9333333333333333),\n",
       " (2, 'distance', 0.9333333333333333),\n",
       " (2, 'distance', 0.9333333333333333),\n",
       " (3, 'uniform', 0.9555555555555556),\n",
       " (3, 'uniform', 0.9555555555555556),\n",
       " (3, 'uniform', 0.9555555555555556),\n",
       " (3, 'distance', 0.9555555555555556),\n",
       " (3, 'distance', 0.9555555555555556),\n",
       " (3, 'distance', 0.9555555555555556),\n",
       " (4, 'uniform', 0.9555555555555556),\n",
       " (4, 'uniform', 0.9555555555555556),\n",
       " (4, 'uniform', 0.9333333333333333),\n",
       " (4, 'distance', 0.9555555555555556),\n",
       " (4, 'distance', 0.9555555555555556),\n",
       " (4, 'distance', 0.9333333333333333),\n",
       " (5, 'uniform', 0.9777777777777777),\n",
       " (5, 'uniform', 0.9777777777777777),\n",
       " (5, 'uniform', 0.9777777777777777),\n",
       " (5, 'distance', 0.9777777777777777),\n",
       " (5, 'distance', 0.9777777777777777),\n",
       " (5, 'distance', 0.9777777777777777),\n",
       " (6, 'uniform', 0.9555555555555556),\n",
       " (6, 'uniform', 0.9555555555555556),\n",
       " (6, 'uniform', 0.9555555555555556),\n",
       " (6, 'distance', 0.9777777777777777),\n",
       " (6, 'distance', 0.9777777777777777),\n",
       " (6, 'distance', 0.9777777777777777),\n",
       " (7, 'uniform', 0.9555555555555556),\n",
       " (7, 'uniform', 0.9555555555555556),\n",
       " (7, 'uniform', 0.9555555555555556),\n",
       " (7, 'distance', 0.9555555555555556),\n",
       " (7, 'distance', 0.9555555555555556),\n",
       " (7, 'distance', 0.9555555555555556),\n",
       " (8, 'uniform', 0.9333333333333333),\n",
       " (8, 'uniform', 0.9333333333333333),\n",
       " (8, 'uniform', 0.9333333333333333),\n",
       " (8, 'distance', 0.9333333333333333),\n",
       " (8, 'distance', 0.9333333333333333),\n",
       " (8, 'distance', 0.9333333333333333),\n",
       " (9, 'uniform', 0.9555555555555556),\n",
       " (9, 'uniform', 0.9555555555555556),\n",
       " (9, 'uniform', 0.9555555555555556),\n",
       " (9, 'distance', 0.9555555555555556),\n",
       " (9, 'distance', 0.9555555555555556),\n",
       " (9, 'distance', 0.9555555555555556),\n",
       " (10, 'uniform', 0.9555555555555556),\n",
       " (10, 'uniform', 0.9555555555555556),\n",
       " (10, 'uniform', 0.9555555555555556),\n",
       " (10, 'distance', 0.9555555555555556),\n",
       " (10, 'distance', 0.9555555555555556),\n",
       " (10, 'distance', 0.9555555555555556),\n",
       " (11, 'uniform', 0.9333333333333333),\n",
       " (11, 'uniform', 0.9333333333333333),\n",
       " (11, 'uniform', 0.9333333333333333),\n",
       " (11, 'distance', 0.9555555555555556),\n",
       " (11, 'distance', 0.9555555555555556),\n",
       " (11, 'distance', 0.9555555555555556),\n",
       " (12, 'uniform', 0.9333333333333333),\n",
       " (12, 'uniform', 0.9333333333333333),\n",
       " (12, 'uniform', 0.9333333333333333),\n",
       " (12, 'distance', 0.9333333333333333),\n",
       " (12, 'distance', 0.9333333333333333),\n",
       " (12, 'distance', 0.9333333333333333),\n",
       " (13, 'uniform', 0.9333333333333333),\n",
       " (13, 'uniform', 0.9333333333333333),\n",
       " (13, 'uniform', 0.9333333333333333),\n",
       " (13, 'distance', 0.9333333333333333),\n",
       " (13, 'distance', 0.9333333333333333),\n",
       " (13, 'distance', 0.9333333333333333),\n",
       " (14, 'uniform', 0.9333333333333333),\n",
       " (14, 'uniform', 0.9333333333333333),\n",
       " (14, 'uniform', 0.9333333333333333),\n",
       " (14, 'distance', 0.9333333333333333),\n",
       " (14, 'distance', 0.9333333333333333),\n",
       " (14, 'distance', 0.9333333333333333),\n",
       " (15, 'uniform', 0.9555555555555556),\n",
       " (15, 'uniform', 0.9555555555555556),\n",
       " (15, 'uniform', 0.9555555555555556),\n",
       " (15, 'distance', 0.9777777777777777),\n",
       " (15, 'distance', 0.9777777777777777),\n",
       " (15, 'distance', 0.9777777777777777),\n",
       " (16, 'uniform', 0.9555555555555556),\n",
       " (16, 'uniform', 0.9555555555555556),\n",
       " (16, 'uniform', 0.9555555555555556),\n",
       " (16, 'distance', 0.9555555555555556),\n",
       " (16, 'distance', 0.9555555555555556),\n",
       " (16, 'distance', 0.9555555555555556),\n",
       " (17, 'uniform', 0.9555555555555556),\n",
       " (17, 'uniform', 0.9555555555555556),\n",
       " (17, 'uniform', 0.9555555555555556),\n",
       " (17, 'distance', 0.9555555555555556),\n",
       " (17, 'distance', 0.9555555555555556),\n",
       " (17, 'distance', 0.9555555555555556),\n",
       " (18, 'uniform', 0.9555555555555556),\n",
       " (18, 'uniform', 0.9555555555555556),\n",
       " (18, 'uniform', 0.9555555555555556),\n",
       " (18, 'distance', 0.9555555555555556),\n",
       " (18, 'distance', 0.9555555555555556),\n",
       " (18, 'distance', 0.9555555555555556),\n",
       " (19, 'uniform', 0.9555555555555556),\n",
       " (19, 'uniform', 0.9555555555555556),\n",
       " (19, 'uniform', 0.9555555555555556),\n",
       " (19, 'distance', 0.9777777777777777),\n",
       " (19, 'distance', 0.9777777777777777),\n",
       " (19, 'distance', 0.9777777777777777),\n",
       " (20, 'uniform', 0.9333333333333333),\n",
       " (20, 'uniform', 0.9333333333333333),\n",
       " (20, 'uniform', 0.9333333333333333),\n",
       " (20, 'distance', 0.9333333333333333),\n",
       " (20, 'distance', 0.9333333333333333),\n",
       " (20, 'distance', 0.9333333333333333)]"
      ]
     },
     "execution_count": 35,
     "metadata": {},
     "output_type": "execute_result"
    }
   ],
   "source": [
    "rs = []\n",
    "for i in list(range(2,21)):\n",
    "    for w in ['uniform', 'distance']:\n",
    "        for alg in ['ball_tree', 'kd_tree', 'brute']:\n",
    "            model = KNeighborsClassifier(n_neighbors=i, weights=w, algorithm=alg)\n",
    "            model.fit(X_train, y_train)\n",
    "            y_test_pred = model.predict(X_test)\n",
    "            acc = accuracy_score(y_test, y_test_pred)\n",
    "            rs.append((i,w,acc))\n",
    "rs                                # length of results = 19*2 = 38*3 = 144"
   ]
  },
  {
   "cell_type": "markdown",
   "metadata": {},
   "source": [
    "#### CV: https://www.youtube.com/watch?v=7062skdX05Y&ab_channel=KrishNaik\n",
    "- https://scikit-learn.org/stable/modules/cross_validation.html"
   ]
  },
  {
   "cell_type": "markdown",
   "metadata": {},
   "source": [
    "##### method2: GridSearchCV"
   ]
  },
  {
   "cell_type": "markdown",
   "metadata": {},
   "source": [
    "#### GridSearchCV?\n",
    "- GridSearchCV(estimator,\n",
    "             param_grid, *, \n",
    "             scoring=None,\n",
    "             n_jobs=None,\n",
    "             iid='deprecated', \n",
    "             refit=True,\n",
    "             cv=None(by default cv=3 ), \n",
    "             verbose=0,\n",
    "             pre_dispatch='2*n_jobs', error_score=nan, return_train_score=False)"
   ]
  },
  {
   "cell_type": "code",
   "execution_count": 36,
   "metadata": {},
   "outputs": [],
   "source": [
    "from sklearn.model_selection import GridSearchCV, RandomizedSearchCV\n",
    "\n",
    "knn_model = KNeighborsClassifier(n_neighbors=8)\n",
    "\n",
    "param_grid = {\"n_neighbors\":list(range(2,21)),\n",
    "              \"weights\":['uniform','distance'],\n",
    "              \"algorithm\":['ball_tree','kd_tree','brute']}"
   ]
  },
  {
   "cell_type": "code",
   "execution_count": 37,
   "metadata": {},
   "outputs": [
    {
     "data": {
      "text/plain": [
       "GridSearchCV(cv=3, estimator=KNeighborsClassifier(n_neighbors=8),\n",
       "             param_grid={'algorithm': ['ball_tree', 'kd_tree', 'brute'],\n",
       "                         'n_neighbors': [2, 3, 4, 5, 6, 7, 8, 9, 10, 11, 12, 13,\n",
       "                                         14, 15, 16, 17, 18, 19, 20],\n",
       "                         'weights': ['uniform', 'distance']})"
      ]
     },
     "execution_count": 37,
     "metadata": {},
     "output_type": "execute_result"
    }
   ],
   "source": [
    "clf = GridSearchCV(knn_model, param_grid, cv=3)\n",
    "clf                                                #type(clf) = sklearn.model_selection._search.GridSearchCV"
   ]
  },
  {
   "cell_type": "code",
   "execution_count": 38,
   "metadata": {},
   "outputs": [],
   "source": [
    "#clf.fit?"
   ]
  },
  {
   "cell_type": "code",
   "execution_count": 39,
   "metadata": {},
   "outputs": [
    {
     "data": {
      "text/plain": [
       "GridSearchCV(cv=3, estimator=KNeighborsClassifier(n_neighbors=8),\n",
       "             param_grid={'algorithm': ['ball_tree', 'kd_tree', 'brute'],\n",
       "                         'n_neighbors': [2, 3, 4, 5, 6, 7, 8, 9, 10, 11, 12, 13,\n",
       "                                         14, 15, 16, 17, 18, 19, 20],\n",
       "                         'weights': ['uniform', 'distance']})"
      ]
     },
     "execution_count": 39,
     "metadata": {},
     "output_type": "execute_result"
    }
   ],
   "source": [
    "clf.fit(X,y)               # here we are using 100 records for training and 50 records for testing "
   ]
  },
  {
   "cell_type": "markdown",
   "metadata": {},
   "source": [
    "#### clf.cv_results_?\n",
    "- cv_results_ : dict of numpy (masked) ndarrays\n",
    "    A dict with keys as column headers and values as columns, that can be\n",
    "    imported into a pandas ``DataFrame``."
   ]
  },
  {
   "cell_type": "code",
   "execution_count": 40,
   "metadata": {},
   "outputs": [
    {
     "data": {
      "text/plain": [
       "{'mean_fit_time': array([0.0013334 , 0.00099977, 0.00132887, 0.00100644, 0.00099309,\n",
       "        0.00066646, 0.0006725 , 0.00099913, 0.00033339, 0.00066662,\n",
       "        0.00066646, 0.00066654, 0.00133395, 0.00099929, 0.00099969,\n",
       "        0.0013303 , 0.00099881, 0.00066598, 0.00099945, 0.00066614,\n",
       "        0.00099953, 0.00099889, 0.00100025, 0.00067337, 0.00099937,\n",
       "        0.00099953, 0.00099301, 0.00066582, 0.00099969, 0.00099921,\n",
       "        0.00033307, 0.00066654, 0.00166702, 0.00233245, 0.00699631,\n",
       "        0.00200113, 0.00233189, 0.00233301, 0.00233221, 0.00233237,\n",
       "        0.00166655, 0.00133276, 0.001333  , 0.00099905, 0.00133268,\n",
       "        0.00133244, 0.00199858, 0.00199938, 0.00266496, 0.00199906,\n",
       "        0.00099985, 0.00166726, 0.00199946, 0.00133236, 0.00266544,\n",
       "        0.00333039, 0.00299803, 0.00099985, 0.00166519, 0.00133204,\n",
       "        0.00099913, 0.00099985, 0.001333  , 0.00166519, 0.00099889,\n",
       "        0.00033323, 0.00099993, 0.00099881, 0.00099937, 0.00099921,\n",
       "        0.00033315, 0.00066614, 0.00066725, 0.0006663 , 0.00100025,\n",
       "        0.00099969, 0.00100025, 0.00033331, 0.00066646, 0.00066646,\n",
       "        0.00033331, 0.00033315, 0.00099921, 0.00033291, 0.00066646,\n",
       "        0.00066574, 0.00066646, 0.00033331, 0.0006663 , 0.00066654,\n",
       "        0.00066582, 0.00066686, 0.        , 0.00099929, 0.00033307,\n",
       "        0.0006663 , 0.00066638, 0.00033283, 0.00099977, 0.00033307,\n",
       "        0.00033323, 0.        , 0.00100088, 0.00066702, 0.00066702,\n",
       "        0.00101018, 0.00099897, 0.0006663 , 0.00099921, 0.00033339,\n",
       "        0.00033331, 0.        , 0.00066654, 0.00066638]),\n",
       " 'std_fit_time': array([4.71258123e-04, 7.86741172e-07, 4.60481701e-04, 9.38923994e-06,\n",
       "        8.66290625e-06, 4.71258123e-04, 4.75592592e-04, 6.25769923e-07,\n",
       "        4.71482745e-04, 4.71370716e-04, 4.71258605e-04, 4.71314168e-04,\n",
       "        4.83553945e-04, 2.24783192e-07, 5.15042996e-07, 4.69235560e-04,\n",
       "        1.10692885e-06, 4.70920948e-04, 5.15042996e-07, 4.71033179e-04,\n",
       "        7.37000982e-07, 9.98958356e-07, 5.94720425e-07, 4.76229373e-04,\n",
       "        4.05233662e-07, 4.05233662e-07, 9.10580037e-06, 4.70808436e-04,\n",
       "        3.37174788e-07, 5.15042996e-07, 4.71033179e-04, 9.42628316e-04,\n",
       "        4.71539192e-04, 4.70864843e-04, 8.48050789e-03, 8.17800085e-04,\n",
       "        9.42010569e-04, 1.88424536e-03, 1.88430131e-03, 4.70920787e-04,\n",
       "        4.70021816e-04, 4.71539032e-04, 4.71033179e-04, 1.43491984e-06,\n",
       "        4.70920787e-04, 4.70920828e-04, 8.16242742e-04, 1.18411894e-06,\n",
       "        1.69864603e-03, 1.10692885e-06, 6.25769923e-07, 4.71204028e-04,\n",
       "        1.12391596e-07, 4.71314248e-04, 9.42291161e-04, 9.43527629e-04,\n",
       "        1.41366162e-03, 2.24783192e-07, 4.70583613e-04, 4.70696004e-04,\n",
       "        5.61957980e-07, 1.12391596e-07, 4.72550716e-04, 4.70416244e-04,\n",
       "        1.29616312e-06, 4.71257962e-04, 3.89335909e-07, 4.05233662e-07,\n",
       "        5.94720425e-07, 3.37174788e-07, 4.71145571e-04, 4.71033219e-04,\n",
       "        4.71819960e-04, 4.71145611e-04, 5.61957980e-07, 1.94667955e-07,\n",
       "        9.60274217e-07, 4.71370354e-04, 4.71258002e-04, 4.71258002e-04,\n",
       "        4.71370354e-04, 4.71145571e-04, 5.15042996e-07, 4.70808396e-04,\n",
       "        4.71258002e-04, 4.70752210e-04, 4.71257962e-04, 4.71370354e-04,\n",
       "        4.71146214e-04, 4.71314409e-04, 4.70810368e-04, 4.71539433e-04,\n",
       "        0.00000000e+00, 1.12391596e-07, 4.71033179e-04, 4.71145571e-04,\n",
       "        4.71202018e-04, 4.70696004e-04, 1.17340271e-06, 4.71033179e-04,\n",
       "        4.71257962e-04, 0.00000000e+00, 2.21100294e-06, 4.71651825e-04,\n",
       "        4.71651825e-04, 7.58705710e-06, 2.36022352e-06, 4.71145611e-04,\n",
       "        1.94667955e-07, 4.71482745e-04, 4.71370354e-04, 0.00000000e+00,\n",
       "        4.71314248e-04, 4.71201776e-04]),\n",
       " 'mean_score_time': array([0.00599535, 0.00167203, 0.00599933, 0.00166551, 0.00367077,\n",
       "        0.0013268 , 0.00399113, 0.00166607, 0.0043296 , 0.00133276,\n",
       "        0.00399669, 0.00166543, 0.00466839, 0.0013264 , 0.00532905,\n",
       "        0.00133228, 0.00399804, 0.00199914, 0.00399717, 0.00166623,\n",
       "        0.00399764, 0.00166623, 0.0036633 , 0.0019927 , 0.00399709,\n",
       "        0.00166615, 0.0036703 , 0.00199922, 0.00399748, 0.0019993 ,\n",
       "        0.00399701, 0.00399264, 0.01698939, 0.00433024, 0.01266074,\n",
       "        0.00499566, 0.01232648, 0.0033311 , 0.00832884, 0.00399733,\n",
       "        0.01099348, 0.00366457, 0.00999443, 0.00333174, 0.01265987,\n",
       "        0.00466418, 0.01399159, 0.00366569, 0.00999419, 0.00299819,\n",
       "        0.00866055, 0.00299724, 0.0109934 , 0.0039978 , 0.00899466,\n",
       "        0.00499694, 0.00999427, 0.0033323 , 0.007996  , 0.00299875,\n",
       "        0.00566419, 0.00266552, 0.00566308, 0.00299899, 0.00699544,\n",
       "        0.00266504, 0.00466315, 0.00199946, 0.00399669, 0.0019993 ,\n",
       "        0.00432984, 0.00233253, 0.00432976, 0.00199906, 0.0046622 ,\n",
       "        0.00199882, 0.00333071, 0.00133236, 0.00366489, 0.00133141,\n",
       "        0.00533525, 0.00166527, 0.00366449, 0.00166607, 0.0033311 ,\n",
       "        0.00166647, 0.00366441, 0.00166559, 0.00366426, 0.00199389,\n",
       "        0.00399661, 0.00133228, 0.00432412, 0.00133236, 0.00399748,\n",
       "        0.00166607, 0.00332514, 0.00199978, 0.00433636, 0.00166686,\n",
       "        0.00466363, 0.00199914, 0.00599504, 0.0026648 , 0.00700148,\n",
       "        0.00331505, 0.00566483, 0.00199866, 0.00567508, 0.00165947,\n",
       "        0.00466466, 0.00199906, 0.00399574, 0.00133236]),\n",
       " 'std_score_time': array([8.15269890e-04, 4.75981222e-04, 8.27698956e-04, 4.70134086e-04,\n",
       "        4.75695767e-04, 4.61760883e-04, 8.93990195e-06, 4.71877331e-04,\n",
       "        4.71595298e-04, 4.71539032e-04, 4.49566384e-07, 4.70920787e-04,\n",
       "        1.24866136e-03, 4.75595819e-04, 1.69970585e-03, 4.71707569e-04,\n",
       "        5.15042996e-07, 1.94667955e-07, 4.49566384e-07, 4.71314168e-04,\n",
       "        4.05233662e-07, 4.71483388e-04, 4.70865406e-04, 9.78000645e-06,\n",
       "        1.08386530e-06, 4.70583613e-04, 4.76184014e-04, 8.10467325e-07,\n",
       "        1.12391596e-07, 2.97360213e-07, 2.97360213e-07, 2.16238742e-03,\n",
       "        5.35081397e-03, 4.71819920e-04, 4.71208049e-04, 8.16929501e-04,\n",
       "        3.39657506e-03, 4.71427042e-04, 9.41841897e-04, 8.15464341e-04,\n",
       "        2.94187123e-03, 4.71595298e-04, 8.15756763e-04, 4.73168779e-04,\n",
       "        4.49464848e-03, 2.35533453e-03, 7.78487798e-03, 4.69347345e-04,\n",
       "        1.63306953e-03, 8.16340766e-04, 4.70358991e-04, 1.65563159e-06,\n",
       "        2.15953855e-03, 8.16340085e-04, 1.41298715e-03, 1.63248553e-03,\n",
       "        2.15865564e-03, 4.71763975e-04, 1.41388628e-03, 1.41399867e-03,\n",
       "        4.69583750e-04, 4.71539032e-04, 1.24627983e-03, 8.15174712e-04,\n",
       "        8.16437402e-04, 9.42066378e-04, 4.71145933e-04, 4.05233662e-07,\n",
       "        4.05233662e-07, 2.24783192e-07, 4.69740686e-04, 4.71652548e-04,\n",
       "        4.72158098e-04, 1.12391596e-07, 4.70808758e-04, 2.97360213e-07,\n",
       "        4.71033340e-04, 4.71820282e-04, 4.71483107e-04, 4.69796871e-04,\n",
       "        1.25346075e-03, 4.70977476e-04, 4.71707569e-04, 4.71033541e-04,\n",
       "        4.71258123e-04, 4.71145731e-04, 4.71145571e-04, 4.71370394e-04,\n",
       "        4.71707529e-04, 1.01171167e-05, 8.16145417e-04, 4.71370515e-04,\n",
       "        4.76200009e-04, 4.70808436e-04, 4.89903609e-07, 4.71370394e-04,\n",
       "        4.62322841e-04, 2.24783192e-07, 4.69909774e-04, 4.69909424e-04,\n",
       "        4.71314409e-04, 1.94667955e-07, 8.14790416e-04, 4.70700875e-04,\n",
       "        9.89237603e-06, 1.24570569e-03, 9.52750852e-04, 8.16340225e-04,\n",
       "        4.79463971e-04, 4.67103408e-04, 4.69178970e-04, 2.24783192e-07,\n",
       "        8.15562606e-04, 4.71314168e-04]),\n",
       " 'param_algorithm': masked_array(data=['ball_tree', 'ball_tree', 'ball_tree', 'ball_tree',\n",
       "                    'ball_tree', 'ball_tree', 'ball_tree', 'ball_tree',\n",
       "                    'ball_tree', 'ball_tree', 'ball_tree', 'ball_tree',\n",
       "                    'ball_tree', 'ball_tree', 'ball_tree', 'ball_tree',\n",
       "                    'ball_tree', 'ball_tree', 'ball_tree', 'ball_tree',\n",
       "                    'ball_tree', 'ball_tree', 'ball_tree', 'ball_tree',\n",
       "                    'ball_tree', 'ball_tree', 'ball_tree', 'ball_tree',\n",
       "                    'ball_tree', 'ball_tree', 'ball_tree', 'ball_tree',\n",
       "                    'ball_tree', 'ball_tree', 'ball_tree', 'ball_tree',\n",
       "                    'ball_tree', 'ball_tree', 'kd_tree', 'kd_tree',\n",
       "                    'kd_tree', 'kd_tree', 'kd_tree', 'kd_tree', 'kd_tree',\n",
       "                    'kd_tree', 'kd_tree', 'kd_tree', 'kd_tree', 'kd_tree',\n",
       "                    'kd_tree', 'kd_tree', 'kd_tree', 'kd_tree', 'kd_tree',\n",
       "                    'kd_tree', 'kd_tree', 'kd_tree', 'kd_tree', 'kd_tree',\n",
       "                    'kd_tree', 'kd_tree', 'kd_tree', 'kd_tree', 'kd_tree',\n",
       "                    'kd_tree', 'kd_tree', 'kd_tree', 'kd_tree', 'kd_tree',\n",
       "                    'kd_tree', 'kd_tree', 'kd_tree', 'kd_tree', 'kd_tree',\n",
       "                    'kd_tree', 'brute', 'brute', 'brute', 'brute', 'brute',\n",
       "                    'brute', 'brute', 'brute', 'brute', 'brute', 'brute',\n",
       "                    'brute', 'brute', 'brute', 'brute', 'brute', 'brute',\n",
       "                    'brute', 'brute', 'brute', 'brute', 'brute', 'brute',\n",
       "                    'brute', 'brute', 'brute', 'brute', 'brute', 'brute',\n",
       "                    'brute', 'brute', 'brute', 'brute', 'brute', 'brute',\n",
       "                    'brute', 'brute', 'brute'],\n",
       "              mask=[False, False, False, False, False, False, False, False,\n",
       "                    False, False, False, False, False, False, False, False,\n",
       "                    False, False, False, False, False, False, False, False,\n",
       "                    False, False, False, False, False, False, False, False,\n",
       "                    False, False, False, False, False, False, False, False,\n",
       "                    False, False, False, False, False, False, False, False,\n",
       "                    False, False, False, False, False, False, False, False,\n",
       "                    False, False, False, False, False, False, False, False,\n",
       "                    False, False, False, False, False, False, False, False,\n",
       "                    False, False, False, False, False, False, False, False,\n",
       "                    False, False, False, False, False, False, False, False,\n",
       "                    False, False, False, False, False, False, False, False,\n",
       "                    False, False, False, False, False, False, False, False,\n",
       "                    False, False, False, False, False, False, False, False,\n",
       "                    False, False],\n",
       "        fill_value='?',\n",
       "             dtype=object),\n",
       " 'param_n_neighbors': masked_array(data=[2, 2, 3, 3, 4, 4, 5, 5, 6, 6, 7, 7, 8, 8, 9, 9, 10, 10,\n",
       "                    11, 11, 12, 12, 13, 13, 14, 14, 15, 15, 16, 16, 17, 17,\n",
       "                    18, 18, 19, 19, 20, 20, 2, 2, 3, 3, 4, 4, 5, 5, 6, 6,\n",
       "                    7, 7, 8, 8, 9, 9, 10, 10, 11, 11, 12, 12, 13, 13, 14,\n",
       "                    14, 15, 15, 16, 16, 17, 17, 18, 18, 19, 19, 20, 20, 2,\n",
       "                    2, 3, 3, 4, 4, 5, 5, 6, 6, 7, 7, 8, 8, 9, 9, 10, 10,\n",
       "                    11, 11, 12, 12, 13, 13, 14, 14, 15, 15, 16, 16, 17, 17,\n",
       "                    18, 18, 19, 19, 20, 20],\n",
       "              mask=[False, False, False, False, False, False, False, False,\n",
       "                    False, False, False, False, False, False, False, False,\n",
       "                    False, False, False, False, False, False, False, False,\n",
       "                    False, False, False, False, False, False, False, False,\n",
       "                    False, False, False, False, False, False, False, False,\n",
       "                    False, False, False, False, False, False, False, False,\n",
       "                    False, False, False, False, False, False, False, False,\n",
       "                    False, False, False, False, False, False, False, False,\n",
       "                    False, False, False, False, False, False, False, False,\n",
       "                    False, False, False, False, False, False, False, False,\n",
       "                    False, False, False, False, False, False, False, False,\n",
       "                    False, False, False, False, False, False, False, False,\n",
       "                    False, False, False, False, False, False, False, False,\n",
       "                    False, False, False, False, False, False, False, False,\n",
       "                    False, False],\n",
       "        fill_value='?',\n",
       "             dtype=object),\n",
       " 'param_weights': masked_array(data=['uniform', 'distance', 'uniform', 'distance',\n",
       "                    'uniform', 'distance', 'uniform', 'distance',\n",
       "                    'uniform', 'distance', 'uniform', 'distance',\n",
       "                    'uniform', 'distance', 'uniform', 'distance',\n",
       "                    'uniform', 'distance', 'uniform', 'distance',\n",
       "                    'uniform', 'distance', 'uniform', 'distance',\n",
       "                    'uniform', 'distance', 'uniform', 'distance',\n",
       "                    'uniform', 'distance', 'uniform', 'distance',\n",
       "                    'uniform', 'distance', 'uniform', 'distance',\n",
       "                    'uniform', 'distance', 'uniform', 'distance',\n",
       "                    'uniform', 'distance', 'uniform', 'distance',\n",
       "                    'uniform', 'distance', 'uniform', 'distance',\n",
       "                    'uniform', 'distance', 'uniform', 'distance',\n",
       "                    'uniform', 'distance', 'uniform', 'distance',\n",
       "                    'uniform', 'distance', 'uniform', 'distance',\n",
       "                    'uniform', 'distance', 'uniform', 'distance',\n",
       "                    'uniform', 'distance', 'uniform', 'distance',\n",
       "                    'uniform', 'distance', 'uniform', 'distance',\n",
       "                    'uniform', 'distance', 'uniform', 'distance',\n",
       "                    'uniform', 'distance', 'uniform', 'distance',\n",
       "                    'uniform', 'distance', 'uniform', 'distance',\n",
       "                    'uniform', 'distance', 'uniform', 'distance',\n",
       "                    'uniform', 'distance', 'uniform', 'distance',\n",
       "                    'uniform', 'distance', 'uniform', 'distance',\n",
       "                    'uniform', 'distance', 'uniform', 'distance',\n",
       "                    'uniform', 'distance', 'uniform', 'distance',\n",
       "                    'uniform', 'distance', 'uniform', 'distance',\n",
       "                    'uniform', 'distance', 'uniform', 'distance',\n",
       "                    'uniform', 'distance'],\n",
       "              mask=[False, False, False, False, False, False, False, False,\n",
       "                    False, False, False, False, False, False, False, False,\n",
       "                    False, False, False, False, False, False, False, False,\n",
       "                    False, False, False, False, False, False, False, False,\n",
       "                    False, False, False, False, False, False, False, False,\n",
       "                    False, False, False, False, False, False, False, False,\n",
       "                    False, False, False, False, False, False, False, False,\n",
       "                    False, False, False, False, False, False, False, False,\n",
       "                    False, False, False, False, False, False, False, False,\n",
       "                    False, False, False, False, False, False, False, False,\n",
       "                    False, False, False, False, False, False, False, False,\n",
       "                    False, False, False, False, False, False, False, False,\n",
       "                    False, False, False, False, False, False, False, False,\n",
       "                    False, False, False, False, False, False, False, False,\n",
       "                    False, False],\n",
       "        fill_value='?',\n",
       "             dtype=object),\n",
       " 'params': [{'algorithm': 'ball_tree', 'n_neighbors': 2, 'weights': 'uniform'},\n",
       "  {'algorithm': 'ball_tree', 'n_neighbors': 2, 'weights': 'distance'},\n",
       "  {'algorithm': 'ball_tree', 'n_neighbors': 3, 'weights': 'uniform'},\n",
       "  {'algorithm': 'ball_tree', 'n_neighbors': 3, 'weights': 'distance'},\n",
       "  {'algorithm': 'ball_tree', 'n_neighbors': 4, 'weights': 'uniform'},\n",
       "  {'algorithm': 'ball_tree', 'n_neighbors': 4, 'weights': 'distance'},\n",
       "  {'algorithm': 'ball_tree', 'n_neighbors': 5, 'weights': 'uniform'},\n",
       "  {'algorithm': 'ball_tree', 'n_neighbors': 5, 'weights': 'distance'},\n",
       "  {'algorithm': 'ball_tree', 'n_neighbors': 6, 'weights': 'uniform'},\n",
       "  {'algorithm': 'ball_tree', 'n_neighbors': 6, 'weights': 'distance'},\n",
       "  {'algorithm': 'ball_tree', 'n_neighbors': 7, 'weights': 'uniform'},\n",
       "  {'algorithm': 'ball_tree', 'n_neighbors': 7, 'weights': 'distance'},\n",
       "  {'algorithm': 'ball_tree', 'n_neighbors': 8, 'weights': 'uniform'},\n",
       "  {'algorithm': 'ball_tree', 'n_neighbors': 8, 'weights': 'distance'},\n",
       "  {'algorithm': 'ball_tree', 'n_neighbors': 9, 'weights': 'uniform'},\n",
       "  {'algorithm': 'ball_tree', 'n_neighbors': 9, 'weights': 'distance'},\n",
       "  {'algorithm': 'ball_tree', 'n_neighbors': 10, 'weights': 'uniform'},\n",
       "  {'algorithm': 'ball_tree', 'n_neighbors': 10, 'weights': 'distance'},\n",
       "  {'algorithm': 'ball_tree', 'n_neighbors': 11, 'weights': 'uniform'},\n",
       "  {'algorithm': 'ball_tree', 'n_neighbors': 11, 'weights': 'distance'},\n",
       "  {'algorithm': 'ball_tree', 'n_neighbors': 12, 'weights': 'uniform'},\n",
       "  {'algorithm': 'ball_tree', 'n_neighbors': 12, 'weights': 'distance'},\n",
       "  {'algorithm': 'ball_tree', 'n_neighbors': 13, 'weights': 'uniform'},\n",
       "  {'algorithm': 'ball_tree', 'n_neighbors': 13, 'weights': 'distance'},\n",
       "  {'algorithm': 'ball_tree', 'n_neighbors': 14, 'weights': 'uniform'},\n",
       "  {'algorithm': 'ball_tree', 'n_neighbors': 14, 'weights': 'distance'},\n",
       "  {'algorithm': 'ball_tree', 'n_neighbors': 15, 'weights': 'uniform'},\n",
       "  {'algorithm': 'ball_tree', 'n_neighbors': 15, 'weights': 'distance'},\n",
       "  {'algorithm': 'ball_tree', 'n_neighbors': 16, 'weights': 'uniform'},\n",
       "  {'algorithm': 'ball_tree', 'n_neighbors': 16, 'weights': 'distance'},\n",
       "  {'algorithm': 'ball_tree', 'n_neighbors': 17, 'weights': 'uniform'},\n",
       "  {'algorithm': 'ball_tree', 'n_neighbors': 17, 'weights': 'distance'},\n",
       "  {'algorithm': 'ball_tree', 'n_neighbors': 18, 'weights': 'uniform'},\n",
       "  {'algorithm': 'ball_tree', 'n_neighbors': 18, 'weights': 'distance'},\n",
       "  {'algorithm': 'ball_tree', 'n_neighbors': 19, 'weights': 'uniform'},\n",
       "  {'algorithm': 'ball_tree', 'n_neighbors': 19, 'weights': 'distance'},\n",
       "  {'algorithm': 'ball_tree', 'n_neighbors': 20, 'weights': 'uniform'},\n",
       "  {'algorithm': 'ball_tree', 'n_neighbors': 20, 'weights': 'distance'},\n",
       "  {'algorithm': 'kd_tree', 'n_neighbors': 2, 'weights': 'uniform'},\n",
       "  {'algorithm': 'kd_tree', 'n_neighbors': 2, 'weights': 'distance'},\n",
       "  {'algorithm': 'kd_tree', 'n_neighbors': 3, 'weights': 'uniform'},\n",
       "  {'algorithm': 'kd_tree', 'n_neighbors': 3, 'weights': 'distance'},\n",
       "  {'algorithm': 'kd_tree', 'n_neighbors': 4, 'weights': 'uniform'},\n",
       "  {'algorithm': 'kd_tree', 'n_neighbors': 4, 'weights': 'distance'},\n",
       "  {'algorithm': 'kd_tree', 'n_neighbors': 5, 'weights': 'uniform'},\n",
       "  {'algorithm': 'kd_tree', 'n_neighbors': 5, 'weights': 'distance'},\n",
       "  {'algorithm': 'kd_tree', 'n_neighbors': 6, 'weights': 'uniform'},\n",
       "  {'algorithm': 'kd_tree', 'n_neighbors': 6, 'weights': 'distance'},\n",
       "  {'algorithm': 'kd_tree', 'n_neighbors': 7, 'weights': 'uniform'},\n",
       "  {'algorithm': 'kd_tree', 'n_neighbors': 7, 'weights': 'distance'},\n",
       "  {'algorithm': 'kd_tree', 'n_neighbors': 8, 'weights': 'uniform'},\n",
       "  {'algorithm': 'kd_tree', 'n_neighbors': 8, 'weights': 'distance'},\n",
       "  {'algorithm': 'kd_tree', 'n_neighbors': 9, 'weights': 'uniform'},\n",
       "  {'algorithm': 'kd_tree', 'n_neighbors': 9, 'weights': 'distance'},\n",
       "  {'algorithm': 'kd_tree', 'n_neighbors': 10, 'weights': 'uniform'},\n",
       "  {'algorithm': 'kd_tree', 'n_neighbors': 10, 'weights': 'distance'},\n",
       "  {'algorithm': 'kd_tree', 'n_neighbors': 11, 'weights': 'uniform'},\n",
       "  {'algorithm': 'kd_tree', 'n_neighbors': 11, 'weights': 'distance'},\n",
       "  {'algorithm': 'kd_tree', 'n_neighbors': 12, 'weights': 'uniform'},\n",
       "  {'algorithm': 'kd_tree', 'n_neighbors': 12, 'weights': 'distance'},\n",
       "  {'algorithm': 'kd_tree', 'n_neighbors': 13, 'weights': 'uniform'},\n",
       "  {'algorithm': 'kd_tree', 'n_neighbors': 13, 'weights': 'distance'},\n",
       "  {'algorithm': 'kd_tree', 'n_neighbors': 14, 'weights': 'uniform'},\n",
       "  {'algorithm': 'kd_tree', 'n_neighbors': 14, 'weights': 'distance'},\n",
       "  {'algorithm': 'kd_tree', 'n_neighbors': 15, 'weights': 'uniform'},\n",
       "  {'algorithm': 'kd_tree', 'n_neighbors': 15, 'weights': 'distance'},\n",
       "  {'algorithm': 'kd_tree', 'n_neighbors': 16, 'weights': 'uniform'},\n",
       "  {'algorithm': 'kd_tree', 'n_neighbors': 16, 'weights': 'distance'},\n",
       "  {'algorithm': 'kd_tree', 'n_neighbors': 17, 'weights': 'uniform'},\n",
       "  {'algorithm': 'kd_tree', 'n_neighbors': 17, 'weights': 'distance'},\n",
       "  {'algorithm': 'kd_tree', 'n_neighbors': 18, 'weights': 'uniform'},\n",
       "  {'algorithm': 'kd_tree', 'n_neighbors': 18, 'weights': 'distance'},\n",
       "  {'algorithm': 'kd_tree', 'n_neighbors': 19, 'weights': 'uniform'},\n",
       "  {'algorithm': 'kd_tree', 'n_neighbors': 19, 'weights': 'distance'},\n",
       "  {'algorithm': 'kd_tree', 'n_neighbors': 20, 'weights': 'uniform'},\n",
       "  {'algorithm': 'kd_tree', 'n_neighbors': 20, 'weights': 'distance'},\n",
       "  {'algorithm': 'brute', 'n_neighbors': 2, 'weights': 'uniform'},\n",
       "  {'algorithm': 'brute', 'n_neighbors': 2, 'weights': 'distance'},\n",
       "  {'algorithm': 'brute', 'n_neighbors': 3, 'weights': 'uniform'},\n",
       "  {'algorithm': 'brute', 'n_neighbors': 3, 'weights': 'distance'},\n",
       "  {'algorithm': 'brute', 'n_neighbors': 4, 'weights': 'uniform'},\n",
       "  {'algorithm': 'brute', 'n_neighbors': 4, 'weights': 'distance'},\n",
       "  {'algorithm': 'brute', 'n_neighbors': 5, 'weights': 'uniform'},\n",
       "  {'algorithm': 'brute', 'n_neighbors': 5, 'weights': 'distance'},\n",
       "  {'algorithm': 'brute', 'n_neighbors': 6, 'weights': 'uniform'},\n",
       "  {'algorithm': 'brute', 'n_neighbors': 6, 'weights': 'distance'},\n",
       "  {'algorithm': 'brute', 'n_neighbors': 7, 'weights': 'uniform'},\n",
       "  {'algorithm': 'brute', 'n_neighbors': 7, 'weights': 'distance'},\n",
       "  {'algorithm': 'brute', 'n_neighbors': 8, 'weights': 'uniform'},\n",
       "  {'algorithm': 'brute', 'n_neighbors': 8, 'weights': 'distance'},\n",
       "  {'algorithm': 'brute', 'n_neighbors': 9, 'weights': 'uniform'},\n",
       "  {'algorithm': 'brute', 'n_neighbors': 9, 'weights': 'distance'},\n",
       "  {'algorithm': 'brute', 'n_neighbors': 10, 'weights': 'uniform'},\n",
       "  {'algorithm': 'brute', 'n_neighbors': 10, 'weights': 'distance'},\n",
       "  {'algorithm': 'brute', 'n_neighbors': 11, 'weights': 'uniform'},\n",
       "  {'algorithm': 'brute', 'n_neighbors': 11, 'weights': 'distance'},\n",
       "  {'algorithm': 'brute', 'n_neighbors': 12, 'weights': 'uniform'},\n",
       "  {'algorithm': 'brute', 'n_neighbors': 12, 'weights': 'distance'},\n",
       "  {'algorithm': 'brute', 'n_neighbors': 13, 'weights': 'uniform'},\n",
       "  {'algorithm': 'brute', 'n_neighbors': 13, 'weights': 'distance'},\n",
       "  {'algorithm': 'brute', 'n_neighbors': 14, 'weights': 'uniform'},\n",
       "  {'algorithm': 'brute', 'n_neighbors': 14, 'weights': 'distance'},\n",
       "  {'algorithm': 'brute', 'n_neighbors': 15, 'weights': 'uniform'},\n",
       "  {'algorithm': 'brute', 'n_neighbors': 15, 'weights': 'distance'},\n",
       "  {'algorithm': 'brute', 'n_neighbors': 16, 'weights': 'uniform'},\n",
       "  {'algorithm': 'brute', 'n_neighbors': 16, 'weights': 'distance'},\n",
       "  {'algorithm': 'brute', 'n_neighbors': 17, 'weights': 'uniform'},\n",
       "  {'algorithm': 'brute', 'n_neighbors': 17, 'weights': 'distance'},\n",
       "  {'algorithm': 'brute', 'n_neighbors': 18, 'weights': 'uniform'},\n",
       "  {'algorithm': 'brute', 'n_neighbors': 18, 'weights': 'distance'},\n",
       "  {'algorithm': 'brute', 'n_neighbors': 19, 'weights': 'uniform'},\n",
       "  {'algorithm': 'brute', 'n_neighbors': 19, 'weights': 'distance'},\n",
       "  {'algorithm': 'brute', 'n_neighbors': 20, 'weights': 'uniform'},\n",
       "  {'algorithm': 'brute', 'n_neighbors': 20, 'weights': 'distance'}],\n",
       " 'split0_test_score': array([0.96, 0.98, 0.98, 0.98, 0.98, 0.98, 0.98, 0.98, 0.98, 0.98, 0.98,\n",
       "        0.98, 0.98, 0.98, 0.96, 0.98, 0.96, 0.98, 0.96, 0.98, 0.96, 0.98,\n",
       "        0.96, 0.98, 0.96, 0.98, 0.96, 0.98, 0.96, 0.98, 0.96, 0.98, 0.96,\n",
       "        0.98, 0.96, 0.98, 0.96, 0.98, 0.96, 0.98, 0.98, 0.98, 0.98, 0.98,\n",
       "        0.98, 0.98, 0.98, 0.98, 0.98, 0.98, 0.98, 0.98, 0.96, 0.98, 0.96,\n",
       "        0.98, 0.96, 0.98, 0.96, 0.98, 0.96, 0.98, 0.96, 0.98, 0.96, 0.98,\n",
       "        0.96, 0.98, 0.96, 0.98, 0.96, 0.98, 0.96, 0.98, 0.96, 0.98, 0.96,\n",
       "        0.98, 0.98, 0.98, 0.98, 0.98, 0.98, 0.98, 0.98, 0.98, 0.98, 0.98,\n",
       "        0.98, 0.98, 0.96, 0.98, 0.96, 0.98, 0.96, 0.98, 0.96, 0.98, 0.96,\n",
       "        0.98, 0.96, 0.98, 0.96, 0.98, 0.96, 0.98, 0.96, 0.98, 0.96, 0.98,\n",
       "        0.96, 0.98, 0.96, 0.98]),\n",
       " 'split1_test_score': array([0.94, 0.94, 0.96, 0.96, 1.  , 0.96, 0.98, 0.96, 0.98, 1.  , 0.98,\n",
       "        0.98, 0.98, 1.  , 1.  , 0.98, 1.  , 1.  , 1.  , 1.  , 1.  , 1.  ,\n",
       "        0.96, 0.96, 0.96, 0.96, 0.96, 0.96, 0.98, 0.98, 0.96, 0.96, 0.96,\n",
       "        0.96, 0.96, 0.96, 0.92, 0.98, 0.94, 0.94, 0.96, 0.96, 1.  , 0.96,\n",
       "        0.98, 0.96, 0.98, 1.  , 0.98, 0.98, 0.98, 1.  , 1.  , 0.98, 1.  ,\n",
       "        1.  , 1.  , 1.  , 1.  , 1.  , 0.96, 0.96, 0.96, 0.96, 0.96, 0.96,\n",
       "        0.98, 0.98, 0.96, 0.96, 0.96, 0.96, 0.96, 0.96, 0.92, 0.98, 0.94,\n",
       "        0.94, 0.96, 0.96, 1.  , 0.96, 0.98, 0.96, 0.98, 1.  , 0.98, 0.98,\n",
       "        0.98, 1.  , 1.  , 0.98, 1.  , 1.  , 1.  , 1.  , 1.  , 1.  , 0.96,\n",
       "        0.96, 0.96, 0.96, 0.96, 0.96, 0.98, 0.98, 0.96, 0.96, 0.96, 0.96,\n",
       "        0.96, 0.96, 0.92, 0.98]),\n",
       " 'split2_test_score': array([0.94, 0.96, 0.98, 0.98, 0.98, 0.98, 0.98, 0.98, 0.96, 0.98, 0.96,\n",
       "        0.98, 0.94, 0.98, 0.96, 0.96, 0.94, 0.98, 0.94, 0.96, 0.94, 0.98,\n",
       "        0.96, 0.96, 0.94, 0.96, 0.94, 0.96, 0.94, 0.98, 0.96, 0.96, 0.94,\n",
       "        0.96, 0.94, 0.94, 0.96, 0.96, 0.94, 0.96, 0.98, 0.98, 0.98, 0.98,\n",
       "        0.98, 0.98, 0.96, 0.98, 0.96, 0.98, 0.94, 0.98, 0.96, 0.96, 0.94,\n",
       "        0.98, 0.94, 0.96, 0.94, 0.98, 0.96, 0.96, 0.94, 0.96, 0.94, 0.96,\n",
       "        0.94, 0.98, 0.96, 0.96, 0.94, 0.96, 0.94, 0.94, 0.96, 0.96, 0.94,\n",
       "        0.96, 0.98, 0.98, 0.96, 0.98, 0.96, 0.98, 0.96, 0.98, 0.98, 0.98,\n",
       "        0.94, 0.98, 0.96, 0.96, 0.94, 0.98, 0.94, 0.96, 0.94, 0.98, 0.94,\n",
       "        0.96, 0.94, 0.96, 0.94, 0.96, 0.94, 0.98, 0.96, 0.96, 0.94, 0.96,\n",
       "        0.94, 0.94, 0.96, 0.96]),\n",
       " 'mean_test_score': array([0.94666667, 0.96      , 0.97333333, 0.97333333, 0.98666667,\n",
       "        0.97333333, 0.98      , 0.97333333, 0.97333333, 0.98666667,\n",
       "        0.97333333, 0.98      , 0.96666667, 0.98666667, 0.97333333,\n",
       "        0.97333333, 0.96666667, 0.98666667, 0.96666667, 0.98      ,\n",
       "        0.96666667, 0.98666667, 0.96      , 0.96666667, 0.95333333,\n",
       "        0.96666667, 0.95333333, 0.96666667, 0.96      , 0.98      ,\n",
       "        0.96      , 0.96666667, 0.95333333, 0.96666667, 0.95333333,\n",
       "        0.96      , 0.94666667, 0.97333333, 0.94666667, 0.96      ,\n",
       "        0.97333333, 0.97333333, 0.98666667, 0.97333333, 0.98      ,\n",
       "        0.97333333, 0.97333333, 0.98666667, 0.97333333, 0.98      ,\n",
       "        0.96666667, 0.98666667, 0.97333333, 0.97333333, 0.96666667,\n",
       "        0.98666667, 0.96666667, 0.98      , 0.96666667, 0.98666667,\n",
       "        0.96      , 0.96666667, 0.95333333, 0.96666667, 0.95333333,\n",
       "        0.96666667, 0.96      , 0.98      , 0.96      , 0.96666667,\n",
       "        0.95333333, 0.96666667, 0.95333333, 0.96      , 0.94666667,\n",
       "        0.97333333, 0.94666667, 0.96      , 0.97333333, 0.97333333,\n",
       "        0.98      , 0.97333333, 0.97333333, 0.97333333, 0.97333333,\n",
       "        0.98666667, 0.98      , 0.98      , 0.96666667, 0.98666667,\n",
       "        0.97333333, 0.97333333, 0.96666667, 0.98666667, 0.96666667,\n",
       "        0.98      , 0.96666667, 0.98666667, 0.95333333, 0.96666667,\n",
       "        0.95333333, 0.96666667, 0.95333333, 0.96666667, 0.96      ,\n",
       "        0.98      , 0.96      , 0.96666667, 0.95333333, 0.96666667,\n",
       "        0.95333333, 0.96      , 0.94666667, 0.97333333]),\n",
       " 'std_test_score': array([0.00942809, 0.01632993, 0.00942809, 0.00942809, 0.00942809,\n",
       "        0.00942809, 0.        , 0.00942809, 0.00942809, 0.00942809,\n",
       "        0.00942809, 0.        , 0.01885618, 0.00942809, 0.01885618,\n",
       "        0.00942809, 0.02494438, 0.00942809, 0.02494438, 0.01632993,\n",
       "        0.02494438, 0.00942809, 0.        , 0.00942809, 0.00942809,\n",
       "        0.00942809, 0.00942809, 0.00942809, 0.01632993, 0.        ,\n",
       "        0.        , 0.00942809, 0.00942809, 0.00942809, 0.00942809,\n",
       "        0.01632993, 0.01885618, 0.00942809, 0.00942809, 0.01632993,\n",
       "        0.00942809, 0.00942809, 0.00942809, 0.00942809, 0.        ,\n",
       "        0.00942809, 0.00942809, 0.00942809, 0.00942809, 0.        ,\n",
       "        0.01885618, 0.00942809, 0.01885618, 0.00942809, 0.02494438,\n",
       "        0.00942809, 0.02494438, 0.01632993, 0.02494438, 0.00942809,\n",
       "        0.        , 0.00942809, 0.00942809, 0.00942809, 0.00942809,\n",
       "        0.00942809, 0.01632993, 0.        , 0.        , 0.00942809,\n",
       "        0.00942809, 0.00942809, 0.00942809, 0.01632993, 0.01885618,\n",
       "        0.00942809, 0.00942809, 0.01632993, 0.00942809, 0.00942809,\n",
       "        0.01632993, 0.00942809, 0.00942809, 0.00942809, 0.00942809,\n",
       "        0.00942809, 0.        , 0.        , 0.01885618, 0.00942809,\n",
       "        0.01885618, 0.00942809, 0.02494438, 0.00942809, 0.02494438,\n",
       "        0.01632993, 0.02494438, 0.00942809, 0.00942809, 0.00942809,\n",
       "        0.00942809, 0.00942809, 0.00942809, 0.00942809, 0.01632993,\n",
       "        0.        , 0.        , 0.00942809, 0.00942809, 0.00942809,\n",
       "        0.00942809, 0.01632993, 0.01885618, 0.00942809]),\n",
       " 'rank_test_score': array([109,  82,  28,  28,   1,  28,  15,  28,  28,   1,  28,  15,  55,\n",
       "          1,  28,  28,  55,   1,  55,  15,  55,   1,  82,  55,  96,  55,\n",
       "         96,  55,  82,  15,  82,  55,  96,  55,  96,  82, 109,  28, 109,\n",
       "         82,  28,  28,   1,  28,  15,  28,  28,   1,  28,  15,  55,   1,\n",
       "         28,  28,  55,   1,  55,  15,  55,   1,  82,  55,  96,  55,  96,\n",
       "         55,  82,  15,  82,  55,  96,  55,  96,  82, 109,  28, 109,  82,\n",
       "         28,  28,  15,  28,  28,  28,  28,   1,  15,  15,  55,   1,  28,\n",
       "         28,  55,   1,  55,  15,  55,   1,  96,  55,  96,  55,  96,  55,\n",
       "         82,  15,  82,  55,  96,  55,  96,  82, 109,  28])}"
      ]
     },
     "execution_count": 40,
     "metadata": {},
     "output_type": "execute_result"
    }
   ],
   "source": [
    "clf.cv_results_"
   ]
  },
  {
   "cell_type": "code",
   "execution_count": 41,
   "metadata": {},
   "outputs": [
    {
     "data": {
      "text/plain": [
       "KNeighborsClassifier(algorithm='ball_tree', n_neighbors=4)"
      ]
     },
     "execution_count": 41,
     "metadata": {},
     "output_type": "execute_result"
    }
   ],
   "source": [
    "clf.best_estimator_"
   ]
  },
  {
   "cell_type": "code",
   "execution_count": 42,
   "metadata": {},
   "outputs": [
    {
     "data": {
      "text/plain": [
       "0.9866666666666667"
      ]
     },
     "execution_count": 42,
     "metadata": {},
     "output_type": "execute_result"
    }
   ],
   "source": [
    "clf.best_score_"
   ]
  },
  {
   "cell_type": "code",
   "execution_count": 43,
   "metadata": {},
   "outputs": [
    {
     "data": {
      "text/plain": [
       "{'algorithm': 'ball_tree', 'n_neighbors': 4, 'weights': 'uniform'}"
      ]
     },
     "execution_count": 43,
     "metadata": {},
     "output_type": "execute_result"
    }
   ],
   "source": [
    "clf.best_params_"
   ]
  },
  {
   "cell_type": "code",
   "execution_count": 44,
   "metadata": {},
   "outputs": [
    {
     "data": {
      "text/plain": [
       "4"
      ]
     },
     "execution_count": 44,
     "metadata": {},
     "output_type": "execute_result"
    }
   ],
   "source": [
    "clf.best_index_"
   ]
  },
  {
   "cell_type": "code",
   "execution_count": 45,
   "metadata": {},
   "outputs": [
    {
     "data": {
      "text/plain": [
       "3"
      ]
     },
     "execution_count": 45,
     "metadata": {},
     "output_type": "execute_result"
    }
   ],
   "source": [
    "clf.n_splits_"
   ]
  },
  {
   "cell_type": "markdown",
   "metadata": {},
   "source": [
    "### method3: RandomSearchCV"
   ]
  },
  {
   "cell_type": "code",
   "execution_count": 46,
   "metadata": {},
   "outputs": [],
   "source": [
    "from sklearn.model_selection import RandomizedSearchCV\n",
    "\n",
    "knn_rand_model = RandomizedSearchCV(knn_model, param_grid, random_state=seed, cv=5)"
   ]
  },
  {
   "cell_type": "code",
   "execution_count": 47,
   "metadata": {},
   "outputs": [
    {
     "data": {
      "text/plain": [
       "RandomizedSearchCV(cv=5, estimator=KNeighborsClassifier(n_neighbors=8),\n",
       "                   param_distributions={'algorithm': ['ball_tree', 'kd_tree',\n",
       "                                                      'brute'],\n",
       "                                        'n_neighbors': [2, 3, 4, 5, 6, 7, 8, 9,\n",
       "                                                        10, 11, 12, 13, 14, 15,\n",
       "                                                        16, 17, 18, 19, 20],\n",
       "                                        'weights': ['uniform', 'distance']},\n",
       "                   random_state=42)"
      ]
     },
     "execution_count": 47,
     "metadata": {},
     "output_type": "execute_result"
    }
   ],
   "source": [
    "knn_rand_model.fit(X,y)"
   ]
  },
  {
   "cell_type": "code",
   "execution_count": 48,
   "metadata": {},
   "outputs": [
    {
     "data": {
      "text/plain": [
       "{'weights': 'uniform', 'n_neighbors': 7, 'algorithm': 'ball_tree'}"
      ]
     },
     "execution_count": 48,
     "metadata": {},
     "output_type": "execute_result"
    }
   ],
   "source": [
    "knn_rand_model.best_params_"
   ]
  },
  {
   "cell_type": "code",
   "execution_count": 49,
   "metadata": {},
   "outputs": [
    {
     "data": {
      "text/plain": [
       "0.9800000000000001"
      ]
     },
     "execution_count": 49,
     "metadata": {},
     "output_type": "execute_result"
    }
   ],
   "source": [
    "knn_rand_model.best_score_"
   ]
  },
  {
   "cell_type": "markdown",
   "metadata": {},
   "source": [
    "#### final accuracy score"
   ]
  },
  {
   "cell_type": "code",
   "execution_count": 50,
   "metadata": {},
   "outputs": [],
   "source": [
    "knn_final_model = KNeighborsClassifier(n_neighbors=7, weights='uniform', algorithm='ball_tree', leaf_size=30, p=2, metric='minkowski', metric_params=None, n_jobs=None)"
   ]
  },
  {
   "cell_type": "code",
   "execution_count": 51,
   "metadata": {},
   "outputs": [
    {
     "data": {
      "text/plain": [
       "KNeighborsClassifier(algorithm='ball_tree', n_neighbors=7)"
      ]
     },
     "execution_count": 51,
     "metadata": {},
     "output_type": "execute_result"
    }
   ],
   "source": [
    "knn_final_model.fit(X_train, y_train)         # here we are using 105 records for training and 45 records for testing "
   ]
  },
  {
   "cell_type": "code",
   "execution_count": 52,
   "metadata": {},
   "outputs": [
    {
     "data": {
      "text/plain": [
       "array([2, 1, 2, 1, 2, 2, 1, 1, 0, 2, 0, 0, 2, 2, 0, 2, 1, 0, 0, 0, 1, 0,\n",
       "       1, 2, 1, 1, 1, 1, 1, 0, 2, 2, 1, 0, 2, 0, 0, 0, 0, 1, 1, 0, 1, 2,\n",
       "       1], dtype=int64)"
      ]
     },
     "execution_count": 52,
     "metadata": {},
     "output_type": "execute_result"
    }
   ],
   "source": [
    "y_test_pred = knn_final_model.predict(X_test)\n",
    "y_test_pred"
   ]
  },
  {
   "cell_type": "code",
   "execution_count": 53,
   "metadata": {},
   "outputs": [
    {
     "data": {
      "text/plain": [
       "array([2, 1, 2, 1, 2, 2, 1, 1, 0, 2, 0, 0, 2, 2, 0, 2, 1, 0, 0, 0, 1, 0,\n",
       "       1, 2, 2, 1, 1, 1, 1, 0, 2, 2, 1, 0, 2, 0, 0, 0, 0, 1, 1, 0, 2, 2,\n",
       "       1], dtype=int64)"
      ]
     },
     "execution_count": 53,
     "metadata": {},
     "output_type": "execute_result"
    }
   ],
   "source": [
    "y_test"
   ]
  },
  {
   "cell_type": "code",
   "execution_count": 54,
   "metadata": {},
   "outputs": [
    {
     "data": {
      "text/plain": [
       "0.9555555555555556"
      ]
     },
     "execution_count": 54,
     "metadata": {},
     "output_type": "execute_result"
    }
   ],
   "source": [
    "accuracy_score(y_test_pred, y_test)"
   ]
  },
  {
   "cell_type": "markdown",
   "metadata": {},
   "source": [
    "### Step9: save the model"
   ]
  },
  {
   "cell_type": "code",
   "execution_count": 55,
   "metadata": {},
   "outputs": [],
   "source": [
    "import pickle\n",
    "\n",
    "filename='knn_best_model.pkl'\n",
    "pickle.dump(knn_final_model, open(filename, 'wb'))"
   ]
  },
  {
   "cell_type": "markdown",
   "metadata": {},
   "source": [
    "### Step10: load the model"
   ]
  },
  {
   "cell_type": "code",
   "execution_count": 56,
   "metadata": {},
   "outputs": [
    {
     "data": {
      "text/plain": [
       "'E:\\\\code\\\\6.MachineLearning\\\\1_KNN_algorithm'"
      ]
     },
     "execution_count": 56,
     "metadata": {},
     "output_type": "execute_result"
    }
   ],
   "source": [
    "import os\n",
    "\n",
    "os.getcwd()"
   ]
  },
  {
   "cell_type": "code",
   "execution_count": 57,
   "metadata": {},
   "outputs": [],
   "source": [
    "import pickle\n",
    "\n",
    "filename='knn_best_model.pkl'\n",
    "loaded_model = pickle.load(open(filename, 'rb'))"
   ]
  },
  {
   "cell_type": "code",
   "execution_count": 58,
   "metadata": {},
   "outputs": [
    {
     "data": {
      "text/plain": [
       "array([0], dtype=int64)"
      ]
     },
     "execution_count": 58,
     "metadata": {},
     "output_type": "execute_result"
    }
   ],
   "source": [
    "a = loaded_model.predict([[5.0,3.4,1.5,0.2]])\n",
    "a"
   ]
  },
  {
   "cell_type": "code",
   "execution_count": 59,
   "metadata": {},
   "outputs": [
    {
     "data": {
      "text/plain": [
       "(array([0, 1, 2], dtype=int64),\n",
       " array([0, 0, 0, 0, 0, 0, 0, 0, 0, 0, 0, 0, 0, 0, 0, 0, 0, 0, 0, 0, 0, 0,\n",
       "        0, 0, 0, 0, 0, 0, 0, 0, 0, 0, 0, 0, 0, 0, 0, 0, 0, 0, 0, 0, 0, 0,\n",
       "        0, 0, 0, 0, 0, 0, 1, 1, 1, 1, 1, 1, 1, 1, 1, 1, 1, 1, 1, 1, 1, 1,\n",
       "        1, 1, 1, 1, 1, 1, 1, 1, 1, 1, 1, 1, 1, 1, 1, 1, 1, 1, 1, 1, 1, 1,\n",
       "        1, 1, 1, 1, 1, 1, 1, 1, 1, 1, 1, 1, 2, 2, 2, 2, 2, 2, 2, 2, 2, 2,\n",
       "        2, 2, 2, 2, 2, 2, 2, 2, 2, 2, 2, 2, 2, 2, 2, 2, 2, 2, 2, 2, 2, 2,\n",
       "        2, 2, 2, 2, 2, 2, 2, 2, 2, 2, 2, 2, 2, 2, 2, 2, 2, 2], dtype=int64))"
      ]
     },
     "execution_count": 59,
     "metadata": {},
     "output_type": "execute_result"
    }
   ],
   "source": [
    "np.unique(y, return_inverse=True)"
   ]
  },
  {
   "cell_type": "code",
   "execution_count": 60,
   "metadata": {},
   "outputs": [
    {
     "name": "stderr",
     "output_type": "stream",
     "text": [
      "C:\\Users\\LENOVO\\Anaconda3\\lib\\site-packages\\ipykernel_launcher.py:4: FutureWarning: elementwise comparison failed; returning scalar instead, but in the future will perform elementwise comparison\n",
      "  after removing the cwd from sys.path.\n"
     ]
    },
    {
     "data": {
      "text/plain": [
       "array(['0', '1', '2'], dtype='<U11')"
      ]
     },
     "execution_count": 60,
     "metadata": {},
     "output_type": "execute_result"
    }
   ],
   "source": [
    "import numpy as np\n",
    "\n",
    "array1 = np.array([0,1,2])\n",
    "b = np.where(a==[\"0\",\"1\",\"2\"],[\"setosa\",\"virginica\",\"versicolor\"],array1)\n",
    "b"
   ]
  },
  {
   "cell_type": "markdown",
   "metadata": {},
   "source": [
    "#### for More: https://scikit-learn.org/stable/modules/neighbors.html\n",
    "#### for more: https://www.kaggle.com/dkim1992/grid-search-vs-random-search"
   ]
  },
  {
   "cell_type": "code",
   "execution_count": null,
   "metadata": {},
   "outputs": [],
   "source": []
  }
 ],
 "metadata": {
  "kernelspec": {
   "display_name": "Python 3",
   "language": "python",
   "name": "python3"
  },
  "language_info": {
   "codemirror_mode": {
    "name": "ipython",
    "version": 3
   },
   "file_extension": ".py",
   "mimetype": "text/x-python",
   "name": "python",
   "nbconvert_exporter": "python",
   "pygments_lexer": "ipython3",
   "version": "3.6.5"
  }
 },
 "nbformat": 4,
 "nbformat_minor": 2
}
